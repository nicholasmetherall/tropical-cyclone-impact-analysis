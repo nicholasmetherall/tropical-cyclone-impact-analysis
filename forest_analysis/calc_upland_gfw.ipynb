{
 "cells": [
  {
   "cell_type": "code",
   "execution_count": 1,
   "id": "02ada761-7945-47d9-a6d1-cbd084aaa233",
   "metadata": {},
   "outputs": [],
   "source": [
    "# Fiji - upland and lowland forest analysis"
   ]
  },
  {
   "cell_type": "code",
   "execution_count": 2,
   "id": "5b291cb2-88e2-4dd3-a1fb-2829254f361d",
   "metadata": {},
   "outputs": [
    {
     "name": "stderr",
     "output_type": "stream",
     "text": [
      "/tmp/ipykernel_1149/3549200142.py:5: DeprecationWarning: datacube.utils.geometry is now deprecated. Please use the odc-geo library instead.\n",
      "  from datacube.utils.geometry import assign_crs\n"
     ]
    }
   ],
   "source": [
    "import dask.array as da\n",
    "import joblib\n",
    "import xarray as xr\n",
    "from dask_ml.wrappers import ParallelPostFit\n",
    "from datacube.utils.geometry import assign_crs\n",
    "from xarray import Dataset\n",
    "from pystac_client import Client\n",
    "from odc.stac import load\n",
    "import os\n",
    "import rasterio as rio\n",
    "import numpy as np\n",
    "import matplotlib.pyplot as plt\n",
    "import matplotlib.patches as mpatches\n",
    "from rasterio.transform import from_origin\n",
    "from matplotlib.colors import ListedColormap\n",
    "from planetary_computer import sign_url\n",
    "from rasterio.warp import reproject, Resampling\n",
    "import rioxarray as rioxr"
   ]
  },
  {
   "cell_type": "code",
   "execution_count": 3,
   "id": "36e3e4b5-affa-4a2a-a9a9-31628a7e84e5",
   "metadata": {},
   "outputs": [],
   "source": [
    "DEP_CATALOG = \"https://stac.digitalearthpacific.org\"\n",
    "# DEP_CATALOG = \"https://stac.staging.digitalearthpacific.io\"\n",
    "MSPC_CATALOG = \"https://planetarycomputer.microsoft.com/api/stac/v1/\""
   ]
  },
  {
   "cell_type": "code",
   "execution_count": 4,
   "id": "c2000a0e-cd56-4500-85e4-3ad05bb05d19",
   "metadata": {},
   "outputs": [],
   "source": [
    "bbox = [177.16629173119162, -18.354349299973833, 179.999999, -16.050585743728993]\n",
    "# bbox = [180, -20.81, 178.15, 12.42]\n",
    "chunks={\"x\": 2048, \"y\": 2048}"
   ]
  },
  {
   "cell_type": "code",
   "execution_count": 5,
   "id": "cbcd9daf-286d-4fd4-9ad7-dff01c5297cf",
   "metadata": {},
   "outputs": [],
   "source": [
    "mspc_client = Client.open(\"https://planetarycomputer.microsoft.com/api/stac/v1/\")\n",
    "\n",
    "# Get a pystac client for the MSPC\n",
    "items_dem = list(mspc_client.search(collections=[\"cop-dem-glo-30\"], bbox=bbox).items())\n"
   ]
  },
  {
   "cell_type": "code",
   "execution_count": 6,
   "id": "ab813f12-04fc-442c-bed2-2c403ce2587e",
   "metadata": {},
   "outputs": [],
   "source": [
    "data = load(items_dem, measurements=\"data\",\n",
    "        bbox=bbox,\n",
    "        chunks={\"x\": 2048, \"y\": 2048},\n",
    "        groupby=\"solar_day\",\n",
    "    )"
   ]
  },
  {
   "cell_type": "code",
   "execution_count": 7,
   "id": "7cf263c8-31ce-4c19-8821-d9bc6dfc5d00",
   "metadata": {},
   "outputs": [],
   "source": [
    "data_dem = load(items_dem, chunks=chunks, groupby=\"solar_day\", like=data, patch_url=sign_url)"
   ]
  },
  {
   "cell_type": "code",
   "execution_count": 8,
   "id": "f835872d-dfe6-4ac7-bc19-a666354ca5ac",
   "metadata": {},
   "outputs": [
    {
     "data": {
      "text/html": [
       "<div><svg style=\"position: absolute; width: 0; height: 0; overflow: hidden\">\n",
       "<defs>\n",
       "<symbol id=\"icon-database\" viewBox=\"0 0 32 32\">\n",
       "<path d=\"M16 0c-8.837 0-16 2.239-16 5v4c0 2.761 7.163 5 16 5s16-2.239 16-5v-4c0-2.761-7.163-5-16-5z\"></path>\n",
       "<path d=\"M16 17c-8.837 0-16-2.239-16-5v6c0 2.761 7.163 5 16 5s16-2.239 16-5v-6c0 2.761-7.163 5-16 5z\"></path>\n",
       "<path d=\"M16 26c-8.837 0-16-2.239-16-5v6c0 2.761 7.163 5 16 5s16-2.239 16-5v-6c0 2.761-7.163 5-16 5z\"></path>\n",
       "</symbol>\n",
       "<symbol id=\"icon-file-text2\" viewBox=\"0 0 32 32\">\n",
       "<path d=\"M28.681 7.159c-0.694-0.947-1.662-2.053-2.724-3.116s-2.169-2.030-3.116-2.724c-1.612-1.182-2.393-1.319-2.841-1.319h-15.5c-1.378 0-2.5 1.121-2.5 2.5v27c0 1.378 1.122 2.5 2.5 2.5h23c1.378 0 2.5-1.122 2.5-2.5v-19.5c0-0.448-0.137-1.23-1.319-2.841zM24.543 5.457c0.959 0.959 1.712 1.825 2.268 2.543h-4.811v-4.811c0.718 0.556 1.584 1.309 2.543 2.268zM28 29.5c0 0.271-0.229 0.5-0.5 0.5h-23c-0.271 0-0.5-0.229-0.5-0.5v-27c0-0.271 0.229-0.5 0.5-0.5 0 0 15.499-0 15.5 0v7c0 0.552 0.448 1 1 1h7v19.5z\"></path>\n",
       "<path d=\"M23 26h-14c-0.552 0-1-0.448-1-1s0.448-1 1-1h14c0.552 0 1 0.448 1 1s-0.448 1-1 1z\"></path>\n",
       "<path d=\"M23 22h-14c-0.552 0-1-0.448-1-1s0.448-1 1-1h14c0.552 0 1 0.448 1 1s-0.448 1-1 1z\"></path>\n",
       "<path d=\"M23 18h-14c-0.552 0-1-0.448-1-1s0.448-1 1-1h14c0.552 0 1 0.448 1 1s-0.448 1-1 1z\"></path>\n",
       "</symbol>\n",
       "</defs>\n",
       "</svg>\n",
       "<style>/* CSS stylesheet for displaying xarray objects in jupyterlab.\n",
       " *\n",
       " */\n",
       "\n",
       ":root {\n",
       "  --xr-font-color0: var(\n",
       "    --jp-content-font-color0,\n",
       "    var(--pst-color-text-base rgba(0, 0, 0, 1))\n",
       "  );\n",
       "  --xr-font-color2: var(\n",
       "    --jp-content-font-color2,\n",
       "    var(--pst-color-text-base, rgba(0, 0, 0, 0.54))\n",
       "  );\n",
       "  --xr-font-color3: var(\n",
       "    --jp-content-font-color3,\n",
       "    var(--pst-color-text-base, rgba(0, 0, 0, 0.38))\n",
       "  );\n",
       "  --xr-border-color: var(\n",
       "    --jp-border-color2,\n",
       "    hsl(from var(--pst-color-on-background, white) h s calc(l - 10))\n",
       "  );\n",
       "  --xr-disabled-color: var(\n",
       "    --jp-layout-color3,\n",
       "    hsl(from var(--pst-color-on-background, white) h s calc(l - 40))\n",
       "  );\n",
       "  --xr-background-color: var(\n",
       "    --jp-layout-color0,\n",
       "    var(--pst-color-on-background, white)\n",
       "  );\n",
       "  --xr-background-color-row-even: var(\n",
       "    --jp-layout-color1,\n",
       "    hsl(from var(--pst-color-on-background, white) h s calc(l - 5))\n",
       "  );\n",
       "  --xr-background-color-row-odd: var(\n",
       "    --jp-layout-color2,\n",
       "    hsl(from var(--pst-color-on-background, white) h s calc(l - 15))\n",
       "  );\n",
       "}\n",
       "\n",
       "html[theme=\"dark\"],\n",
       "html[data-theme=\"dark\"],\n",
       "body[data-theme=\"dark\"],\n",
       "body.vscode-dark {\n",
       "  --xr-font-color0: var(\n",
       "    --jp-content-font-color0,\n",
       "    var(--pst-color-text-base, rgba(255, 255, 255, 1))\n",
       "  );\n",
       "  --xr-font-color2: var(\n",
       "    --jp-content-font-color2,\n",
       "    var(--pst-color-text-base, rgba(255, 255, 255, 0.54))\n",
       "  );\n",
       "  --xr-font-color3: var(\n",
       "    --jp-content-font-color3,\n",
       "    var(--pst-color-text-base, rgba(255, 255, 255, 0.38))\n",
       "  );\n",
       "  --xr-border-color: var(\n",
       "    --jp-border-color2,\n",
       "    hsl(from var(--pst-color-on-background, #111111) h s calc(l + 10))\n",
       "  );\n",
       "  --xr-disabled-color: var(\n",
       "    --jp-layout-color3,\n",
       "    hsl(from var(--pst-color-on-background, #111111) h s calc(l + 40))\n",
       "  );\n",
       "  --xr-background-color: var(\n",
       "    --jp-layout-color0,\n",
       "    var(--pst-color-on-background, #111111)\n",
       "  );\n",
       "  --xr-background-color-row-even: var(\n",
       "    --jp-layout-color1,\n",
       "    hsl(from var(--pst-color-on-background, #111111) h s calc(l + 5))\n",
       "  );\n",
       "  --xr-background-color-row-odd: var(\n",
       "    --jp-layout-color2,\n",
       "    hsl(from var(--pst-color-on-background, #111111) h s calc(l + 15))\n",
       "  );\n",
       "}\n",
       "\n",
       ".xr-wrap {\n",
       "  display: block !important;\n",
       "  min-width: 300px;\n",
       "  max-width: 700px;\n",
       "}\n",
       "\n",
       ".xr-text-repr-fallback {\n",
       "  /* fallback to plain text repr when CSS is not injected (untrusted notebook) */\n",
       "  display: none;\n",
       "}\n",
       "\n",
       ".xr-header {\n",
       "  padding-top: 6px;\n",
       "  padding-bottom: 6px;\n",
       "  margin-bottom: 4px;\n",
       "  border-bottom: solid 1px var(--xr-border-color);\n",
       "}\n",
       "\n",
       ".xr-header > div,\n",
       ".xr-header > ul {\n",
       "  display: inline;\n",
       "  margin-top: 0;\n",
       "  margin-bottom: 0;\n",
       "}\n",
       "\n",
       ".xr-obj-type,\n",
       ".xr-array-name {\n",
       "  margin-left: 2px;\n",
       "  margin-right: 10px;\n",
       "}\n",
       "\n",
       ".xr-obj-type {\n",
       "  color: var(--xr-font-color2);\n",
       "}\n",
       "\n",
       ".xr-sections {\n",
       "  padding-left: 0 !important;\n",
       "  display: grid;\n",
       "  grid-template-columns: 150px auto auto 1fr 0 20px 0 20px;\n",
       "}\n",
       "\n",
       ".xr-section-item {\n",
       "  display: contents;\n",
       "}\n",
       "\n",
       ".xr-section-item input {\n",
       "  display: inline-block;\n",
       "  opacity: 0;\n",
       "  height: 0;\n",
       "}\n",
       "\n",
       ".xr-section-item input + label {\n",
       "  color: var(--xr-disabled-color);\n",
       "  border: 2px solid transparent !important;\n",
       "}\n",
       "\n",
       ".xr-section-item input:enabled + label {\n",
       "  cursor: pointer;\n",
       "  color: var(--xr-font-color2);\n",
       "}\n",
       "\n",
       ".xr-section-item input:focus + label {\n",
       "  border: 2px solid var(--xr-font-color0) !important;\n",
       "}\n",
       "\n",
       ".xr-section-item input:enabled + label:hover {\n",
       "  color: var(--xr-font-color0);\n",
       "}\n",
       "\n",
       ".xr-section-summary {\n",
       "  grid-column: 1;\n",
       "  color: var(--xr-font-color2);\n",
       "  font-weight: 500;\n",
       "}\n",
       "\n",
       ".xr-section-summary > span {\n",
       "  display: inline-block;\n",
       "  padding-left: 0.5em;\n",
       "}\n",
       "\n",
       ".xr-section-summary-in:disabled + label {\n",
       "  color: var(--xr-font-color2);\n",
       "}\n",
       "\n",
       ".xr-section-summary-in + label:before {\n",
       "  display: inline-block;\n",
       "  content: \"►\";\n",
       "  font-size: 11px;\n",
       "  width: 15px;\n",
       "  text-align: center;\n",
       "}\n",
       "\n",
       ".xr-section-summary-in:disabled + label:before {\n",
       "  color: var(--xr-disabled-color);\n",
       "}\n",
       "\n",
       ".xr-section-summary-in:checked + label:before {\n",
       "  content: \"▼\";\n",
       "}\n",
       "\n",
       ".xr-section-summary-in:checked + label > span {\n",
       "  display: none;\n",
       "}\n",
       "\n",
       ".xr-section-summary,\n",
       ".xr-section-inline-details {\n",
       "  padding-top: 4px;\n",
       "  padding-bottom: 4px;\n",
       "}\n",
       "\n",
       ".xr-section-inline-details {\n",
       "  grid-column: 2 / -1;\n",
       "}\n",
       "\n",
       ".xr-section-details {\n",
       "  display: none;\n",
       "  grid-column: 1 / -1;\n",
       "  margin-bottom: 5px;\n",
       "}\n",
       "\n",
       ".xr-section-summary-in:checked ~ .xr-section-details {\n",
       "  display: contents;\n",
       "}\n",
       "\n",
       ".xr-array-wrap {\n",
       "  grid-column: 1 / -1;\n",
       "  display: grid;\n",
       "  grid-template-columns: 20px auto;\n",
       "}\n",
       "\n",
       ".xr-array-wrap > label {\n",
       "  grid-column: 1;\n",
       "  vertical-align: top;\n",
       "}\n",
       "\n",
       ".xr-preview {\n",
       "  color: var(--xr-font-color3);\n",
       "}\n",
       "\n",
       ".xr-array-preview,\n",
       ".xr-array-data {\n",
       "  padding: 0 5px !important;\n",
       "  grid-column: 2;\n",
       "}\n",
       "\n",
       ".xr-array-data,\n",
       ".xr-array-in:checked ~ .xr-array-preview {\n",
       "  display: none;\n",
       "}\n",
       "\n",
       ".xr-array-in:checked ~ .xr-array-data,\n",
       ".xr-array-preview {\n",
       "  display: inline-block;\n",
       "}\n",
       "\n",
       ".xr-dim-list {\n",
       "  display: inline-block !important;\n",
       "  list-style: none;\n",
       "  padding: 0 !important;\n",
       "  margin: 0;\n",
       "}\n",
       "\n",
       ".xr-dim-list li {\n",
       "  display: inline-block;\n",
       "  padding: 0;\n",
       "  margin: 0;\n",
       "}\n",
       "\n",
       ".xr-dim-list:before {\n",
       "  content: \"(\";\n",
       "}\n",
       "\n",
       ".xr-dim-list:after {\n",
       "  content: \")\";\n",
       "}\n",
       "\n",
       ".xr-dim-list li:not(:last-child):after {\n",
       "  content: \",\";\n",
       "  padding-right: 5px;\n",
       "}\n",
       "\n",
       ".xr-has-index {\n",
       "  font-weight: bold;\n",
       "}\n",
       "\n",
       ".xr-var-list,\n",
       ".xr-var-item {\n",
       "  display: contents;\n",
       "}\n",
       "\n",
       ".xr-var-item > div,\n",
       ".xr-var-item label,\n",
       ".xr-var-item > .xr-var-name span {\n",
       "  background-color: var(--xr-background-color-row-even);\n",
       "  border-color: var(--xr-background-color-row-odd);\n",
       "  margin-bottom: 0;\n",
       "  padding-top: 2px;\n",
       "}\n",
       "\n",
       ".xr-var-item > .xr-var-name:hover span {\n",
       "  padding-right: 5px;\n",
       "}\n",
       "\n",
       ".xr-var-list > li:nth-child(odd) > div,\n",
       ".xr-var-list > li:nth-child(odd) > label,\n",
       ".xr-var-list > li:nth-child(odd) > .xr-var-name span {\n",
       "  background-color: var(--xr-background-color-row-odd);\n",
       "  border-color: var(--xr-background-color-row-even);\n",
       "}\n",
       "\n",
       ".xr-var-name {\n",
       "  grid-column: 1;\n",
       "}\n",
       "\n",
       ".xr-var-dims {\n",
       "  grid-column: 2;\n",
       "}\n",
       "\n",
       ".xr-var-dtype {\n",
       "  grid-column: 3;\n",
       "  text-align: right;\n",
       "  color: var(--xr-font-color2);\n",
       "}\n",
       "\n",
       ".xr-var-preview {\n",
       "  grid-column: 4;\n",
       "}\n",
       "\n",
       ".xr-index-preview {\n",
       "  grid-column: 2 / 5;\n",
       "  color: var(--xr-font-color2);\n",
       "}\n",
       "\n",
       ".xr-var-name,\n",
       ".xr-var-dims,\n",
       ".xr-var-dtype,\n",
       ".xr-preview,\n",
       ".xr-attrs dt {\n",
       "  white-space: nowrap;\n",
       "  overflow: hidden;\n",
       "  text-overflow: ellipsis;\n",
       "  padding-right: 10px;\n",
       "}\n",
       "\n",
       ".xr-var-name:hover,\n",
       ".xr-var-dims:hover,\n",
       ".xr-var-dtype:hover,\n",
       ".xr-attrs dt:hover {\n",
       "  overflow: visible;\n",
       "  width: auto;\n",
       "  z-index: 1;\n",
       "}\n",
       "\n",
       ".xr-var-attrs,\n",
       ".xr-var-data,\n",
       ".xr-index-data {\n",
       "  display: none;\n",
       "  border-top: 2px dotted var(--xr-background-color);\n",
       "  padding-bottom: 20px !important;\n",
       "  padding-top: 10px !important;\n",
       "}\n",
       "\n",
       ".xr-var-attrs-in + label,\n",
       ".xr-var-data-in + label,\n",
       ".xr-index-data-in + label {\n",
       "  padding: 0 1px;\n",
       "}\n",
       "\n",
       ".xr-var-attrs-in:checked ~ .xr-var-attrs,\n",
       ".xr-var-data-in:checked ~ .xr-var-data,\n",
       ".xr-index-data-in:checked ~ .xr-index-data {\n",
       "  display: block;\n",
       "}\n",
       "\n",
       ".xr-var-data > table {\n",
       "  float: right;\n",
       "}\n",
       "\n",
       ".xr-var-data > pre,\n",
       ".xr-index-data > pre,\n",
       ".xr-var-data > table > tbody > tr {\n",
       "  background-color: transparent !important;\n",
       "}\n",
       "\n",
       ".xr-var-name span,\n",
       ".xr-var-data,\n",
       ".xr-index-name div,\n",
       ".xr-index-data,\n",
       ".xr-attrs {\n",
       "  padding-left: 25px !important;\n",
       "}\n",
       "\n",
       ".xr-attrs,\n",
       ".xr-var-attrs,\n",
       ".xr-var-data,\n",
       ".xr-index-data {\n",
       "  grid-column: 1 / -1;\n",
       "}\n",
       "\n",
       "dl.xr-attrs {\n",
       "  padding: 0;\n",
       "  margin: 0;\n",
       "  display: grid;\n",
       "  grid-template-columns: 125px auto;\n",
       "}\n",
       "\n",
       ".xr-attrs dt,\n",
       ".xr-attrs dd {\n",
       "  padding: 0;\n",
       "  margin: 0;\n",
       "  float: left;\n",
       "  padding-right: 10px;\n",
       "  width: auto;\n",
       "}\n",
       "\n",
       ".xr-attrs dt {\n",
       "  font-weight: normal;\n",
       "  grid-column: 1;\n",
       "}\n",
       "\n",
       ".xr-attrs dt:hover span {\n",
       "  display: inline-block;\n",
       "  background: var(--xr-background-color);\n",
       "  padding-right: 10px;\n",
       "}\n",
       "\n",
       ".xr-attrs dd {\n",
       "  grid-column: 2;\n",
       "  white-space: pre-wrap;\n",
       "  word-break: break-all;\n",
       "}\n",
       "\n",
       ".xr-icon-database,\n",
       ".xr-icon-file-text2,\n",
       ".xr-no-icon {\n",
       "  display: inline-block;\n",
       "  vertical-align: middle;\n",
       "  width: 1em;\n",
       "  height: 1.5em !important;\n",
       "  stroke-width: 0;\n",
       "  stroke: currentColor;\n",
       "  fill: currentColor;\n",
       "}\n",
       "\n",
       ".xr-var-attrs-in:checked + label > .xr-icon-file-text2,\n",
       ".xr-var-data-in:checked + label > .xr-icon-database,\n",
       ".xr-index-data-in:checked + label > .xr-icon-database {\n",
       "  color: var(--xr-font-color0);\n",
       "  filter: drop-shadow(1px 1px 5px var(--xr-font-color2));\n",
       "  stroke-width: 0.8px;\n",
       "}\n",
       "</style><pre class='xr-text-repr-fallback'>&lt;xarray.Dataset&gt; Size: 339MB\n",
       "Dimensions:      (latitude: 8295, longitude: 10202)\n",
       "Coordinates:\n",
       "  * latitude     (latitude) float64 66kB -16.05 -16.05 -16.05 ... -18.35 -18.35\n",
       "  * longitude    (longitude) float64 82kB 177.2 177.2 177.2 ... 180.0 180.0\n",
       "    spatial_ref  int32 4B 4326\n",
       "    time         datetime64[ns] 8B 2021-04-22\n",
       "Data variables:\n",
       "    elevation    (latitude, longitude) float32 339MB dask.array&lt;chunksize=(2048, 2048), meta=np.ndarray&gt;</pre><div class='xr-wrap' style='display:none'><div class='xr-header'><div class='xr-obj-type'>xarray.Dataset</div></div><ul class='xr-sections'><li class='xr-section-item'><input id='section-98c9089b-008e-4dad-8470-01b8766201c5' class='xr-section-summary-in' type='checkbox' disabled ><label for='section-98c9089b-008e-4dad-8470-01b8766201c5' class='xr-section-summary'  title='Expand/collapse section'>Dimensions:</label><div class='xr-section-inline-details'><ul class='xr-dim-list'><li><span class='xr-has-index'>latitude</span>: 8295</li><li><span class='xr-has-index'>longitude</span>: 10202</li></ul></div><div class='xr-section-details'></div></li><li class='xr-section-item'><input id='section-367f588f-f82d-47c8-9007-63810416d4e3' class='xr-section-summary-in' type='checkbox'  checked><label for='section-367f588f-f82d-47c8-9007-63810416d4e3' class='xr-section-summary' >Coordinates: <span>(4)</span></label><div class='xr-section-inline-details'></div><div class='xr-section-details'><ul class='xr-var-list'><li class='xr-var-item'><div class='xr-var-name'><span class='xr-has-index'>latitude</span></div><div class='xr-var-dims'>(latitude)</div><div class='xr-var-dtype'>float64</div><div class='xr-var-preview xr-preview'>-16.05 -16.05 ... -18.35 -18.35</div><input id='attrs-9aec312a-7fa9-4085-9e04-2231d22fa14e' class='xr-var-attrs-in' type='checkbox' ><label for='attrs-9aec312a-7fa9-4085-9e04-2231d22fa14e' title='Show/Hide attributes'><svg class='icon xr-icon-file-text2'><use xlink:href='#icon-file-text2'></use></svg></label><input id='data-2272584b-9dbe-4989-9c08-8d5e8ce18e03' class='xr-var-data-in' type='checkbox'><label for='data-2272584b-9dbe-4989-9c08-8d5e8ce18e03' title='Show/Hide data repr'><svg class='icon xr-icon-database'><use xlink:href='#icon-database'></use></svg></label><div class='xr-var-attrs'><dl class='xr-attrs'><dt><span>units :</span></dt><dd>degrees_north</dd><dt><span>resolution :</span></dt><dd>-0.0002777777777777778</dd><dt><span>crs :</span></dt><dd>GEOGCRS[&quot;WGS 84&quot;,ENSEMBLE[&quot;World Geodetic System 1984 ensemble&quot;,MEMBER[&quot;World Geodetic System 1984 (Transit)&quot;],MEMBER[&quot;World Geodetic System 1984 (G730)&quot;],MEMBER[&quot;World Geodetic System 1984 (G873)&quot;],MEMBER[&quot;World Geodetic System 1984 (G1150)&quot;],MEMBER[&quot;World Geodetic System 1984 (G1674)&quot;],MEMBER[&quot;World Geodetic System 1984 (G1762)&quot;],MEMBER[&quot;World Geodetic System 1984 (G2139)&quot;],MEMBER[&quot;World Geodetic System 1984 (G2296)&quot;],ELLIPSOID[&quot;WGS 84&quot;,6378137,298.257223563,LENGTHUNIT[&quot;metre&quot;,1]],ENSEMBLEACCURACY[2.0]],PRIMEM[&quot;Greenwich&quot;,0,ANGLEUNIT[&quot;degree&quot;,0.0174532925199433]],CS[ellipsoidal,2],AXIS[&quot;geodetic latitude (Lat)&quot;,north,ORDER[1],ANGLEUNIT[&quot;degree&quot;,0.0174532925199433]],AXIS[&quot;geodetic longitude (Lon)&quot;,east,ORDER[2],ANGLEUNIT[&quot;degree&quot;,0.0174532925199433]],USAGE[SCOPE[&quot;Horizontal component of 3D system.&quot;],AREA[&quot;World.&quot;],BBOX[-90,-180,90,180]],ID[&quot;EPSG&quot;,4326]]</dd></dl></div><div class='xr-var-data'><pre>array([-16.050556, -16.050833, -16.051111, ..., -18.353889, -18.354167,\n",
       "       -18.354444])</pre></div></li><li class='xr-var-item'><div class='xr-var-name'><span class='xr-has-index'>longitude</span></div><div class='xr-var-dims'>(longitude)</div><div class='xr-var-dtype'>float64</div><div class='xr-var-preview xr-preview'>177.2 177.2 177.2 ... 180.0 180.0</div><input id='attrs-5f93c832-f07e-42ab-925d-cb906be0d603' class='xr-var-attrs-in' type='checkbox' ><label for='attrs-5f93c832-f07e-42ab-925d-cb906be0d603' title='Show/Hide attributes'><svg class='icon xr-icon-file-text2'><use xlink:href='#icon-file-text2'></use></svg></label><input id='data-f11feb56-7641-40e1-b258-80e54ca20d1b' class='xr-var-data-in' type='checkbox'><label for='data-f11feb56-7641-40e1-b258-80e54ca20d1b' title='Show/Hide data repr'><svg class='icon xr-icon-database'><use xlink:href='#icon-database'></use></svg></label><div class='xr-var-attrs'><dl class='xr-attrs'><dt><span>units :</span></dt><dd>degrees_east</dd><dt><span>resolution :</span></dt><dd>0.0002777777777777778</dd><dt><span>crs :</span></dt><dd>GEOGCRS[&quot;WGS 84&quot;,ENSEMBLE[&quot;World Geodetic System 1984 ensemble&quot;,MEMBER[&quot;World Geodetic System 1984 (Transit)&quot;],MEMBER[&quot;World Geodetic System 1984 (G730)&quot;],MEMBER[&quot;World Geodetic System 1984 (G873)&quot;],MEMBER[&quot;World Geodetic System 1984 (G1150)&quot;],MEMBER[&quot;World Geodetic System 1984 (G1674)&quot;],MEMBER[&quot;World Geodetic System 1984 (G1762)&quot;],MEMBER[&quot;World Geodetic System 1984 (G2139)&quot;],MEMBER[&quot;World Geodetic System 1984 (G2296)&quot;],ELLIPSOID[&quot;WGS 84&quot;,6378137,298.257223563,LENGTHUNIT[&quot;metre&quot;,1]],ENSEMBLEACCURACY[2.0]],PRIMEM[&quot;Greenwich&quot;,0,ANGLEUNIT[&quot;degree&quot;,0.0174532925199433]],CS[ellipsoidal,2],AXIS[&quot;geodetic latitude (Lat)&quot;,north,ORDER[1],ANGLEUNIT[&quot;degree&quot;,0.0174532925199433]],AXIS[&quot;geodetic longitude (Lon)&quot;,east,ORDER[2],ANGLEUNIT[&quot;degree&quot;,0.0174532925199433]],USAGE[SCOPE[&quot;Horizontal component of 3D system.&quot;],AREA[&quot;World.&quot;],BBOX[-90,-180,90,180]],ID[&quot;EPSG&quot;,4326]]</dd></dl></div><div class='xr-var-data'><pre>array([177.166389, 177.166667, 177.166944, ..., 179.999444, 179.999722,\n",
       "       180.      ])</pre></div></li><li class='xr-var-item'><div class='xr-var-name'><span>spatial_ref</span></div><div class='xr-var-dims'>()</div><div class='xr-var-dtype'>int32</div><div class='xr-var-preview xr-preview'>4326</div><input id='attrs-5855fe66-f65e-4284-9918-2a9de0a7e3f9' class='xr-var-attrs-in' type='checkbox' ><label for='attrs-5855fe66-f65e-4284-9918-2a9de0a7e3f9' title='Show/Hide attributes'><svg class='icon xr-icon-file-text2'><use xlink:href='#icon-file-text2'></use></svg></label><input id='data-d8e7f20a-9e74-4062-8092-9f0188d8ce2b' class='xr-var-data-in' type='checkbox'><label for='data-d8e7f20a-9e74-4062-8092-9f0188d8ce2b' title='Show/Hide data repr'><svg class='icon xr-icon-database'><use xlink:href='#icon-database'></use></svg></label><div class='xr-var-attrs'><dl class='xr-attrs'><dt><span>spatial_ref :</span></dt><dd>GEOGCRS[&quot;WGS 84&quot;,ENSEMBLE[&quot;World Geodetic System 1984 ensemble&quot;,MEMBER[&quot;World Geodetic System 1984 (Transit)&quot;],MEMBER[&quot;World Geodetic System 1984 (G730)&quot;],MEMBER[&quot;World Geodetic System 1984 (G873)&quot;],MEMBER[&quot;World Geodetic System 1984 (G1150)&quot;],MEMBER[&quot;World Geodetic System 1984 (G1674)&quot;],MEMBER[&quot;World Geodetic System 1984 (G1762)&quot;],MEMBER[&quot;World Geodetic System 1984 (G2139)&quot;],MEMBER[&quot;World Geodetic System 1984 (G2296)&quot;],ELLIPSOID[&quot;WGS 84&quot;,6378137,298.257223563,LENGTHUNIT[&quot;metre&quot;,1]],ENSEMBLEACCURACY[2.0]],PRIMEM[&quot;Greenwich&quot;,0,ANGLEUNIT[&quot;degree&quot;,0.0174532925199433]],CS[ellipsoidal,2],AXIS[&quot;geodetic latitude (Lat)&quot;,north,ORDER[1],ANGLEUNIT[&quot;degree&quot;,0.0174532925199433]],AXIS[&quot;geodetic longitude (Lon)&quot;,east,ORDER[2],ANGLEUNIT[&quot;degree&quot;,0.0174532925199433]],USAGE[SCOPE[&quot;Horizontal component of 3D system.&quot;],AREA[&quot;World.&quot;],BBOX[-90,-180,90,180]],ID[&quot;EPSG&quot;,4326]]</dd><dt><span>crs_wkt :</span></dt><dd>GEOGCRS[&quot;WGS 84&quot;,ENSEMBLE[&quot;World Geodetic System 1984 ensemble&quot;,MEMBER[&quot;World Geodetic System 1984 (Transit)&quot;],MEMBER[&quot;World Geodetic System 1984 (G730)&quot;],MEMBER[&quot;World Geodetic System 1984 (G873)&quot;],MEMBER[&quot;World Geodetic System 1984 (G1150)&quot;],MEMBER[&quot;World Geodetic System 1984 (G1674)&quot;],MEMBER[&quot;World Geodetic System 1984 (G1762)&quot;],MEMBER[&quot;World Geodetic System 1984 (G2139)&quot;],MEMBER[&quot;World Geodetic System 1984 (G2296)&quot;],ELLIPSOID[&quot;WGS 84&quot;,6378137,298.257223563,LENGTHUNIT[&quot;metre&quot;,1]],ENSEMBLEACCURACY[2.0]],PRIMEM[&quot;Greenwich&quot;,0,ANGLEUNIT[&quot;degree&quot;,0.0174532925199433]],CS[ellipsoidal,2],AXIS[&quot;geodetic latitude (Lat)&quot;,north,ORDER[1],ANGLEUNIT[&quot;degree&quot;,0.0174532925199433]],AXIS[&quot;geodetic longitude (Lon)&quot;,east,ORDER[2],ANGLEUNIT[&quot;degree&quot;,0.0174532925199433]],USAGE[SCOPE[&quot;Horizontal component of 3D system.&quot;],AREA[&quot;World.&quot;],BBOX[-90,-180,90,180]],ID[&quot;EPSG&quot;,4326]]</dd><dt><span>semi_major_axis :</span></dt><dd>6378137.0</dd><dt><span>semi_minor_axis :</span></dt><dd>6356752.314245179</dd><dt><span>inverse_flattening :</span></dt><dd>298.257223563</dd><dt><span>reference_ellipsoid_name :</span></dt><dd>WGS 84</dd><dt><span>longitude_of_prime_meridian :</span></dt><dd>0.0</dd><dt><span>prime_meridian_name :</span></dt><dd>Greenwich</dd><dt><span>geographic_crs_name :</span></dt><dd>WGS 84</dd><dt><span>horizontal_datum_name :</span></dt><dd>World Geodetic System 1984 ensemble</dd><dt><span>grid_mapping_name :</span></dt><dd>latitude_longitude</dd><dt><span>GeoTransform :</span></dt><dd>177.166250000000019326762413 0.000277777777777777777537 0 -16.050416666666666998253277 0 -0.000277777777777777777537</dd></dl></div><div class='xr-var-data'><pre>array(4326, dtype=int32)</pre></div></li><li class='xr-var-item'><div class='xr-var-name'><span>time</span></div><div class='xr-var-dims'>()</div><div class='xr-var-dtype'>datetime64[ns]</div><div class='xr-var-preview xr-preview'>2021-04-22</div><input id='attrs-ee3e4a0a-5fdb-42c0-9726-ed8d220630e5' class='xr-var-attrs-in' type='checkbox' disabled><label for='attrs-ee3e4a0a-5fdb-42c0-9726-ed8d220630e5' title='Show/Hide attributes'><svg class='icon xr-icon-file-text2'><use xlink:href='#icon-file-text2'></use></svg></label><input id='data-fff8c578-ed94-4b97-929d-d17ec909d253' class='xr-var-data-in' type='checkbox'><label for='data-fff8c578-ed94-4b97-929d-d17ec909d253' title='Show/Hide data repr'><svg class='icon xr-icon-database'><use xlink:href='#icon-database'></use></svg></label><div class='xr-var-attrs'><dl class='xr-attrs'></dl></div><div class='xr-var-data'><pre>array(&#x27;2021-04-22T00:00:00.000000000&#x27;, dtype=&#x27;datetime64[ns]&#x27;)</pre></div></li></ul></div></li><li class='xr-section-item'><input id='section-3eb665b8-f998-44fa-bdd9-78facaf727c7' class='xr-section-summary-in' type='checkbox'  checked><label for='section-3eb665b8-f998-44fa-bdd9-78facaf727c7' class='xr-section-summary' >Data variables: <span>(1)</span></label><div class='xr-section-inline-details'></div><div class='xr-section-details'><ul class='xr-var-list'><li class='xr-var-item'><div class='xr-var-name'><span>elevation</span></div><div class='xr-var-dims'>(latitude, longitude)</div><div class='xr-var-dtype'>float32</div><div class='xr-var-preview xr-preview'>dask.array&lt;chunksize=(2048, 2048), meta=np.ndarray&gt;</div><input id='attrs-9cefe4ba-deee-4a48-a2fe-7db5f3749e2b' class='xr-var-attrs-in' type='checkbox' disabled><label for='attrs-9cefe4ba-deee-4a48-a2fe-7db5f3749e2b' title='Show/Hide attributes'><svg class='icon xr-icon-file-text2'><use xlink:href='#icon-file-text2'></use></svg></label><input id='data-51eeeae2-49aa-415d-8479-4b42e39cc923' class='xr-var-data-in' type='checkbox'><label for='data-51eeeae2-49aa-415d-8479-4b42e39cc923' title='Show/Hide data repr'><svg class='icon xr-icon-database'><use xlink:href='#icon-database'></use></svg></label><div class='xr-var-attrs'><dl class='xr-attrs'></dl></div><div class='xr-var-data'><table>\n",
       "    <tr>\n",
       "        <td>\n",
       "            <table style=\"border-collapse: collapse;\">\n",
       "                <thead>\n",
       "                    <tr>\n",
       "                        <td> </td>\n",
       "                        <th> Array </th>\n",
       "                        <th> Chunk </th>\n",
       "                    </tr>\n",
       "                </thead>\n",
       "                <tbody>\n",
       "                    \n",
       "                    <tr>\n",
       "                        <th> Bytes </th>\n",
       "                        <td> 322.82 MiB </td>\n",
       "                        <td> 16.00 MiB </td>\n",
       "                    </tr>\n",
       "                    \n",
       "                    <tr>\n",
       "                        <th> Shape </th>\n",
       "                        <td> (8295, 10202) </td>\n",
       "                        <td> (2048, 2048) </td>\n",
       "                    </tr>\n",
       "                    <tr>\n",
       "                        <th> Dask graph </th>\n",
       "                        <td colspan=\"2\"> 25 chunks in 6 graph layers </td>\n",
       "                    </tr>\n",
       "                    <tr>\n",
       "                        <th> Data type </th>\n",
       "                        <td colspan=\"2\"> float32 numpy.ndarray </td>\n",
       "                    </tr>\n",
       "                </tbody>\n",
       "            </table>\n",
       "        </td>\n",
       "        <td>\n",
       "        <svg width=\"170\" height=\"147\" style=\"stroke:rgb(0,0,0);stroke-width:1\" >\n",
       "\n",
       "  <!-- Horizontal lines -->\n",
       "  <line x1=\"0\" y1=\"0\" x2=\"120\" y2=\"0\" style=\"stroke-width:2\" />\n",
       "  <line x1=\"0\" y1=\"24\" x2=\"120\" y2=\"24\" />\n",
       "  <line x1=\"0\" y1=\"48\" x2=\"120\" y2=\"48\" />\n",
       "  <line x1=\"0\" y1=\"72\" x2=\"120\" y2=\"72\" />\n",
       "  <line x1=\"0\" y1=\"96\" x2=\"120\" y2=\"96\" />\n",
       "  <line x1=\"0\" y1=\"97\" x2=\"120\" y2=\"97\" style=\"stroke-width:2\" />\n",
       "\n",
       "  <!-- Vertical lines -->\n",
       "  <line x1=\"0\" y1=\"0\" x2=\"0\" y2=\"97\" style=\"stroke-width:2\" />\n",
       "  <line x1=\"24\" y1=\"0\" x2=\"24\" y2=\"97\" />\n",
       "  <line x1=\"48\" y1=\"0\" x2=\"48\" y2=\"97\" />\n",
       "  <line x1=\"72\" y1=\"0\" x2=\"72\" y2=\"97\" />\n",
       "  <line x1=\"96\" y1=\"0\" x2=\"96\" y2=\"97\" />\n",
       "  <line x1=\"120\" y1=\"0\" x2=\"120\" y2=\"97\" style=\"stroke-width:2\" />\n",
       "\n",
       "  <!-- Colored Rectangle -->\n",
       "  <polygon points=\"0.0,0.0 120.0,0.0 120.0,97.56910409723584 0.0,97.56910409723584\" style=\"fill:#ECB172A0;stroke-width:0\"/>\n",
       "\n",
       "  <!-- Text -->\n",
       "  <text x=\"60.000000\" y=\"117.569104\" font-size=\"1.0rem\" font-weight=\"100\" text-anchor=\"middle\" >10202</text>\n",
       "  <text x=\"140.000000\" y=\"48.784552\" font-size=\"1.0rem\" font-weight=\"100\" text-anchor=\"middle\" transform=\"rotate(-90,140.000000,48.784552)\">8295</text>\n",
       "</svg>\n",
       "        </td>\n",
       "    </tr>\n",
       "</table></div></li></ul></div></li><li class='xr-section-item'><input id='section-94c02700-c73a-4e03-aa16-059cb11de436' class='xr-section-summary-in' type='checkbox'  ><label for='section-94c02700-c73a-4e03-aa16-059cb11de436' class='xr-section-summary' >Indexes: <span>(2)</span></label><div class='xr-section-inline-details'></div><div class='xr-section-details'><ul class='xr-var-list'><li class='xr-var-item'><div class='xr-index-name'><div>latitude</div></div><div class='xr-index-preview'>PandasIndex</div><input type='checkbox' disabled/><label></label><input id='index-78384c21-1afc-450b-a36b-fac73afbceb9' class='xr-index-data-in' type='checkbox'/><label for='index-78384c21-1afc-450b-a36b-fac73afbceb9' title='Show/Hide index repr'><svg class='icon xr-icon-database'><use xlink:href='#icon-database'></use></svg></label><div class='xr-index-data'><pre>PandasIndex(Index([-16.050555555555555, -16.050833333333333,  -16.05111111111111,\n",
       "       -16.051388888888887, -16.051666666666666, -16.051944444444445,\n",
       "        -16.05222222222222,            -16.0525, -16.052777777777777,\n",
       "       -16.053055555555556,\n",
       "       ...\n",
       "        -18.35194444444444,  -18.35222222222222,            -18.3525,\n",
       "       -18.352777777777778, -18.353055555555557,  -18.35333333333333,\n",
       "        -18.35361111111111,  -18.35388888888889, -18.354166666666664,\n",
       "       -18.354444444444443],\n",
       "      dtype=&#x27;float64&#x27;, name=&#x27;latitude&#x27;, length=8295))</pre></div></li><li class='xr-var-item'><div class='xr-index-name'><div>longitude</div></div><div class='xr-index-preview'>PandasIndex</div><input type='checkbox' disabled/><label></label><input id='index-95271416-6dcf-4470-a216-f790c4c23d0f' class='xr-index-data-in' type='checkbox'/><label for='index-95271416-6dcf-4470-a216-f790c4c23d0f' title='Show/Hide index repr'><svg class='icon xr-icon-database'><use xlink:href='#icon-database'></use></svg></label><div class='xr-index-data'><pre>PandasIndex(Index([177.16638888888892, 177.16666666666669, 177.16694444444448,\n",
       "       177.16722222222225, 177.16750000000002, 177.16777777777781,\n",
       "       177.16805555555558, 177.16833333333335, 177.16861111111115,\n",
       "       177.16888888888892,\n",
       "       ...\n",
       "       179.99750000000003,  179.9977777777778,  179.9980555555556,\n",
       "       179.99833333333336, 179.99861111111113, 179.99888888888893,\n",
       "        179.9991666666667, 179.99944444444446, 179.99972222222226,\n",
       "       180.00000000000003],\n",
       "      dtype=&#x27;float64&#x27;, name=&#x27;longitude&#x27;, length=10202))</pre></div></li></ul></div></li><li class='xr-section-item'><input id='section-54022e85-4f9c-475e-826e-7f69ae1b4353' class='xr-section-summary-in' type='checkbox' disabled ><label for='section-54022e85-4f9c-475e-826e-7f69ae1b4353' class='xr-section-summary'  title='Expand/collapse section'>Attributes: <span>(0)</span></label><div class='xr-section-inline-details'></div><div class='xr-section-details'><dl class='xr-attrs'></dl></div></li></ul></div></div>"
      ],
      "text/plain": [
       "<xarray.Dataset> Size: 339MB\n",
       "Dimensions:      (latitude: 8295, longitude: 10202)\n",
       "Coordinates:\n",
       "  * latitude     (latitude) float64 66kB -16.05 -16.05 -16.05 ... -18.35 -18.35\n",
       "  * longitude    (longitude) float64 82kB 177.2 177.2 177.2 ... 180.0 180.0\n",
       "    spatial_ref  int32 4B 4326\n",
       "    time         datetime64[ns] 8B 2021-04-22\n",
       "Data variables:\n",
       "    elevation    (latitude, longitude) float32 339MB dask.array<chunksize=(2048, 2048), meta=np.ndarray>"
      ]
     },
     "execution_count": 8,
     "metadata": {},
     "output_type": "execute_result"
    }
   ],
   "source": [
    "data_dem = (data_dem.where(data_dem != -32768).rename({\"data\": \"elevation\"}).squeeze(\"time\"))\n",
    "data_dem"
   ]
  },
  {
   "cell_type": "code",
   "execution_count": 9,
   "id": "5b28a28a-0b92-4561-949d-429a9152e41f",
   "metadata": {},
   "outputs": [],
   "source": [
    "dem = data_dem['elevation']"
   ]
  },
  {
   "cell_type": "code",
   "execution_count": 10,
   "id": "513703eb-1ce9-4d58-9c8d-b21825e2388e",
   "metadata": {},
   "outputs": [],
   "source": [
    "ocean_mask = np.where(dem == 0, 1, 0)  # 1 for ocean, 0 for land\n"
   ]
  },
  {
   "cell_type": "code",
   "execution_count": 11,
   "id": "bd7a8402-3538-4f46-b99d-3b2345e54ee8",
   "metadata": {},
   "outputs": [],
   "source": [
    "nodata_value = -9999\n",
    "dem_nodata = np.where(np.isnan(dem), nodata_value, dem).astype(np.float32)"
   ]
  },
  {
   "cell_type": "code",
   "execution_count": 12,
   "id": "5c04c0c7-9561-4d5b-a143-b36e9f83ecea",
   "metadata": {},
   "outputs": [],
   "source": [
    "dem_masked = np.where(dem_nodata == 0, np.nan, dem_nodata)\n",
    "\n",
    "# Example DEM array: ocean cells are np.nan, land is elevation\n",
    "# dem_masked = np.where(dem_nodata == 0, np.nan, dem_nodata)"
   ]
  },
  {
   "cell_type": "code",
   "execution_count": 13,
   "id": "7f0c6dfc-6377-4331-89c5-b87b64b90cc9",
   "metadata": {},
   "outputs": [],
   "source": [
    "condition_up = (dem_masked>=600)\n",
    "upland = np.where(condition_up, dem_masked, np.nan)\n",
    "condition_low = (dem_masked<=600)\n",
    "lowland = np.where(condition_low, dem_masked, np.nan)"
   ]
  },
  {
   "cell_type": "code",
   "execution_count": 14,
   "id": "8009eadc-6b91-4412-bd96-e88291742517",
   "metadata": {},
   "outputs": [],
   "source": [
    "\n",
    "lowland_min = 0.0\n",
    "lowland_max = 599.9  # Set max just below the upland threshold\n",
    "upland_min = 600.0\n",
    "upland_max = 1400.0 # Set max based on highest possible elevation\n",
    "\n"
   ]
  },
  {
   "cell_type": "code",
   "execution_count": 15,
   "id": "e1994c9d-719d-4c09-afcc-5460a53b8a97",
   "metadata": {},
   "outputs": [],
   "source": [
    "height, width = dem_masked.shape\n",
    "left, right, bottom, top = bbox\n",
    "\n",
    "pixel_width = (right - left) / width\n",
    "pixel_height = (top - bottom) / height\n",
    "\n",
    "transform = from_origin(left, top, pixel_width, pixel_height)  # top left corner"
   ]
  },
  {
   "cell_type": "code",
   "execution_count": 16,
   "id": "45a51e85-881c-4164-8322-e347097bb9e5",
   "metadata": {},
   "outputs": [],
   "source": [
    "fiji_gfw = rio.open(\"LossYear_GFW_Fiji.tif\")"
   ]
  },
  {
   "cell_type": "code",
   "execution_count": 17,
   "id": "cefc4ebc-55a0-4d27-afff-8c98bd69d6e1",
   "metadata": {},
   "outputs": [],
   "source": [
    "import rioxarray as rxr\n",
    "# from rioxarray.warp import Resampling\n"
   ]
  },
  {
   "cell_type": "code",
   "execution_count": 18,
   "id": "3b468406-96e3-4fe4-9da4-edd1a3267fba",
   "metadata": {},
   "outputs": [
    {
     "data": {
      "text/plain": [
       "CRS.from_wkt('PROJCS[\"Fiji 1986 / Fiji Map Grid\",GEOGCS[\"Fiji 1986\",DATUM[\"Fiji_Geodetic_Datum_1986\",SPHEROID[\"WGS 72\",6378135,298.26,AUTHORITY[\"EPSG\",\"7043\"]],AUTHORITY[\"EPSG\",\"6720\"]],PRIMEM[\"Greenwich\",0,AUTHORITY[\"EPSG\",\"8901\"]],UNIT[\"degree\",0.0174532925199433,AUTHORITY[\"EPSG\",\"9122\"]],AUTHORITY[\"EPSG\",\"4720\"]],PROJECTION[\"Transverse_Mercator\"],PARAMETER[\"latitude_of_origin\",-17],PARAMETER[\"central_meridian\",178.75],PARAMETER[\"scale_factor\",0.99985],PARAMETER[\"false_easting\",2000000],PARAMETER[\"false_northing\",4000000],UNIT[\"metre\",1,AUTHORITY[\"EPSG\",\"9001\"]],AXIS[\"Easting\",EAST],AXIS[\"Northing\",NORTH],AUTHORITY[\"EPSG\",\"3460\"]]')"
      ]
     },
     "execution_count": 18,
     "metadata": {},
     "output_type": "execute_result"
    }
   ],
   "source": [
    "from rasterio.enums import Resampling \n",
    "fiji_gfw_xr = rxr.open_rasterio(\"LossYear_GFW_Fiji.tif\")\n",
    "fiji_gfw_xr = fiji_gfw_xr.rio.reproject(\n",
    "    'EPSG:3460',\n",
    "    # Use the directly imported name\n",
    "    resampling=Resampling.nearest \n",
    ")\n",
    "fiji_gfw_xr.rio.crs"
   ]
  },
  {
   "cell_type": "code",
   "execution_count": 19,
   "id": "1ac7e08f-38ce-4a08-993c-5306def13f5e",
   "metadata": {},
   "outputs": [],
   "source": [
    "mask_gfw_2016 = (fiji_gfw_xr == 16)\n",
    "mask_gfw_2020 = (fiji_gfw_xr == 20)\n",
    "mask_gfw_2021 = (fiji_gfw_xr == 21)"
   ]
  },
  {
   "cell_type": "code",
   "execution_count": 20,
   "id": "487352cf-acf6-46fb-b557-c292920ba27d",
   "metadata": {},
   "outputs": [
    {
     "data": {
      "text/plain": [
       "CRS.from_wkt('PROJCS[\"Fiji 1986 / Fiji Map Grid\",GEOGCS[\"Fiji 1986\",DATUM[\"Fiji_Geodetic_Datum_1986\",SPHEROID[\"WGS 72\",6378135,298.26,AUTHORITY[\"EPSG\",\"7043\"]],AUTHORITY[\"EPSG\",\"6720\"]],PRIMEM[\"Greenwich\",0,AUTHORITY[\"EPSG\",\"8901\"]],UNIT[\"degree\",0.0174532925199433,AUTHORITY[\"EPSG\",\"9122\"]],AUTHORITY[\"EPSG\",\"4720\"]],PROJECTION[\"Transverse_Mercator\"],PARAMETER[\"latitude_of_origin\",-17],PARAMETER[\"central_meridian\",178.75],PARAMETER[\"scale_factor\",0.99985],PARAMETER[\"false_easting\",2000000],PARAMETER[\"false_northing\",4000000],UNIT[\"metre\",1,AUTHORITY[\"EPSG\",\"9001\"]],AXIS[\"Easting\",EAST],AXIS[\"Northing\",NORTH],AUTHORITY[\"EPSG\",\"3460\"]]')"
      ]
     },
     "execution_count": 20,
     "metadata": {},
     "output_type": "execute_result"
    }
   ],
   "source": [
    "dem = dem.rio.reproject(\n",
    "    'EPSG:3460',\n",
    "    # Use the directly imported name\n",
    "    resampling=Resampling.nearest \n",
    ")\n",
    "dem.rio.crs"
   ]
  },
  {
   "cell_type": "code",
   "execution_count": 21,
   "id": "a671977a-1767-44ba-97f8-d8356cd63e77",
   "metadata": {},
   "outputs": [],
   "source": [
    "dem_aligned = dem.rio.reproject_match(\n",
    "    fiji_gfw_xr, # Use the 2016 slice as the reference\n",
    "    resampling=Resampling.nearest\n",
    ")"
   ]
  },
  {
   "cell_type": "code",
   "execution_count": 22,
   "id": "0c6d14d0-c639-4b75-bc58-f8321f430274",
   "metadata": {},
   "outputs": [
    {
     "name": "stdout",
     "output_type": "stream",
     "text": [
      "counts for 2016\n",
      "13205 upland\n",
      "101272 lowland\n",
      "114477 total\n"
     ]
    }
   ],
   "source": [
    "# 1. Create the masks using the aligned 2D arrays' underlying NumPy data.\n",
    "# This ensures a direct, element-wise comparison on the perfectly aligned grids.\n",
    "mask_gfw_2016 = (fiji_gfw_xr.data == 16) & fiji_gfw_xr.notnull().data\n",
    "mask_upland = (dem_aligned.data > 600) & dem_aligned.notnull().data\n",
    "mask_lowland = (dem_aligned.data < 600) & dem_aligned.notnull().data\n",
    "\n",
    "# 2. Perform the logical AND\n",
    "gfw_upland_2016_overlap = mask_gfw_2016 & mask_upland\n",
    "gfw_lowland_2016_overlap = mask_gfw_2016 & mask_lowland\n",
    "\n",
    "print('counts for 2016')\n",
    "\n",
    "# 3. Final count\n",
    "overlap_count_upland_2016 = np.sum(gfw_upland_2016_overlap)\n",
    "print(overlap_count_upland_2016, 'upland')\n",
    "\n",
    "overlap_count_lowland_2016 = np.sum(gfw_lowland_2016_overlap)\n",
    "print(overlap_count_lowland_2016, 'lowland')\n",
    "\n",
    "print(overlap_count_upland_2016+overlap_count_lowland_2016, 'total')"
   ]
  },
  {
   "cell_type": "code",
   "execution_count": 23,
   "id": "8b8f0350-e563-4948-91fd-85434204a73d",
   "metadata": {},
   "outputs": [
    {
     "name": "stdout",
     "output_type": "stream",
     "text": [
      "counts for 2020\n",
      "333 upland\n",
      "23530 lowland\n",
      "23863 total\n"
     ]
    }
   ],
   "source": [
    "# 1. Create the masks using the aligned 2D arrays' underlying NumPy data.\n",
    "# This ensures a direct, element-wise comparison on the perfectly aligned grids.\n",
    "mask_gfw_2020 = (fiji_gfw_xr.data == 20) & fiji_gfw_xr.notnull().data\n",
    "mask_upland = (dem_aligned.data > 600) & dem_aligned.notnull().data\n",
    "\n",
    "# 2. Perform the logical AND\n",
    "gfw_upland_2020_overlap = mask_gfw_2020 & mask_upland\n",
    "gfw_lowland_2020_overlap = mask_gfw_2020 & mask_lowland\n",
    "\n",
    "print('counts for 2020')\n",
    "\n",
    "# 3. Final count\n",
    "overlap_count_upland_2020 = np.sum(gfw_upland_2020_overlap)\n",
    "print(overlap_count_upland_2020, 'upland')\n",
    "\n",
    "overlap_count_lowland_2020 = np.sum(gfw_lowland_2020_overlap)\n",
    "print(overlap_count_lowland_2020, 'lowland')\n",
    "\n",
    "print(overlap_count_upland_2020+overlap_count_lowland_2020, 'total')"
   ]
  },
  {
   "cell_type": "code",
   "execution_count": 72,
   "id": "0c5d50a5-53e6-4c05-8e7d-ee33c4f09434",
   "metadata": {},
   "outputs": [
    {
     "name": "stdout",
     "output_type": "stream",
     "text": [
      "counts for 2021\n",
      "567 upland\n",
      "92744 lowland\n",
      "93311 total\n"
     ]
    }
   ],
   "source": [
    "# 1. Create the masks using the aligned 2D arrays' underlying NumPy data.\n",
    "# This ensures a direct, element-wise comparison on the perfectly aligned grids.\n",
    "mask_gfw_2021 = (fiji_gfw_xr.data == 21) & fiji_gfw_xr.notnull().data\n",
    "mask_upland = (dem_aligned.data > 600) & dem_aligned.notnull().data\n",
    "\n",
    "# 2. Perform the logical AND\n",
    "gfw_upland_2021_overlap = mask_gfw_2021 & mask_upland\n",
    "gfw_lowland_2021_overlap = mask_gfw_2021 & mask_lowland\n",
    "\n",
    "print('counts for 2021')\n",
    "\n",
    "# 3. Final count\n",
    "overlap_count_upland_2021 = np.sum(gfw_upland_2021_overlap)\n",
    "print(overlap_count_upland_2021, 'upland')\n",
    "\n",
    "overlap_count_lowland_2021 = np.sum(gfw_lowland_2021_overlap)\n",
    "print(overlap_count_lowland_2021, 'lowland')\n",
    "\n",
    "print(overlap_count_upland_2021+overlap_count_lowland_2021, 'total')"
   ]
  },
  {
   "cell_type": "code",
   "execution_count": 73,
   "id": "bd37996d-6200-4ac8-8548-183cd4f58252",
   "metadata": {},
   "outputs": [],
   "source": [
    "# Assuming gfw_2016_ref is your aligned reference array (in EPSG:3460)\n",
    "res_x, res_y = fiji_gfw_xr.rio.resolution()\n",
    "\n",
    "# Get the absolute values, as res_y is often negative for North-up rasters\n",
    "pixel_area_sq_m = abs(res_x * res_y)"
   ]
  },
  {
   "cell_type": "code",
   "execution_count": 74,
   "id": "941f389a-5831-4f89-a483-5e5a7a39a661",
   "metadata": {},
   "outputs": [],
   "source": [
    "total_overlap_area_sq_m_lowland_2016 = overlap_count_lowland_2016 * pixel_area_sq_m\n",
    "total_overlap_area_sq_m_lowland_2020 = overlap_count_lowland_2020 * pixel_area_sq_m\n",
    "total_overlap_area_sq_m_lowland_2021 = overlap_count_lowland_2021 * pixel_area_sq_m\n",
    "\n",
    "total_overlap_area_sq_m_upland_2016 = overlap_count_upland_2016 * pixel_area_sq_m\n",
    "total_overlap_area_sq_m_upland_2020 = overlap_count_upland_2020 * pixel_area_sq_m\n",
    "total_overlap_area_sq_m_upland_2021 = overlap_count_upland_2021 * pixel_area_sq_m"
   ]
  },
  {
   "cell_type": "code",
   "execution_count": 75,
   "id": "8a7fde0d-c07b-4f08-8dd6-75b7bfc60f8c",
   "metadata": {},
   "outputs": [
    {
     "name": "stdout",
     "output_type": "stream",
     "text": [
      "lowlands tree cover loss in 2016\n",
      "Total Overlap Pixels: 101272\n",
      "Single Pixel Area: 840.11 m²\n",
      "Total Overlap Area: 8507.95 hectares\n"
     ]
    }
   ],
   "source": [
    "total_overlap_area_ha_lowland_2016 = total_overlap_area_sq_m_lowland_2016 / 10000.0\n",
    "print('lowlands tree cover loss in 2016')\n",
    "print(f\"Total Overlap Pixels: {overlap_count_lowland_2016}\")\n",
    "print(f\"Single Pixel Area: {pixel_area_sq_m:.2f} m²\")\n",
    "print(f\"Total Overlap Area: {total_overlap_area_ha_lowland_2016:.2f} hectares\")"
   ]
  },
  {
   "cell_type": "code",
   "execution_count": 76,
   "id": "826ea8eb-554e-418d-a4ba-580044c087bb",
   "metadata": {},
   "outputs": [
    {
     "name": "stdout",
     "output_type": "stream",
     "text": [
      "upland tree cover loss in 2016\n",
      "Total Overlap Pixels: 13205\n",
      "Single Pixel Area: 840.11 m²\n",
      "Total Overlap Area: 1109.36 hectares\n"
     ]
    }
   ],
   "source": [
    "total_overlap_area_ha_upland_2016 = total_overlap_area_sq_m_upland_2016 / 10000.0\n",
    "print('upland tree cover loss in 2016')\n",
    "print(f\"Total Overlap Pixels: {overlap_count_upland_2016}\")\n",
    "print(f\"Single Pixel Area: {pixel_area_sq_m:.2f} m²\")\n",
    "print(f\"Total Overlap Area: {total_overlap_area_ha_upland_2016:.2f} hectares\")"
   ]
  },
  {
   "cell_type": "code",
   "execution_count": 77,
   "id": "a11cc9a1-6319-4ea9-9bb1-c154d2fbb04b",
   "metadata": {},
   "outputs": [
    {
     "name": "stdout",
     "output_type": "stream",
     "text": [
      "lowlands tree cover loss in 2020\n",
      "Total Overlap Pixels: 23530\n",
      "Single Pixel Area: 840.11 m²\n",
      "Total Overlap Area: 1976.78 hectares\n"
     ]
    }
   ],
   "source": [
    "total_overlap_area_ha_lowland_2020 = total_overlap_area_sq_m_lowland_2020 / 10000.0\n",
    "print('lowlands tree cover loss in 2020')\n",
    "print(f\"Total Overlap Pixels: {overlap_count_lowland_2020}\")\n",
    "print(f\"Single Pixel Area: {pixel_area_sq_m:.2f} m²\")\n",
    "print(f\"Total Overlap Area: {total_overlap_area_ha_lowland_2020:.2f} hectares\")"
   ]
  },
  {
   "cell_type": "code",
   "execution_count": 78,
   "id": "9eb6f404-ce97-4091-8601-cfea0f868b82",
   "metadata": {},
   "outputs": [
    {
     "name": "stdout",
     "output_type": "stream",
     "text": [
      "upland tree cover loss in 2020\n",
      "Total Overlap Pixels: 333\n",
      "Single Pixel Area: 840.11 m²\n",
      "Total Overlap Area: 27.98 hectares\n"
     ]
    }
   ],
   "source": [
    "total_overlap_area_ha_upland_2020 = total_overlap_area_sq_m_upland_2020 / 10000.0\n",
    "print('upland tree cover loss in 2020')\n",
    "print(f\"Total Overlap Pixels: {overlap_count_upland_2020}\")\n",
    "print(f\"Single Pixel Area: {pixel_area_sq_m:.2f} m²\")\n",
    "print(f\"Total Overlap Area: {total_overlap_area_ha_upland_2020:.2f} hectares\")"
   ]
  },
  {
   "cell_type": "code",
   "execution_count": 79,
   "id": "63c47818-cb69-4a8e-98f9-cb2daa4ee414",
   "metadata": {},
   "outputs": [
    {
     "name": "stdout",
     "output_type": "stream",
     "text": [
      "lowlands tree cover loss in 2021\n",
      "Total Overlap Pixels: 92744\n",
      "Single Pixel Area: 840.11 m²\n",
      "Total Overlap Area: 7791.50 hectares\n"
     ]
    }
   ],
   "source": [
    "total_overlap_area_ha_lowland_2021 = total_overlap_area_sq_m_lowland_2021 / 10000.0\n",
    "print('lowlands tree cover loss in 2021')\n",
    "print(f\"Total Overlap Pixels: {overlap_count_lowland_2021}\")\n",
    "print(f\"Single Pixel Area: {pixel_area_sq_m:.2f} m²\")\n",
    "print(f\"Total Overlap Area: {total_overlap_area_ha_lowland_2021:.2f} hectares\")"
   ]
  },
  {
   "cell_type": "code",
   "execution_count": 80,
   "id": "097ba061-83a7-46e7-93c0-62169efbed12",
   "metadata": {},
   "outputs": [
    {
     "name": "stdout",
     "output_type": "stream",
     "text": [
      "upland tree cover loss in 2021\n",
      "Total Overlap Pixels: 567\n",
      "Single Pixel Area: 840.11 m²\n",
      "Total Overlap Area: 47.63 hectares\n"
     ]
    }
   ],
   "source": [
    "total_overlap_area_ha_upland_2021 = total_overlap_area_sq_m_upland_2021 / 10000.0\n",
    "print('upland tree cover loss in 2021')\n",
    "print(f\"Total Overlap Pixels: {overlap_count_upland_2021}\")\n",
    "print(f\"Single Pixel Area: {pixel_area_sq_m:.2f} m²\")\n",
    "print(f\"Total Overlap Area: {total_overlap_area_ha_upland_2021:.2f} hectares\")"
   ]
  },
  {
   "cell_type": "code",
   "execution_count": 81,
   "id": "69942330-ebb6-43ab-ab33-ea0a52ffbd5d",
   "metadata": {},
   "outputs": [],
   "source": [
    "import geopandas as gpd\n",
    "import pandas as pd"
   ]
  },
  {
   "cell_type": "code",
   "execution_count": 82,
   "id": "a85627b7-ec54-4d20-b406-f238ee870873",
   "metadata": {},
   "outputs": [],
   "source": [
    "bbox_fiji = gpd.read_file(\"tc_swaths/bbox_fiji.geojson\").to_crs(dem.rio.crs)\n",
    "\n",
    "tc_w_34 = gpd.read_file(\"tc_swaths/Winston_34kn.geojson\").to_crs(dem.rio.crs)\n",
    "tc_w_50 = gpd.read_file(\"tc_swaths/Winston_50kn.geojson\").to_crs(dem.rio.crs)\n",
    "tc_w_64 = gpd.read_file(\"tc_swaths/Winston_64kn.geojson\").to_crs(dem.rio.crs)\n",
    "\n",
    "tc_h_34 = gpd.read_file(\"tc_swaths/Harold_FJ_34kn.geojson\").to_crs(dem.rio.crs)\n",
    "tc_h_50 = gpd.read_file(\"tc_swaths/Harold_FJ_50kn.geojson\").to_crs(dem.rio.crs)\n",
    "tc_h_64 = gpd.read_file(\"tc_swaths/Harold_FJ_64kn.geojson\").to_crs(dem.rio.crs)\n",
    "\n",
    "tc_y_34 = gpd.read_file(\"tc_swaths/Yasa_34kn.geojson\").to_crs(dem.rio.crs)\n",
    "tc_y_50 = gpd.read_file(\"tc_swaths/Yasa_50kn.geojson\").to_crs(dem.rio.crs)\n",
    "tc_y_64 = gpd.read_file(\"tc_swaths/Yasa_64kn.geojson\").to_crs(dem.rio.crs)"
   ]
  },
  {
   "cell_type": "code",
   "execution_count": 83,
   "id": "c6db1bea-7f75-4d7c-a9d6-7772e326e7a7",
   "metadata": {},
   "outputs": [],
   "source": [
    "tc_w_34 = tc_w_34.clip(bbox_fiji)\n",
    "tc_w_50 = tc_w_50.clip(bbox_fiji)\n",
    "tc_w_64 = tc_w_64.clip(bbox_fiji)\n",
    "\n",
    "tc_h_34 = tc_h_34.clip(bbox_fiji)\n",
    "tc_h_50 = tc_h_50.clip(bbox_fiji)\n",
    "tc_h_64 = tc_h_64.clip(bbox_fiji)\n",
    "\n",
    "tc_y_34 = tc_y_34.clip(bbox_fiji)\n",
    "tc_y_50 = tc_y_50.clip(bbox_fiji)\n",
    "tc_y_64 = tc_y_64.clip(bbox_fiji)"
   ]
  },
  {
   "cell_type": "code",
   "execution_count": null,
   "id": "b52ddac5-4e18-48d4-8ef1-97bba4e4c102",
   "metadata": {},
   "outputs": [],
   "source": []
  },
  {
   "cell_type": "code",
   "execution_count": 84,
   "id": "53265c4f-aacd-46d7-903e-76874c96c3e9",
   "metadata": {},
   "outputs": [
    {
     "data": {
      "text/plain": [
       "CRS.from_wkt('PROJCS[\"Fiji 1986 / Fiji Map Grid\",GEOGCS[\"Fiji 1986\",DATUM[\"Fiji_Geodetic_Datum_1986\",SPHEROID[\"WGS 72\",6378135,298.26,AUTHORITY[\"EPSG\",\"7043\"]],AUTHORITY[\"EPSG\",\"6720\"]],PRIMEM[\"Greenwich\",0,AUTHORITY[\"EPSG\",\"8901\"]],UNIT[\"degree\",0.0174532925199433,AUTHORITY[\"EPSG\",\"9122\"]],AUTHORITY[\"EPSG\",\"4720\"]],PROJECTION[\"Transverse_Mercator\"],PARAMETER[\"latitude_of_origin\",-17],PARAMETER[\"central_meridian\",178.75],PARAMETER[\"scale_factor\",0.99985],PARAMETER[\"false_easting\",2000000],PARAMETER[\"false_northing\",4000000],UNIT[\"metre\",1,AUTHORITY[\"EPSG\",\"9001\"]],AXIS[\"Easting\",EAST],AXIS[\"Northing\",NORTH],AUTHORITY[\"EPSG\",\"3460\"]]')"
      ]
     },
     "execution_count": 84,
     "metadata": {},
     "output_type": "execute_result"
    }
   ],
   "source": [
    "# winston_swaths = [tc_w_34, tc_w_50, tc_w_64)\n",
    "                  \n",
    "fiji_gfw_xr.rio.crs"
   ]
  },
  {
   "cell_type": "code",
   "execution_count": 85,
   "id": "3e53a626-fe6b-4c03-b6de-30f94314bbdf",
   "metadata": {},
   "outputs": [
    {
     "data": {
      "text/plain": [
       "<Projected CRS: EPSG:3460>\n",
       "Name: Fiji 1986 / Fiji Map Grid\n",
       "Axis Info [cartesian]:\n",
       "- [east]: Easting (metre)\n",
       "- [north]: Northing (metre)\n",
       "Area of Use:\n",
       "- undefined\n",
       "Coordinate Operation:\n",
       "- name: unnamed\n",
       "- method: Transverse Mercator\n",
       "Datum: Fiji Geodetic Datum 1986\n",
       "- Ellipsoid: WGS 72\n",
       "- Prime Meridian: Greenwich"
      ]
     },
     "execution_count": 85,
     "metadata": {},
     "output_type": "execute_result"
    }
   ],
   "source": [
    "tc_w_34.crs"
   ]
  },
  {
   "cell_type": "code",
   "execution_count": 86,
   "id": "449c0dd9-97c0-4b28-b73d-0eacc27b5603",
   "metadata": {},
   "outputs": [],
   "source": [
    "poly_w_34 = tc_w_34.geometry.iloc[0]                   # shapely geometry for the first row, or .loc[<index>,'geometry']\n",
    "clipped_w_34 = fiji_gfw_xr.rio.clip([poly_w_34], all_touched=False, drop=False)\n",
    "\n",
    "poly_w_50 = tc_w_50.geometry.iloc[0]                   # shapely geometry for the first row, or .loc[<index>,'geometry']\n",
    "clipped_w_50 = fiji_gfw_xr.rio.clip([poly_w_50], all_touched=False, drop=False)\n",
    "\n",
    "poly_w_64 = tc_w_64.geometry.iloc[0]                   # shapely geometry for the first row, or .loc[<index>,'geometry']\n",
    "clipped_w_64 = fiji_gfw_xr.rio.clip([poly_w_64], all_touched=False, drop=False)"
   ]
  },
  {
   "cell_type": "code",
   "execution_count": 87,
   "id": "9983305d-7f1f-45f9-85d2-4e632d23bb2d",
   "metadata": {},
   "outputs": [],
   "source": [
    "poly_h_34 = tc_h_34.geometry.iloc[0]                   # shapely geometry for the first row, or .loc[<index>,'geometry']\n",
    "clipped_h_34 = fiji_gfw_xr.rio.clip([poly_h_34], all_touched=False, drop=False)\n",
    "\n",
    "poly_h_50 = tc_h_50.geometry.iloc[0]                   # shapely geometry for the first row, or .loc[<index>,'geometry']\n",
    "clipped_h_50 = fiji_gfw_xr.rio.clip([poly_h_50], all_touched=False, drop=False)\n",
    "\n",
    "poly_h_64 = tc_h_64.geometry.iloc[0]                   # shapely geometry for the first row, or .loc[<index>,'geometry']\n",
    "clipped_h_64 = fiji_gfw_xr.rio.clip([poly_h_64], all_touched=False, drop=False)"
   ]
  },
  {
   "cell_type": "code",
   "execution_count": 88,
   "id": "8e591db3-ce30-49a7-bf27-55253491fcd7",
   "metadata": {},
   "outputs": [],
   "source": [
    "poly_y_34 = tc_y_34.geometry.iloc[0]                   # shapely geometry for the first row, or .loc[<index>,'geometry']\n",
    "clipped_y_34 = fiji_gfw_xr.rio.clip([poly_y_34], all_touched=False, drop=False)\n",
    "\n",
    "poly_y_50 = tc_y_50.geometry.iloc[0]                   # shapely geometry for the first row, or .loc[<index>,'geometry']\n",
    "clipped_y_50 = fiji_gfw_xr.rio.clip([poly_y_50], all_touched=False, drop=False)\n",
    "\n",
    "poly_y_64 = tc_y_64.geometry.iloc[0]                   # shapely geometry for the first row, or .loc[<index>,'geometry']\n",
    "clipped_y_64 = fiji_gfw_xr.rio.clip([poly_y_64], all_touched=False, drop=False)"
   ]
  },
  {
   "cell_type": "code",
   "execution_count": null,
   "id": "48b68712-91d9-4334-8c2b-af2e44f47766",
   "metadata": {},
   "outputs": [],
   "source": []
  },
  {
   "cell_type": "code",
   "execution_count": 89,
   "id": "bd27da70-55c8-4de7-b796-224f8ffb4178",
   "metadata": {},
   "outputs": [],
   "source": [
    "count_w_34_2016 = np.sum(clipped_w_34)\n",
    "count_w_50_2016 = np.sum(clipped_w_50)\n",
    "count_w_64_2016 = np.sum(clipped_w_64)\n",
    "\n",
    "count_h_34_2020 = np.sum(clipped_h_34)\n",
    "count_h_50_2020 = np.sum(clipped_h_50)\n",
    "count_h_64_2020 = np.sum(clipped_h_64)\n",
    "\n",
    "count_y_34_2021 = np.sum(clipped_y_34)\n",
    "count_y_50_2021 = np.sum(clipped_y_50)\n",
    "count_y_64_2021 = np.sum(clipped_y_64)"
   ]
  },
  {
   "cell_type": "code",
   "execution_count": 90,
   "id": "deb40257-8a37-4ec3-9122-0777d0006123",
   "metadata": {},
   "outputs": [],
   "source": [
    "# TC Winston masking swaths\n",
    "mask_gfw_w_34_2016 = (clipped_w_34.data == 16) & clipped_w_34.notnull().data\n",
    "gfw_upland_w_34_2016 = mask_gfw_w_34_2016 & mask_upland\n",
    "gfw_lowland_w_34_2016 = mask_gfw_w_34_2016 & mask_lowland\n",
    "\n",
    "mask_gfw_w_50_2016 = (clipped_w_50.data == 16) & clipped_w_50.notnull().data\n",
    "gfw_upland_w_50_2016 = mask_gfw_w_50_2016 & mask_upland\n",
    "gfw_lowland_w_50_2016 = mask_gfw_w_50_2016 & mask_lowland\n",
    "\n",
    "mask_gfw_w_64_2016 = (clipped_w_64.data == 16) & clipped_w_64.notnull().data\n",
    "gfw_upland_w_64_2016 = mask_gfw_w_64_2016 & mask_upland\n",
    "gfw_lowland_w_64_2016 = mask_gfw_w_64_2016 & mask_lowland"
   ]
  },
  {
   "cell_type": "code",
   "execution_count": 91,
   "id": "bc970e1a-8a62-4c2a-9bcc-b493b9a0cd2f",
   "metadata": {},
   "outputs": [],
   "source": [
    "# TC Harold masking swaths\n",
    "mask_gfw_h_34_2020 = (clipped_h_34.data == 20) & clipped_h_34.notnull().data\n",
    "gfw_upland_h_34_2020 = mask_gfw_h_34_2020 & mask_upland\n",
    "gfw_lowland_h_34_2020 = mask_gfw_h_34_2020 & mask_lowland\n",
    "\n",
    "mask_gfw_h_50_2020 = (clipped_h_50.data == 20) & clipped_h_50.notnull().data\n",
    "gfw_upland_h_50_2020 = mask_gfw_h_50_2020 & mask_upland\n",
    "gfw_lowland_h_50_2020 = mask_gfw_h_50_2020 & mask_lowland\n",
    "\n",
    "mask_gfw_h_64_2020 = (clipped_h_64.data == 20) & clipped_h_64.notnull().data\n",
    "gfw_upland_h_64_2020 = mask_gfw_h_64_2020 & mask_upland\n",
    "gfw_lowland_h_64_2020 = mask_gfw_h_64_2020 & mask_lowland\n"
   ]
  },
  {
   "cell_type": "code",
   "execution_count": 92,
   "id": "f0186093-ceb6-4610-9d80-f5172020d8c3",
   "metadata": {},
   "outputs": [],
   "source": [
    "# TC Yasa masking swaths\n",
    "mask_gfw_y_34_2021 = (clipped_y_34.data == 21) & clipped_y_34.notnull().data\n",
    "gfw_upland_y_34_2021 = mask_gfw_y_34_2021 & mask_upland\n",
    "gfw_lowland_y_34_2021 = mask_gfw_y_34_2021 & mask_lowland\n",
    "\n",
    "mask_gfw_y_50_2021 = (clipped_y_50.data == 21) & clipped_y_50.notnull().data\n",
    "gfw_upland_y_50_2021 = mask_gfw_y_50_2021 & mask_upland\n",
    "gfw_lowland_y_50_2021 = mask_gfw_y_50_2021 & mask_lowland\n",
    "\n",
    "mask_gfw_y_64_2021 = (clipped_y_64.data == 21) & clipped_y_64.notnull().data\n",
    "gfw_upland_y_64_2021 = mask_gfw_y_64_2021 & mask_upland\n",
    "gfw_lowland_y_64_2021 = mask_gfw_y_64_2021 & mask_lowland\n"
   ]
  },
  {
   "cell_type": "code",
   "execution_count": 93,
   "id": "86a79cb1-5685-4dcb-b5b0-65ffd8794582",
   "metadata": {},
   "outputs": [],
   "source": [
    "# mask_gfw_h_34_2020 = (clipped_h_34.data == 20) & clipped_w_34.notnull().data\n",
    "# gfw_upland_h_34_2020 = mask_gfw_h_34_2020 & mask_upland\n",
    "# gfw_lowland_h_34_2020 = mask_gfw_h_34_2020 & mask_lowland\n"
   ]
  },
  {
   "cell_type": "code",
   "execution_count": 94,
   "id": "bb92732e-1c6d-406b-9c78-b6d3382a1048",
   "metadata": {},
   "outputs": [],
   "source": [
    "# mask_gfw_y_34_2021 = (clipped_y_34.data == 21) & clipped_w_34.notnull().data\n",
    "# gfw_upland_y_34_2021 = mask_gfw_y_34_2021 & mask_upland\n",
    "# gfw_lowland_y_34_2021 = mask_gfw_y_34_2021 & mask_lowland\n"
   ]
  },
  {
   "cell_type": "code",
   "execution_count": 116,
   "id": "5ef1ee18-9937-437d-b1e8-2d36c827b752",
   "metadata": {},
   "outputs": [
    {
     "name": "stdout",
     "output_type": "stream",
     "text": [
      "counts for 2016 - 34 knots\n",
      "13205 upland\n",
      "101272 lowland\n",
      "114477 total\n",
      "Total Overlap Area for TC Winston 34 knot upland: 1109.36 hectares\n",
      "Total Overlap Area for TC Winston 34 knot lowland: 8507.95 hectares\n"
     ]
    }
   ],
   "source": [
    "print('counts for 2016 - 34 knots')\n",
    "\n",
    "# 3. Final count\n",
    "count_gfw_upland_w_34_2016 = np.sum(gfw_upland_w_34_2016)\n",
    "print(count_gfw_upland_w_34_2016, 'upland')\n",
    "\n",
    "count_gfw_lowland_w_34_2016 = np.sum(gfw_lowland_w_34_2016)\n",
    "print(count_gfw_lowland_w_34_2016, 'lowland')\n",
    "\n",
    "print(count_gfw_lowland_w_34_2016+count_gfw_upland_w_34_2016, 'total')\n",
    "\n",
    "area_sq_m_upland_w_34_2016 = count_gfw_upland_w_34_2016 * pixel_area_sq_m\n",
    "area_ha_upland_w_34_2016 = area_sq_m_upland_w_34_2016 / 10000.0\n",
    "print(f\"Total Overlap Area for TC Winston 34 knot upland: {area_ha_upland_w_34_2016:.2f} hectares\")\n",
    "\n",
    "area_sq_m_lowland_w_34_2016 = count_gfw_lowland_w_34_2016 * pixel_area_sq_m\n",
    "area_ha_lowland_w_34_2016 = area_sq_m_lowland_w_34_2016 / 10000.0\n",
    "print(f\"Total Overlap Area for TC Winston 34 knot lowland: {area_ha_lowland_w_34_2016:.2f} hectares\")"
   ]
  },
  {
   "cell_type": "code",
   "execution_count": 102,
   "id": "45df7547-dfd3-49ee-a3ef-2c0f98c07fae",
   "metadata": {},
   "outputs": [],
   "source": [
    "# # Convert boolean True/False to 1/0 for plotting\n",
    "# plot_data = gfw_lowland_w_50_2016.astype(np.int8).squeeze()\n",
    "\n",
    "# plt.figure(figsize=(10, 10))\n",
    "# plt.imshow(\n",
    "#     plot_data, \n",
    "#     cmap='Blues', \n",
    "#     interpolation='none' # Prevents blurring of pixel data\n",
    "# )\n",
    "# plt.title(\"GFW 2016 Loss in Lowland Forest (Raw NumPy Plot)\")\n",
    "# plt.xlabel(\"X Index\")\n",
    "# plt.ylabel(\"Y Index\")\n",
    "# plt.colorbar(label='Overlap (1 = True)')\n",
    "# plt.show()"
   ]
  },
  {
   "cell_type": "code",
   "execution_count": 103,
   "id": "c78cda76-0347-41c2-8134-3f56565f437d",
   "metadata": {},
   "outputs": [],
   "source": [
    "# # Convert boolean True/False to 1/0 for plotting\n",
    "# plot_data = gfw_lowland_w_34_2016.astype(np.int8).squeeze()\n",
    "\n",
    "# plt.figure(figsize=(10, 10))\n",
    "# plt.imshow(\n",
    "#     plot_data, \n",
    "#     cmap='Blues', \n",
    "#     interpolation='none' # Prevents blurring of pixel data\n",
    "# )\n",
    "# plt.title(\"GFW 2016 Loss in Lowland Forest (Raw NumPy Plot)\")\n",
    "# plt.xlabel(\"X Index\")\n",
    "# plt.ylabel(\"Y Index\")\n",
    "# plt.colorbar(label='Overlap (1 = True)')\n",
    "# plt.show()"
   ]
  },
  {
   "cell_type": "code",
   "execution_count": 115,
   "id": "522023d3-0a98-4a36-9325-70cb7956ee7b",
   "metadata": {},
   "outputs": [
    {
     "name": "stdout",
     "output_type": "stream",
     "text": [
      "counts for 2016 - 50 knots\n",
      "13205 upland\n",
      "101272 lowland\n",
      "114477 total\n",
      "Total Overlap Area for TC Winston 50 knot upland: 1109.36 hectares\n",
      "Total Overlap Area for TC Winston 64 knot lowland: 8507.95 hectares\n"
     ]
    }
   ],
   "source": [
    "print('counts for 2016 - 50 knots')\n",
    "\n",
    "# 3. Final count\n",
    "count_gfw_upland_w_50_2016 = np.sum(gfw_upland_w_50_2016)\n",
    "print(count_gfw_upland_w_50_2016, 'upland')\n",
    "\n",
    "count_gfw_lowland_w_50_2016 = np.sum(gfw_lowland_w_50_2016)\n",
    "print(count_gfw_lowland_w_50_2016, 'lowland')\n",
    "\n",
    "print(count_gfw_lowland_w_50_2016+count_gfw_upland_w_50_2016, 'total')\n",
    "\n",
    "area_sq_m_upland_w_50_2016 = count_gfw_upland_w_50_2016 * pixel_area_sq_m\n",
    "area_ha_upland_w_50_2016 = area_sq_m_upland_w_50_2016 / 10000.0\n",
    "print(f\"Total Overlap Area for TC Winston 50 knot upland: {area_ha_upland_w_50_2016:.2f} hectares\")\n",
    "\n",
    "area_sq_m_lowland_w_50_2016 = count_gfw_lowland_w_50_2016 * pixel_area_sq_m\n",
    "area_ha_lowland_w_50_2016 = area_sq_m_lowland_w_50_2016 / 10000.0\n",
    "print(f\"Total Overlap Area for TC Winston 64 knot lowland: {area_ha_lowland_w_50_2016:.2f} hectares\")"
   ]
  },
  {
   "cell_type": "code",
   "execution_count": 114,
   "id": "db5fd49c-16fe-40eb-9535-f5c7a1cd7502",
   "metadata": {},
   "outputs": [
    {
     "name": "stdout",
     "output_type": "stream",
     "text": [
      "counts for 2016 - 64 knots\n",
      "13193 upland\n",
      "90274 lowland\n",
      "103467 total\n",
      "Total Overlap Area for TC Winston 64 knot upland: 1108.36 hectares\n",
      "Total Overlap Area for TC Winston 64 knot lowland: 7584.00 hectares\n"
     ]
    }
   ],
   "source": [
    "print('counts for 2016 - 64 knots')\n",
    "\n",
    "# 3. Final count\n",
    "count_gfw_upland_w_64_2016 = np.sum(gfw_upland_w_64_2016)\n",
    "print(count_gfw_upland_w_64_2016, 'upland')\n",
    "\n",
    "count_gfw_lowland_w_64_2016 = np.sum(gfw_lowland_w_64_2016)\n",
    "print(count_gfw_lowland_w_64_2016, 'lowland')\n",
    "\n",
    "print(count_gfw_lowland_w_64_2016+count_gfw_upland_w_64_2016, 'total')\n",
    "\n",
    "area_sq_m_upland_w_64_2016 = count_gfw_upland_w_64_2016 * pixel_area_sq_m\n",
    "area_ha_upland_w_64_2016 = area_sq_m_upland_w_64_2016 / 10000.0\n",
    "print(f\"Total Overlap Area for TC Winston 64 knot upland: {area_ha_upland_w_64_2016:.2f} hectares\")\n",
    "\n",
    "area_sq_m_lowland_w_64_2016 = count_gfw_lowland_w_64_2016 * pixel_area_sq_m\n",
    "area_ha_lowland_w_64_2016 = area_sq_m_lowland_w_64_2016 / 10000.0\n",
    "print(f\"Total Overlap Area for TC Winston 64 knot lowland: {area_ha_lowland_w_64_2016:.2f} hectares\")"
   ]
  },
  {
   "cell_type": "code",
   "execution_count": null,
   "id": "5a493fd9-d059-4c81-88e9-65795a5146a8",
   "metadata": {},
   "outputs": [],
   "source": []
  },
  {
   "cell_type": "code",
   "execution_count": null,
   "id": "1a13f413-7e2c-4211-89a8-67b9ca3cd3fb",
   "metadata": {},
   "outputs": [],
   "source": []
  },
  {
   "cell_type": "code",
   "execution_count": null,
   "id": "0fbdf9a9-aa61-49d9-80b8-77941e69f00f",
   "metadata": {},
   "outputs": [],
   "source": []
  },
  {
   "cell_type": "code",
   "execution_count": null,
   "id": "444fdda6-06f9-46b4-8e9c-65958fb81246",
   "metadata": {},
   "outputs": [],
   "source": []
  },
  {
   "cell_type": "code",
   "execution_count": null,
   "id": "aa60f878-8ea7-42d4-83f4-327fda52b4e2",
   "metadata": {},
   "outputs": [],
   "source": []
  },
  {
   "cell_type": "code",
   "execution_count": null,
   "id": "6dde9667-c02f-4da9-8567-c13b54ea9c6b",
   "metadata": {},
   "outputs": [],
   "source": []
  },
  {
   "cell_type": "code",
   "execution_count": 50,
   "id": "fefea6b8-b307-4635-afc2-6943d73bca0f",
   "metadata": {},
   "outputs": [
    {
     "ename": "NameError",
     "evalue": "name 'count_upland_w_34_2016' is not defined",
     "output_type": "error",
     "traceback": [
      "\u001b[31m---------------------------------------------------------------------------\u001b[39m",
      "\u001b[31mNameError\u001b[39m                                 Traceback (most recent call last)",
      "\u001b[36mCell\u001b[39m\u001b[36m \u001b[39m\u001b[32mIn[50]\u001b[39m\u001b[32m, line 1\u001b[39m\n\u001b[32m----> \u001b[39m\u001b[32m1\u001b[39m area_sq_m_upland_w_34_2016 = \u001b[43mcount_upland_w_34_2016\u001b[49m * pixel_area_sq_m\n\u001b[32m      2\u001b[39m \u001b[38;5;66;03m# area_sq_m_upland_w_34_2016\u001b[39;00m\n",
      "\u001b[31mNameError\u001b[39m: name 'count_upland_w_34_2016' is not defined"
     ]
    }
   ],
   "source": [
    "area_sq_m_upland_w_34_2016 = count_upland_w_34_2016 * pixel_area_sq_m\n",
    "# area_sq_m_upland_w_34_2016"
   ]
  },
  {
   "cell_type": "code",
   "execution_count": null,
   "id": "5a1bd08c-4237-44a3-a56e-114d54802ebd",
   "metadata": {},
   "outputs": [],
   "source": [
    "overlap_count_upland_2016 = np.sum(gfw_upland_2016_overlap)\n",
    "# overlap_count_upland_2016\n",
    "overlap_count_lowland_2016 = np.sum(gfw_lowland_2016_overlap)\n"
   ]
  },
  {
   "cell_type": "code",
   "execution_count": null,
   "id": "525e9c66-2620-482e-bf94-187982a682f8",
   "metadata": {},
   "outputs": [],
   "source": [
    "area_ha_upland_w_34_2016 = area_sq_m_upland_w_34_2016 / 10000.0\n",
    "print('upland tree cover loss in 2016')\n",
    "print(f\"Total Overlap Pixels: {count_upland_w_34_2016}\")\n",
    "print(f\"Single Pixel Area: {pixel_area_sq_m:.2f} m²\")\n",
    "print(f\"Total Overlap Area: {area_ha_upland_w_34_2016:.2f} hectares\")"
   ]
  },
  {
   "cell_type": "code",
   "execution_count": null,
   "id": "e4fe1fa3-1be7-4dd7-879a-d5cf26dfff25",
   "metadata": {},
   "outputs": [],
   "source": [
    "stop"
   ]
  },
  {
   "cell_type": "code",
   "execution_count": null,
   "id": "8ce330d5-b581-42f9-ac11-3d428ea528f2",
   "metadata": {},
   "outputs": [],
   "source": [
    "# # tc_w is your GeoDataFrame (not a shapely Polygon)\n",
    "# poly = tc_w_34.geometry.iloc[0]          # shapely Polygon\n",
    "# # OR: poly = tc_w.loc[0, 'geometry']\n",
    "\n",
    "# ensure the GeoDataFrame CRS matches the raster CRS\n",
    "tc_w_34 = tc_w_34.to_crs(fiji_gfw_xr.rio.crs)\n",
    "\n",
    "# clip raster to the polygon (returns a DataArray)\n",
    "clipped_tc_w_34 = fiji_gfw_xr.rio.clip([poly], crs=tc_w_34.crs, all_touched=False, drop=False)\n",
    "\n",
    "# build boolean masks and sum pixels inside the clipped window\n",
    "mask_year = (clipped == 16)           # e.g. year 2016 (boolean DataArray)\n",
    "mask_upland = (dem_aligned > 600)     # if dem_aligned is already aligned & same CRS\n",
    "# convert to 0/1 and sum over spatial dims (use your dim names)\n",
    "pixels_overlap = int((mask_year.astype('uint8') * mask_upland.astype('uint8')).sum().compute().item())\n",
    "print(\"pixels overlap:\", pixels_overlap)"
   ]
  },
  {
   "cell_type": "code",
   "execution_count": null,
   "id": "0b4bafc3-59de-490a-a35b-6bb4aa075ac3",
   "metadata": {},
   "outputs": [],
   "source": [
    "# # raster: xarray.DataArray already reprojected/aligned (e.g. fiji_gfw_xr or dem_aligned)\n",
    "# # gdf: geopandas.GeoDataFrame in same CRS as raster\n",
    "\n",
    "# # For one polygon:\n",
    "# tc_w_34 = tc_w_34.loc[0, 'geometry']   # single geometry\n",
    "# # Clip raster to polygon (keeps metadata & transform)\n",
    "# clipped_tc_w_34 = fiji_gfw_xr.rio.clip([tc_w_34], crs=tc_w_34.crs, all_touched=False, drop=False)\n",
    "\n"
   ]
  },
  {
   "cell_type": "code",
   "execution_count": null,
   "id": "40c00a9c-d9ea-4635-ad86-4d19959028fa",
   "metadata": {},
   "outputs": [],
   "source": [
    "# Build masks from clipped data, e.g. year mask and upland mask\n",
    "year_mask = (clipped == 16)  # will be same shape, masked outside polygon as nodata\n",
    "upland_mask = (dem_aligned == 1)  # or your upland boolean\n",
    "\n",
    "# masked arrays may contain nodata outside polygon; convert to 0/1 then sum\n",
    "# If year_mask is categorical, ensure boolean:\n",
    "year_bool = xr.where(year_mask, 1, 0).astype('uint8')\n",
    "upland_bool = xr.where(upland_mask, 1, 0).astype('uint8')\n",
    "\n",
    "# Multiply then sum (sum over spatial dims)\n",
    "overlap_pixels = int((year_bool * upland_bool).sum(dim=('y','x')).compute())"
   ]
  },
  {
   "cell_type": "code",
   "execution_count": null,
   "id": "4ee873d8-42df-4d9d-ba3c-5096c254062e",
   "metadata": {},
   "outputs": [],
   "source": []
  },
  {
   "cell_type": "code",
   "execution_count": null,
   "id": "fe915c23-9940-48f8-8196-3feebdae48ca",
   "metadata": {},
   "outputs": [],
   "source": [
    "clipped_overlap_da = gfw_upland_2016_overlap.rio.clip(\n",
    "    winston_swaths=winston_swaths,\n",
    "    # clip_box=True is often safer for aligning the extent\n",
    "    all_touched=True,  # Include pixels touched by the boundary, not just centers\n",
    ")"
   ]
  },
  {
   "cell_type": "code",
   "execution_count": null,
   "id": "92f7bfae-3ad4-4691-906b-c549b023fdce",
   "metadata": {},
   "outputs": [],
   "source": [
    "# 1. Wrap the boolean NumPy array into a new DataArray\n",
    "overlap_da = xr.DataArray(\n",
    "    data=gfw_upland_2016_overlap,\n",
    "    coords=gfw_2016_ref.coords,\n",
    "    dims=gfw_2016_ref.dims,\n",
    "    name='overlap_mask'\n",
    ")\n",
    "\n",
    "# 2. Re-write the geospatial attributes using the .rio accessor\n",
    "overlap_da = overlap_da.rio.write_crs(gfw_2016_ref.rio.crs)\n",
    "overlap_da = overlap_da.rio.write_transform(gfw_2016_ref.rio.transform())\n",
    "\n",
    "# Ensure the CRS is written before clipping\n",
    "overlap_da = overlap_da.rio.set_spatial_dims(x_dim='x', y_dim='y', inplace=True)"
   ]
  }
 ],
 "metadata": {
  "kernelspec": {
   "display_name": "Python 3 (ipykernel)",
   "language": "python",
   "name": "python3"
  },
  "language_info": {
   "codemirror_mode": {
    "name": "ipython",
    "version": 3
   },
   "file_extension": ".py",
   "mimetype": "text/x-python",
   "name": "python",
   "nbconvert_exporter": "python",
   "pygments_lexer": "ipython3",
   "version": "3.11.13"
  }
 },
 "nbformat": 4,
 "nbformat_minor": 5
}
