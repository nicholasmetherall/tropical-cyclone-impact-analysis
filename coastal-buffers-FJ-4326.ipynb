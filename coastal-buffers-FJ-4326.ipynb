{
 "cells": [
  {
   "cell_type": "code",
   "execution_count": 85,
   "id": "a762de0e-843a-4fb1-a83f-d070bc3db7fe",
   "metadata": {},
   "outputs": [],
   "source": [
    "import geopandas as gpd\n",
    "import pandas as pd\n",
    "import rasterio as rio\n",
    "from rasterio import features\n",
    "from rasterio.features import rasterize\n",
    "from geocube.api.core import make_geocube\n",
    "from geocube.rasterize import rasterize_image\n",
    "from functools import partial\n",
    "from rasterio.enums import MergeAlg\n",
    "import rasterio\n",
    "from rasterio.transform import from_bounds\n",
    "from shapely.geometry import MultiPolygon, Polygon\n",
    "from shapely.ops import unary_union\n",
    "import rioxarray\n",
    "from shapely.geometry import box\n",
    "from rasterio.features import shapes\n",
    "from shapely.geometry import shape  # Ensure this is imported"
   ]
  },
  {
   "cell_type": "code",
   "execution_count": 86,
   "id": "ad176633-9e70-4abe-af80-5386b8bf88ea",
   "metadata": {},
   "outputs": [],
   "source": [
    "fiji = gpd.read_file(\"fiji.geojson\").fillna(0).to_crs(\"EPSG:32760\")"
   ]
  },
  {
   "cell_type": "code",
   "execution_count": 87,
   "id": "d98303c2-f40f-41c6-94df-d168f32ceb31",
   "metadata": {},
   "outputs": [
    {
     "data": {
      "text/plain": [
       "<Axes: >"
      ]
     },
     "execution_count": 87,
     "metadata": {},
     "output_type": "execute_result"
    },
    {
     "data": {
      "image/png": "[encoded data removed]",
      "text/plain": [
       "<Figure size 640x480 with 1 Axes>"
      ]
     },
     "metadata": {},
     "output_type": "display_data"
    }
   ],
   "source": [
    "fiji.plot()"
   ]
  },
  {
   "cell_type": "markdown",
   "id": "470634f2-e2ef-4935-9837-441b0de8a14b",
   "metadata": {},
   "source": [
    "Setup ring buffers"
   ]
  },
  {
   "cell_type": "code",
   "execution_count": 88,
   "id": "310d6e89-f86b-4ab7-afe0-797ca37a1d9e",
   "metadata": {},
   "outputs": [],
   "source": [
    "buffer_100 = fiji.buffer(-100)\n",
    "# buffer_250 = fiji.buffer(-250)\n",
    "# buffer_500 = fiji.buffer(-500)\n",
    "# buffer_1000 = fiji.buffer(-1000)\n",
    "# buffer_2000 = fiji.buffer(-2000)\n",
    "# buffer_3000 = fiji.buffer(-3000)"
   ]
  },
  {
   "cell_type": "code",
   "execution_count": 92,
   "id": "e5dd9be1-1fb0-45a8-a3d9-2c7f0af8bab3",
   "metadata": {},
   "outputs": [],
   "source": [
    "buffer_100 = buffer_100.to_crs(\"EPSG:32760\")"
   ]
  },
  {
   "cell_type": "code",
   "execution_count": 93,
   "id": "7bc72f71-5d5a-46fb-b167-a7143ba369e0",
   "metadata": {},
   "outputs": [],
   "source": [
    "ring_buffer_100 = buffer_100.symmetric_difference(fiji, align=True)\n",
    "# ring_buffer_250 = buffer_250.symmetric_difference(fiji, align=True)\n",
    "# ring_buffer_500 = buffer_500.symmetric_difference(fiji, align=True)\n",
    "# ring_buffer_1000 = buffer_1000.symmetric_difference(fiji, align=True)\n",
    "# ring_buffer_2000 = buffer_2000.symmetric_difference(fiji, align=True)\n",
    "# ring_buffer_3000 = buffer_3000.symmetric_difference(fiji, align=True)"
   ]
  },
  {
   "cell_type": "code",
   "execution_count": 94,
   "id": "d31832c9-0c44-423f-b38c-998c926923e8",
   "metadata": {},
   "outputs": [],
   "source": [
    "ring_buffer_100.to_file(\"fiji/ring_buffer_100.geojson\")\n",
    "# ring_buffer_250.to_file(\"fiji/ring_buffer_250.geojson\")\n",
    "# ring_buffer_500.to_file(\"fiji/ring_buffer_500.geojson\")\n",
    "# ring_buffer_1000.to_file(\"fiji/ring_buffer_1000.geojson\")\n",
    "# ring_buffer_2000.to_file(\"fiji/ring_buffer_2000.geojson\")\n",
    "# ring_buffer_3000.to_file(\"fiji/ring_buffer_3000.geojson\")"
   ]
  },
  {
   "cell_type": "code",
   "execution_count": 95,
   "id": "93cb0751-0a6c-4073-bb39-e1786d99350c",
   "metadata": {},
   "outputs": [],
   "source": [
    "polygon = ring_buffer_100.geometry[0]"
   ]
  },
  {
   "cell_type": "code",
   "execution_count": 96,
   "id": "94c8835a-d425-43a3-84c6-11c7218e1ace",
   "metadata": {},
   "outputs": [],
   "source": [
    "# Flatten to a single Polygon\n",
    "flattened_polygon = unary_union(ring_buffer_100.geometry)"
   ]
  },
  {
   "cell_type": "code",
   "execution_count": 97,
   "id": "f25b6f29-af2a-4e67-8f06-2ced2876e8b2",
   "metadata": {},
   "outputs": [],
   "source": [
    "polygon = flattened_polygon"
   ]
  },
  {
   "cell_type": "code",
   "execution_count": 98,
   "id": "9a44d632-0bff-4c72-b9bb-5042ea35710a",
   "metadata": {},
   "outputs": [],
   "source": [
    "buffer_gdf = gpd.GeoDataFrame(geometry=[polygon], crs=\"EPSG:32760\")  # Adjust CRS as needed"
   ]
  },
  {
   "cell_type": "code",
   "execution_count": 99,
   "id": "c19ab908-2f13-4148-a4d8-b2df570c6458",
   "metadata": {},
   "outputs": [],
   "source": [
    "buffer_gdf.to_file(\"buffer_gdf.geojson\")"
   ]
  },
  {
   "cell_type": "code",
   "execution_count": 12,
   "id": "be8dbf68-2993-4b0e-ae44-519262285e11",
   "metadata": {},
   "outputs": [],
   "source": [
    "# clipped.to_file(\"clipped_100_fj.geojson\")"
   ]
  },
  {
   "cell_type": "code",
   "execution_count": 13,
   "id": "9c956ced-ac09-4fd4-996d-440f22ca7cb4",
   "metadata": {},
   "outputs": [
    {
     "name": "stderr",
     "output_type": "stream",
     "text": [
      "/tmp/ipykernel_1486/3387814996.py:1: FutureWarning: Downcasting object dtype arrays on .fillna, .ffill, .bfill is deprecated and will change in a future version. Call result.infer_objects(copy=False) instead. To opt-in to the future behavior, set `pd.set_option('future.no_silent_downcasting', True)`\n",
      "  Yasa_fj_34kn = gpd.read_file(\"swaths/Yasa_FJ_34kn.geojson\").fillna(0).to_crs(\"EPSG:4326\")\n"
     ]
    }
   ],
   "source": [
    "# Yasa_fj_34kn = gpd.read_file(\"swaths/Yasa_FJ_34kn.geojson\").fillna(0).to_crs(\"EPSG:32760\")"
   ]
  },
  {
   "cell_type": "code",
   "execution_count": null,
   "id": "f42f6a16-061e-4b02-93a9-4d3d01bc85d4",
   "metadata": {},
   "outputs": [],
   "source": []
  },
  {
   "cell_type": "code",
   "execution_count": 101,
   "id": "5cedaa18-b1e9-4389-ac0c-9ab43b80ffaf",
   "metadata": {},
   "outputs": [
    {
     "name": "stdout",
     "output_type": "stream",
     "text": [
      "Polygon GDF validity:\n",
      "0    True\n",
      "dtype: bool\n"
     ]
    }
   ],
   "source": [
    "print(\"Polygon GDF validity:\")\n",
    "print(polygon_gdf.is_valid)"
   ]
  },
  {
   "cell_type": "code",
   "execution_count": 102,
   "id": "8a3aaae4-895e-492c-975f-34391b4fd53c",
   "metadata": {},
   "outputs": [],
   "source": [
    "Yasa_fj_34kn[\"geometry\"] = Yasa_fj_34kn.geometry.buffer(0)"
   ]
  },
  {
   "cell_type": "code",
   "execution_count": 103,
   "id": "03954aa4-b61b-408f-b4c2-a595c308f900",
   "metadata": {
    "scrolled": true
   },
   "outputs": [
    {
     "name": "stdout",
     "output_type": "stream",
     "text": [
      "Yasa_fj_34kn validity:\n",
      "0    True\n",
      "dtype: bool\n"
     ]
    }
   ],
   "source": [
    "print(\"Yasa_fj_34kn validity:\")\n",
    "print(Yasa_fj_34kn.is_valid)"
   ]
  },
  {
   "cell_type": "code",
   "execution_count": 104,
   "id": "5968b56a-3636-44e2-93db-eb30e356b4b0",
   "metadata": {},
   "outputs": [],
   "source": [
    "clipped_Yasa_34kn = gpd.clip(polygon_gdf, Yasa_fj_34kn)"
   ]
  },
  {
   "cell_type": "code",
   "execution_count": 112,
   "id": "41258d6e-2a82-4067-aa18-8e7a11aa79d7",
   "metadata": {},
   "outputs": [],
   "source": [
    "clipped_Yasa_34kn = clipped_Yasa_34kn.to_crs(\"EPSG:32760\")"
   ]
  },
  {
   "cell_type": "code",
   "execution_count": 113,
   "id": "e0781c0e-f367-4189-95ad-1a52b38024a7",
   "metadata": {},
   "outputs": [],
   "source": [
    "# clipped_Yasa_34kn.to_file(\"clipped_Yasa_34kn.geojson\")"
   ]
  },
  {
   "cell_type": "code",
   "execution_count": 114,
   "id": "74966cbc-62a8-4b34-848e-0d24709d702c",
   "metadata": {},
   "outputs": [],
   "source": [
    "fiji_gfw = rioxarray.open_rasterio(\"GFW/Fiji_GFW_2000_2023.tif\")"
   ]
  },
  {
   "cell_type": "code",
   "execution_count": 115,
   "id": "b7a2a199-191c-4d58-975f-4b3c1728805b",
   "metadata": {},
   "outputs": [
    {
     "name": "stdout",
     "output_type": "stream",
     "text": [
      "CRS: EPSG:4326\n"
     ]
    }
   ],
   "source": [
    "# print(\"CRS:\", clipped_Yasa_34kn.crs)\n",
    "print(\"CRS:\", fiji_gfw.rio.crs)"
   ]
  },
  {
   "cell_type": "code",
   "execution_count": 116,
   "id": "a8e54f49-2fba-48bf-8889-bfee112006a1",
   "metadata": {},
   "outputs": [],
   "source": [
    "# Reproject the raster\n",
    "fiji_gfw = fiji_gfw.rio.reproject(\"EPSG:32760\")"
   ]
  },
  {
   "cell_type": "code",
   "execution_count": 117,
   "id": "4f33432e-ceeb-43ea-9de4-78aadb4ff7f2",
   "metadata": {},
   "outputs": [],
   "source": [
    "# Assuming you have a GeoDataFrame for the mask\n",
    "clipped_34kn_100m_gfw = fiji_gfw.rio.clip(clipped_Yasa_34kn.geometry, fiji_gfw.rio.crs)"
   ]
  },
  {
   "cell_type": "code",
   "execution_count": 118,
   "id": "d333048b-931d-4a5d-a0ac-20c169886de1",
   "metadata": {},
   "outputs": [],
   "source": [
    "# clipped_34kn_100m_gfw.rio.to_raster(\"clipped_34kn_100m_gfw.tif\")"
   ]
  },
  {
   "cell_type": "code",
   "execution_count": 119,
   "id": "3cace301-58e0-4fe5-aa9b-81bbe38a32e1",
   "metadata": {},
   "outputs": [
    {
     "name": "stdout",
     "output_type": "stream",
     "text": [
      "Raster Bounds: (489338.6152427596, 7875457.740070929, 820866.3500067786, 8213306.916816804)\n"
     ]
    }
   ],
   "source": [
    "# Get the bounding box of the raster\n",
    "raster_bounds = clipped_34kn_100m_gfw.rio.bounds()\n",
    "print(\"Raster Bounds:\", raster_bounds)"
   ]
  },
  {
   "cell_type": "code",
   "execution_count": 120,
   "id": "27cd01ff-fbc8-45fd-bc35-69072403e110",
   "metadata": {},
   "outputs": [],
   "source": [
    "raster_extent = box(*raster_bounds)\n",
    "\n",
    "# Clip the vector data\n",
    "clipped_gdf = clipped_Yasa_34kn.clip(raster_extent)\n",
    "\n",
    "# Save the clipped GeoDataFrame (optional)\n",
    "clipped_gdf.to_file(\"clipped_yasa_34kn_TCL.geojson\")"
   ]
  },
  {
   "cell_type": "code",
   "execution_count": 121,
   "id": "22ff6797-25a7-4a09-9af2-9d558c9a49f8",
   "metadata": {},
   "outputs": [],
   "source": [
    "raster_path = \"GFW/LossYear_GFW_Fiji.tif\""
   ]
  },
  {
   "cell_type": "code",
   "execution_count": 122,
   "id": "6bf3f00d-92c4-4c70-a010-d1eb085aed44",
   "metadata": {},
   "outputs": [],
   "source": [
    "with rasterio.open(raster_path) as src:\n",
    "    raster_data = src.read(1)  # Read the first band\n",
    "    transform = src.transform  # Get the affine transform\n",
    "    crs = \"EPSG:32760\""
   ]
  },
  {
   "cell_type": "code",
   "execution_count": 123,
   "id": "2934999a-355e-400c-99ea-fe6763579983",
   "metadata": {},
   "outputs": [
    {
     "name": "stdout",
     "output_type": "stream",
     "text": [
      "New raster created: GFW/GFW_TC_Winston_2016.tif\n"
     ]
    }
   ],
   "source": [
    "import rasterio\n",
    "import numpy as np\n",
    "\n",
    "# Path to the input raster and the output raster\n",
    "input_raster_path = \"GFW/LossYear_GFW_Fiji.tif\"\n",
    "output_raster_path = \"GFW/GFW_TC_Winston_2016.tif\"\n",
    "\n",
    "# The specific value you want to extract (e.g., 100)\n",
    "specific_value = 15\n",
    "\n",
    "# Ensure no-data value is valid for uint8\n",
    "dtype = data.dtype\n",
    "if dtype == \"uint8\":\n",
    "    custom_nodata = 255  # Valid no-data value for uint8\n",
    "else:\n",
    "    custom_nodata = -9999  # Default for other data types\n",
    "\n",
    "# Open the input raster file\n",
    "with rasterio.open(input_raster_path) as src:\n",
    "    # Read the data for the first band (you can modify for multi-band raster)\n",
    "    data = src.read(1)  # Read the first band\n",
    "    \n",
    "    # Create a mask where the value matches the specific value\n",
    "    mask = data == specific_value\n",
    "    \n",
    "    # Replace the non-matching values with the custom no-data value\n",
    "    data[~mask] = custom_nodata  # Set all other pixels to custom no-data value\n",
    "    \n",
    "    # Copy the metadata from the source raster\n",
    "    metadata = src.meta\n",
    "    \n",
    "    # Update the metadata to reflect that the new raster is single-band\n",
    "    metadata.update(count=1, nodata=custom_nodata)\n",
    "    \n",
    "    # Create and write the new raster file with the filtered values\n",
    "    with rasterio.open(output_raster_path, 'w', **metadata) as dst:\n",
    "        dst.write(data, 1)  # Write the modified data (filtered)\n",
    "\n",
    "print(f\"New raster created: {output_raster_path}\")\n"
   ]
  },
  {
   "cell_type": "code",
   "execution_count": 124,
   "id": "d2a6a908-00a6-4df9-b01c-0c90a4df6ee8",
   "metadata": {},
   "outputs": [
    {
     "name": "stdout",
     "output_type": "stream",
     "text": [
      "Raster CRS updated and saved to: GFW/GFW_TC_Winston_2016.tif\n"
     ]
    }
   ],
   "source": [
    "# Path to the raster file\n",
    "input_raster_path = \"GFW/GFW_TC_Winston_2016.tif\"\n",
    "output_raster_path = \"GFW/GFW_TC_Winston_2016.tif\"\n",
    "\n",
    "# Define the new CRS (e.g., EPSG:32760 for Web Mercator)\n",
    "new_crs = \"EPSG:32760\"\n",
    "\n",
    "# Open the raster file\n",
    "with rasterio.open(input_raster_path) as src:\n",
    "    # Read the metadata\n",
    "    metadata = src.meta.copy()\n",
    "    \n",
    "    # Update the CRS in the metadata\n",
    "    metadata.update(crs=new_crs)\n",
    "    \n",
    "    # Write a new file with the updated CRS\n",
    "    with rasterio.open(output_raster_path, 'w', **metadata) as dst:\n",
    "        dst.write(src.read())  # Copy all data bands to the new file\n",
    "\n",
    "print(f\"Raster CRS updated and saved to: {output_raster_path}\")"
   ]
  },
  {
   "cell_type": "code",
   "execution_count": 125,
   "id": "f80274d8-9adf-4e58-9cd7-919bd01d5f16",
   "metadata": {},
   "outputs": [],
   "source": [
    "# Extract shapes and values from the raster\n",
    "shapes_generator = shapes(data, transform=transform)\n",
    "\n",
    "# Create a list of geometries and values\n",
    "geometries = []\n",
    "for geom, value in shapes_generator:\n",
    "    geometries.append({\"geometry\": shape(geom), \"value\": value})"
   ]
  },
  {
   "cell_type": "code",
   "execution_count": 126,
   "id": "04d121e8-256c-4f13-afa2-d2e9c7b0dcaa",
   "metadata": {},
   "outputs": [
    {
     "name": "stdout",
     "output_type": "stream",
     "text": [
      "                                            geometry  value\n",
      "0  POLYGON ((179.08806 -16.48822, 179.08806 -16.4...   15.0\n",
      "1  POLYGON ((179.06084 -16.49281, 179.06084 -16.4...   15.0\n",
      "2  POLYGON ((179.14465 -16.49388, 179.14465 -16.4...   15.0\n",
      "3  POLYGON ((179.09641 -16.50116, 179.09641 -16.5...   15.0\n",
      "4  POLYGON ((178.91289 -16.50278, 178.91289 -16.5...   15.0\n"
     ]
    }
   ],
   "source": [
    "# Create a GeoDataFrame\n",
    "gdf = gpd.GeoDataFrame(geometries).fillna(0)\n",
    "\n",
    "# Assign a CRS (use the CRS of the raster if available)\n",
    "gdf.set_crs(polygon_gdf.crs, inplace=True)\n",
    "\n",
    "# Display the GeoDataFrame\n",
    "print(gdf.head())"
   ]
  },
  {
   "cell_type": "code",
   "execution_count": 127,
   "id": "af554830-2640-4f62-b35e-87e7fb05fe40",
   "metadata": {},
   "outputs": [
    {
     "name": "stdout",
     "output_type": "stream",
     "text": [
      "CRS: EPSG:4326\n",
      "CRS: EPSG:4326\n"
     ]
    }
   ],
   "source": [
    "# print(\"CRS:\", clipped_Yasa_34kn.crs)\n",
    "print(\"CRS:\", polygon_gdf.crs)\n",
    "print(\"CRS:\", gdf.crs)"
   ]
  },
  {
   "cell_type": "code",
   "execution_count": 128,
   "id": "e45e9629-f1f1-49ed-a638-9baadff7d661",
   "metadata": {},
   "outputs": [
    {
     "name": "stdout",
     "output_type": "stream",
     "text": [
      "                                            geometry  value\n",
      "0  POLYGON ((179.08806 -16.48822, 179.08806 -16.4...   15.0\n",
      "1  POLYGON ((179.06084 -16.49281, 179.06084 -16.4...   15.0\n",
      "2  POLYGON ((179.14465 -16.49388, 179.14465 -16.4...   15.0\n",
      "3  POLYGON ((179.09641 -16.50116, 179.09641 -16.5...   15.0\n",
      "4  POLYGON ((178.91289 -16.50278, 178.91289 -16.5...   15.0\n"
     ]
    }
   ],
   "source": [
    "print(gdf.head())"
   ]
  },
  {
   "cell_type": "code",
   "execution_count": 129,
   "id": "e8317ee1-e3a7-4fa4-9fc2-24c7faa30282",
   "metadata": {},
   "outputs": [],
   "source": [
    "# gdf.to_file(\"gdf_test.geojson\")"
   ]
  },
  {
   "cell_type": "code",
   "execution_count": 130,
   "id": "506d9101-cd65-4e5d-8e17-156257d41940",
   "metadata": {},
   "outputs": [],
   "source": [
    "# clipped_Yasa_34kn = gpd.clip(polygon_gdf, gdf)"
   ]
  },
  {
   "cell_type": "code",
   "execution_count": null,
   "id": "d242653c-7887-494c-aba0-c000691af2f2",
   "metadata": {},
   "outputs": [],
   "source": []
  },
  {
   "cell_type": "code",
   "execution_count": 131,
   "id": "18a8a9ba-972f-4e9f-941e-88b11e74f9c0",
   "metadata": {},
   "outputs": [],
   "source": [
    "# Ensure the GeoDataFrame contains Polygon geometries\n",
    "# Here, we assume that the first geometry in the GeoDataFrame is a Polygon.\n",
    "polygons = gdf.geometry.tolist()\n",
    "\n",
    "# Convert to a MultiPolygon (even if you have only one polygon)\n",
    "multipolygon = MultiPolygon(polygons)"
   ]
  },
  {
   "cell_type": "code",
   "execution_count": 132,
   "id": "389e8500-3d24-499f-a511-aebf293d0fb2",
   "metadata": {},
   "outputs": [
    {
     "name": "stdout",
     "output_type": "stream",
     "text": [
      "                                            geometry\n",
      "0  MULTIPOLYGON (((179.08806 -16.48822, 179.08806...\n"
     ]
    }
   ],
   "source": [
    "# If you want to create a new GeoDataFrame with the MultiPolygon:\n",
    "multipolygon_gdf = gpd.GeoDataFrame({'geometry': [multipolygon]})\n",
    "\n",
    "# Set the CRS if necessary (optional)\n",
    "multipolygon_gdf.set_crs(gdf.crs, inplace=True)\n",
    "\n",
    "# Display the result\n",
    "print(multipolygon_gdf.head())"
   ]
  },
  {
   "cell_type": "code",
   "execution_count": 133,
   "id": "e5c7ca38-1e8f-4de4-9e83-336f8b92c6b3",
   "metadata": {},
   "outputs": [
    {
     "name": "stdout",
     "output_type": "stream",
     "text": [
      "                                            geometry\n",
      "0  MULTIPOLYGON (((-179.87944 -19.02111, -179.879...\n"
     ]
    }
   ],
   "source": [
    "print(polygon_gdf.head())"
   ]
  },
  {
   "cell_type": "code",
   "execution_count": 134,
   "id": "ef13942a-dd25-49b3-80dd-5f01fbd95283",
   "metadata": {},
   "outputs": [
    {
     "name": "stdout",
     "output_type": "stream",
     "text": [
      "CRS: EPSG:4326\n"
     ]
    }
   ],
   "source": [
    "# print(\"CRS:\", clipped_Yasa_34kn.crs)\n",
    "print(\"CRS:\", polygon_gdf.crs)\n"
   ]
  },
  {
   "cell_type": "code",
   "execution_count": 140,
   "id": "7d5502e1-afa2-4adc-95c6-fac834bf0071",
   "metadata": {},
   "outputs": [
    {
     "name": "stdout",
     "output_type": "stream",
     "text": [
      "EPSG:4326\n"
     ]
    }
   ],
   "source": [
    "print(multipolygon_gdf.crs)"
   ]
  },
  {
   "cell_type": "code",
   "execution_count": 141,
   "id": "49f8159f-c9a4-4a51-80ac-d2825dcfff4b",
   "metadata": {},
   "outputs": [],
   "source": [
    "# gdf.to_file(\"gfw_gdf.geojson\")"
   ]
  },
  {
   "cell_type": "code",
   "execution_count": 145,
   "id": "3b4912a9-277f-47c0-8eb8-5587adea2982",
   "metadata": {},
   "outputs": [],
   "source": [
    "filtered_gdf = filtered_gdf.to_crs(\"EPSG:32760\")"
   ]
  },
  {
   "cell_type": "code",
   "execution_count": 142,
   "id": "a459ac1d-72be-4401-9cef-aa11cf88150c",
   "metadata": {},
   "outputs": [],
   "source": [
    "# Specify the column and the specific value to filter\n",
    "filter_column = \"value\"  # Column with the values\n",
    "specific_value = 15    # Replace with the value you want to extract\n",
    "\n",
    "# Filter the GeoDataFrame for the specific value\n",
    "filtered_gdf = gdf[gdf[filter_column] == specific_value]\n",
    "\n",
    "# Save the filtered GeoDataFrame to a new file (optional)\n",
    "filtered_gdf.to_file(\"filtered_polygons.gpkg\", driver=\"GPKG\")\n"
   ]
  },
  {
   "cell_type": "code",
   "execution_count": 143,
   "id": "95ad307d-4808-4bbc-83be-5c83535c23a1",
   "metadata": {},
   "outputs": [],
   "source": [
    "# clipped_Yasa_34kn = gpd.clip(polygon_gdf, multipolygon_gdf)"
   ]
  },
  {
   "cell_type": "code",
   "execution_count": 146,
   "id": "5fd9454a-0536-4b5d-a2ea-095e70f2c099",
   "metadata": {},
   "outputs": [],
   "source": [
    "clipped_Yasa_34kn = gpd.clip(filtered_gdf, buffer_gdf)"
   ]
  },
  {
   "cell_type": "code",
   "execution_count": 60,
   "id": "eb7fbf85-915b-44c6-a470-53a7e7307580",
   "metadata": {},
   "outputs": [],
   "source": [
    "# clipped_Yasa_34kn = gpd.clip(filtered_gdf, clipped_Yasa_34kn)"
   ]
  },
  {
   "cell_type": "code",
   "execution_count": 147,
   "id": "c04a5372-d151-4934-a6a4-c3ef7c78a38f",
   "metadata": {},
   "outputs": [
    {
     "name": "stdout",
     "output_type": "stream",
     "text": [
      "                                               geometry  value\n",
      "3646  POLYGON ((635821.428 7899012.176, 635820.553 7...   15.0\n",
      "3633  POLYGON ((638082.934 7905527.511, 638082.49 79...   15.0\n",
      "3609  POLYGON ((576825.413 7986008.138, 576768.42 79...   15.0\n",
      "3632  POLYGON ((655915.508 7906460.304, 655915.758 7...   15.0\n",
      "3630  POLYGON ((655309.436 7912073.153, 655309.187 7...   15.0\n"
     ]
    }
   ],
   "source": [
    "print(clipped_Yasa_34kn.head())"
   ]
  },
  {
   "cell_type": "code",
   "execution_count": 100,
   "id": "04cbccf0-91b6-4540-8b4d-67cef231e98a",
   "metadata": {},
   "outputs": [
    {
     "name": "stdout",
     "output_type": "stream",
     "text": [
      "EPSG:4326\n",
      "EPSG:4326\n"
     ]
    }
   ],
   "source": [
    "print(filtered_gdf.crs)\n",
    "print(polygon_gdf.crs)"
   ]
  },
  {
   "cell_type": "code",
   "execution_count": 63,
   "id": "a5a7c727-34ee-4cda-96fe-5ed2a210d6c8",
   "metadata": {},
   "outputs": [],
   "source": [
    "filtered_gdf.to_file(\"filtered_gdf.geojson\")\n",
    "# polygon_gdf.to_file(\"polygon_gdf.geojson\")"
   ]
  },
  {
   "cell_type": "code",
   "execution_count": null,
   "id": "9890775a-1e98-4b12-abcf-9a74598946ff",
   "metadata": {},
   "outputs": [],
   "source": []
  },
  {
   "cell_type": "code",
   "execution_count": 67,
   "id": "1df41097-6cba-455d-88fb-3b5117f30e4f",
   "metadata": {},
   "outputs": [],
   "source": [
    "clipped_Yasa_34kn.to_file(\"clipped_Yasa_34kn_gfw.geojson\")"
   ]
  },
  {
   "cell_type": "code",
   "execution_count": 55,
   "id": "b9633aa7-6142-414c-a85c-2ee5870d75de",
   "metadata": {},
   "outputs": [
    {
     "name": "stderr",
     "output_type": "stream",
     "text": [
      "/tmp/ipykernel_1486/940385411.py:1: DeprecationWarning: The 'unary_union' attribute is deprecated, use the 'union_all()' method instead.\n",
      "  intersection_exists = filtered_gdf.geometry.intersects(polygon_gdf.unary_union).any()\n"
     ]
    },
    {
     "name": "stdout",
     "output_type": "stream",
     "text": [
      "Do they intersect? True\n"
     ]
    }
   ],
   "source": [
    "intersection_exists = filtered_gdf.geometry.intersects(polygon_gdf.unary_union).any()\n",
    "print(\"Do they intersect?\", intersection_exists)"
   ]
  },
  {
   "cell_type": "code",
   "execution_count": null,
   "id": "88ea2554-1ce0-4177-8870-a9220a8851b0",
   "metadata": {},
   "outputs": [],
   "source": []
  }
 ],
 "metadata": {
  "kernelspec": {
   "display_name": "Python 3 (ipykernel)",
   "language": "python",
   "name": "python3"
  },
  "language_info": {
   "codemirror_mode": {
    "name": "ipython",
    "version": 3
   },
   "file_extension": ".py",
   "mimetype": "text/x-python",
   "name": "python",
   "nbconvert_exporter": "python",
   "pygments_lexer": "ipython3",
   "version": "3.10.15"
  }
 },
 "nbformat": 4,
 "nbformat_minor": 5
}
