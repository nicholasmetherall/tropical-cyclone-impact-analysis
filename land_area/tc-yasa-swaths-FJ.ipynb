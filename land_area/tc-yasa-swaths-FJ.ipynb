{
 "cells": [
  {
   "cell_type": "code",
   "execution_count": 1,
   "id": "3b335453-39e1-46d4-9677-56cf3a393ecf",
   "metadata": {},
   "outputs": [
    {
     "name": "stdout",
     "output_type": "stream",
     "text": [
      "Requirement already satisfied: openpyxl in /srv/conda/envs/notebook/lib/python3.10/site-packages (3.1.5)\n",
      "Requirement already satisfied: et-xmlfile in /srv/conda/envs/notebook/lib/python3.10/site-packages (from openpyxl) (1.1.0)\n"
     ]
    }
   ],
   "source": [
    "import libraries as lib\n",
    "import geopandas as gpd\n",
    "import pandas as pd\n",
    "import rasterio as rio\n",
    "import xarray as xr\n",
    "import rioxarray\n",
    "!pip install openpyxl\n",
    "import openpyxl"
   ]
  },
  {
   "cell_type": "code",
   "execution_count": 2,
   "id": "8317e5b6-05ce-44c2-97e4-fbdd190d0834",
   "metadata": {},
   "outputs": [],
   "source": [
    "import os\n",
    "from shapely.geometry import box\n",
    "from pathlib import Path\n",
    "import geopandas as gpd\n",
    "import pandas as pd\n",
    "import numpy as np\n",
    "import xarray as xr\n",
    "import xrspatial.multispectral as ms\n",
    "from xrspatial.focal import mean, focal_stats, hotspots\n",
    "import stackstac\n",
    "import matplotlib as mpl\n",
    "import matplotlib.pyplot as plt\n",
    "from matplotlib.colors import ListedColormap\n",
    "from collections import OrderedDict\n",
    "from shapely.geometry import shape\n",
    "import rioxarray\n",
    "from rasterio.crs import CRS\n",
    "from rasterio.plot import show\n",
    "import rasterio.features\n",
    "import itertools\n",
    "import cartopy.crs as ccrs\n",
    "import rioxarray\n",
    "import dask.array as da\n",
    "import joblib\n",
    "import xarray as xr\n",
    "from geopandas import GeoDataFrame\n",
    "from pandas import Series\n",
    "from xarray import Dataset\n",
    "from flox.xarray import xarray_reduce\n",
    "import warnings"
   ]
  },
  {
   "cell_type": "code",
   "execution_count": 3,
   "id": "23f5e225-2f7b-4e1a-abec-af5d45793aaf",
   "metadata": {},
   "outputs": [],
   "source": [
    "Yasa_34kn = gpd.read_file(\"Yasa_34n_val.geojson\").fillna(0)\n",
    "Yasa_50kn = gpd.read_file(\"Yasa_50n_val.geojson\").fillna(0)\n",
    "Yasa_64kn = gpd.read_file(\"Yasa_64n_val.geojson\").fillna(0)"
   ]
  },
  {
   "cell_type": "code",
   "execution_count": 4,
   "id": "25c3fad8-e1ca-487b-b54c-b88b74cf9f8b",
   "metadata": {},
   "outputs": [
    {
     "name": "stdout",
     "output_type": "stream",
     "text": [
      "EPSG:4326\n",
      "EPSG:4326\n",
      "EPSG:4326\n"
     ]
    }
   ],
   "source": [
    "print(Yasa_34kn.crs)\n",
    "print(Yasa_50kn.crs)\n",
    "print(Yasa_64kn.crs)"
   ]
  },
  {
   "cell_type": "code",
   "execution_count": 5,
   "id": "a4fde0c4-a22f-486b-a650-808ed5fb5b7e",
   "metadata": {},
   "outputs": [],
   "source": [
    "Yasa_34kn = Yasa_34kn.to_crs(\"EPSG:4326\")\n",
    "Yasa_50kn = Yasa_50kn.to_crs(\"EPSG:4326\")\n",
    "Yasa_64kn = Yasa_64kn.to_crs(\"EPSG:4326\")"
   ]
  },
  {
   "cell_type": "code",
   "execution_count": 6,
   "id": "7c93e9cd-ce3c-482e-ab59-1ba1df997c8f",
   "metadata": {},
   "outputs": [],
   "source": [
    "fiji_land = gpd.read_file(\"fiji-land.geojson\").fillna(0).to_crs(\"EPSG:4326\")"
   ]
  },
  {
   "cell_type": "code",
   "execution_count": 7,
   "id": "fe58142a-7efa-453a-b2d2-53d08fb4c3dd",
   "metadata": {},
   "outputs": [],
   "source": [
    "import geopandas as gpd\n",
    "from shapely.geometry import mapping\n",
    "\n",
    "# Clip the raster with the extracted geometries\n",
    "land_Yasa_34kn = gpd.clip(fiji_land, Yasa_34kn)\n",
    "land_Yasa_50kn = gpd.clip(fiji_land, Yasa_50kn)\n",
    "land_Yasa_64kn = gpd.clip(fiji_land, Yasa_64kn)"
   ]
  },
  {
   "cell_type": "code",
   "execution_count": 10,
   "id": "a7e6707e-12b7-4bef-80d6-14909134f39a",
   "metadata": {},
   "outputs": [],
   "source": [
    "land_Yasa_34kn = land_Yasa_34kn.to_crs(\"EPSG:3587\")\n",
    "land_Yasa_50kn = land_Yasa_50kn.to_crs(\"EPSG:3587\")\n",
    "land_Yasa_64kn = land_Yasa_64kn.to_crs(\"EPSG:3587\")"
   ]
  },
  {
   "cell_type": "code",
   "execution_count": 11,
   "id": "ea7a8f46-fea4-454c-8328-8b33f5508063",
   "metadata": {},
   "outputs": [],
   "source": [
    "# Save areas m2\n",
    "land_Yasa_34kn['m2'] = land_Yasa_34kn.geometry.area\n",
    "land_Yasa_50kn['m2'] = land_Yasa_50kn.geometry.area\n",
    "land_Yasa_64kn['m2'] = land_Yasa_64kn.geometry.area\n",
    "\n",
    "# Save areas km2\n",
    "land_Yasa_34kn['km2'] = land_Yasa_34kn['m2']/1000000\n",
    "land_Yasa_50kn['km2'] = land_Yasa_50kn['m2']/1000000\n",
    "land_Yasa_64kn['km2'] = land_Yasa_64kn['m2']/1000000"
   ]
  },
  {
   "cell_type": "code",
   "execution_count": 12,
   "id": "e6d6686f-f78c-41dc-b75e-8092a58ae88e",
   "metadata": {},
   "outputs": [
    {
     "data": {
      "text/html": [
       "<div>\n",
       "<style scoped>\n",
       "    .dataframe tbody tr th:only-of-type {\n",
       "        vertical-align: middle;\n",
       "    }\n",
       "\n",
       "    .dataframe tbody tr th {\n",
       "        vertical-align: top;\n",
       "    }\n",
       "\n",
       "    .dataframe thead th {\n",
       "        text-align: right;\n",
       "    }\n",
       "</style>\n",
       "<table border=\"1\" class=\"dataframe\">\n",
       "  <thead>\n",
       "    <tr style=\"text-align: right;\">\n",
       "      <th></th>\n",
       "      <th>GID_0</th>\n",
       "      <th>COUNTRY</th>\n",
       "      <th>geometry</th>\n",
       "      <th>m2</th>\n",
       "      <th>km2</th>\n",
       "      <th>TC</th>\n",
       "    </tr>\n",
       "  </thead>\n",
       "  <tbody>\n",
       "    <tr>\n",
       "      <th>0</th>\n",
       "      <td>FJI</td>\n",
       "      <td>Fiji</td>\n",
       "      <td>MULTIPOLYGON (((-7946553.153 1204642.397, -794...</td>\n",
       "      <td>5.129747e+10</td>\n",
       "      <td>51297.474905</td>\n",
       "      <td>TC Yasa (2020)</td>\n",
       "    </tr>\n",
       "    <tr>\n",
       "      <th>0</th>\n",
       "      <td>FJI</td>\n",
       "      <td>Fiji</td>\n",
       "      <td>MULTIPOLYGON (((-7744572.815 1262554.851, -774...</td>\n",
       "      <td>2.021983e+10</td>\n",
       "      <td>20219.830602</td>\n",
       "      <td>TC Yasa (2020)</td>\n",
       "    </tr>\n",
       "    <tr>\n",
       "      <th>0</th>\n",
       "      <td>FJI</td>\n",
       "      <td>Fiji</td>\n",
       "      <td>MULTIPOLYGON (((-7642168.170 1121090.172, -764...</td>\n",
       "      <td>1.787221e+10</td>\n",
       "      <td>17872.205570</td>\n",
       "      <td>TC Yasa (2020)</td>\n",
       "    </tr>\n",
       "  </tbody>\n",
       "</table>\n",
       "</div>"
      ],
      "text/plain": [
       "  GID_0 COUNTRY                                           geometry  \\\n",
       "0   FJI    Fiji  MULTIPOLYGON (((-7946553.153 1204642.397, -794...   \n",
       "0   FJI    Fiji  MULTIPOLYGON (((-7744572.815 1262554.851, -774...   \n",
       "0   FJI    Fiji  MULTIPOLYGON (((-7642168.170 1121090.172, -764...   \n",
       "\n",
       "             m2           km2              TC  \n",
       "0  5.129747e+10  51297.474905  TC Yasa (2020)  \n",
       "0  2.021983e+10  20219.830602  TC Yasa (2020)  \n",
       "0  1.787221e+10  17872.205570  TC Yasa (2020)  "
      ]
     },
     "execution_count": 12,
     "metadata": {},
     "output_type": "execute_result"
    }
   ],
   "source": [
    "Yasa_df = pd.concat([land_Yasa_34kn, land_Yasa_50kn, land_Yasa_64kn], axis=0)\n",
    "# concatenated_df['Tropical Cyclone'] = ['TC Pam Vanuatu (2015)', 'TC Yasa Vanuatu (2020)', 'TC Winston Fiji (2016)', 'TC Yasa Fiji (2020)', 'TC Yasa Fiji (2021)']\n",
    "Yasa_df['TC'] = \"TC Yasa (2020)\"\n",
    "Yasa_df"
   ]
  },
  {
   "cell_type": "code",
   "execution_count": null,
   "id": "372d82c0-9df0-44a2-969a-abccb3de9678",
   "metadata": {},
   "outputs": [],
   "source": []
  }
 ],
 "metadata": {
  "kernelspec": {
   "display_name": "Python 3 (ipykernel)",
   "language": "python",
   "name": "python3"
  },
  "language_info": {
   "codemirror_mode": {
    "name": "ipython",
    "version": 3
   },
   "file_extension": ".py",
   "mimetype": "text/x-python",
   "name": "python",
   "nbconvert_exporter": "python",
   "pygments_lexer": "ipython3",
   "version": "3.10.14"
  }
 },
 "nbformat": 4,
 "nbformat_minor": 5
}
