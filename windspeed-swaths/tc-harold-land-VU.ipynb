{
 "cells": [
  {
   "cell_type": "code",
   "execution_count": 19,
   "id": "3b335453-39e1-46d4-9677-56cf3a393ecf",
   "metadata": {},
   "outputs": [
    {
     "name": "stdout",
     "output_type": "stream",
     "text": [
      "Requirement already satisfied: openpyxl in /srv/conda/envs/notebook/lib/python3.10/site-packages (3.1.5)\n",
      "Requirement already satisfied: et-xmlfile in /srv/conda/envs/notebook/lib/python3.10/site-packages (from openpyxl) (1.1.0)\n"
     ]
    }
   ],
   "source": [
    "import libraries as lib\n",
    "import geopandas as gpd\n",
    "import pandas as pd\n",
    "import rasterio as rio\n",
    "import xarray as xr\n",
    "\n",
    "!pip install openpyxl\n",
    "import openpyxl"
   ]
  },
  {
   "cell_type": "code",
   "execution_count": 20,
   "id": "8317e5b6-05ce-44c2-97e4-fbdd190d0834",
   "metadata": {},
   "outputs": [],
   "source": [
    "import os\n",
    "from pathlib import Path\n",
    "import geopandas as gpd\n",
    "import pandas as pd\n",
    "import numpy as np\n",
    "import xarray as xr\n",
    "import xrspatial.multispectral as ms\n",
    "from xrspatial.focal import mean, focal_stats, hotspots\n",
    "import stackstac\n",
    "import matplotlib as mpl\n",
    "import matplotlib.pyplot as plt\n",
    "from matplotlib.colors import ListedColormap\n",
    "from collections import OrderedDict\n",
    "from shapely.geometry import shape\n",
    "import rioxarray\n",
    "from rasterio.crs import CRS\n",
    "from rasterio.plot import show\n",
    "import rasterio.features\n",
    "import itertools\n",
    "import cartopy.crs as ccrs\n",
    "import rioxarray\n",
    "import dask.array as da\n",
    "import joblib\n",
    "import xarray as xr\n",
    "from geopandas import GeoDataFrame\n",
    "from pandas import Series\n",
    "from xarray import Dataset\n",
    "from flox.xarray import xarray_reduce\n",
    "import warnings"
   ]
  },
  {
   "cell_type": "code",
   "execution_count": 13,
   "id": "23f5e225-2f7b-4e1a-abec-af5d45793aaf",
   "metadata": {},
   "outputs": [],
   "source": [
    "# Harold_34kn = gpd.read_file(\"Harold_VU_34kn.geojson\").fillna(0).to_crs(\"EPSG:4326\")\n",
    "# Harold_50kn = gpd.read_file(\"Harold_VU_50kn.geojson\").fillna(0).to_crs(\"EPSG:4326\")\n",
    "# Harold_64kn = gpd.read_file(\"Harold_VU_64kn.geojson\").fillna(0).to_crs(\"EPSG:4326\")"
   ]
  },
  {
   "cell_type": "code",
   "execution_count": 29,
   "id": "91a797ce-e2fc-4039-8033-34a094e146d0",
   "metadata": {},
   "outputs": [],
   "source": [
    "Harold_swaths = gpd.read_file(\"Harold_swaths_land.geojson\").fillna(0).to_crs(\"EPSG:3857\")"
   ]
  },
  {
   "cell_type": "code",
   "execution_count": 31,
   "id": "a761333d-6c31-45b8-9c59-dc5abb1fb551",
   "metadata": {},
   "outputs": [
    {
     "data": {
      "text/plain": [
       "<Axes: >"
      ]
     },
     "execution_count": 31,
     "metadata": {},
     "output_type": "execute_result"
    },
    {
     "data": {
      "image/png": "[encoded data removed]",
      "text/plain": [
       "<Figure size 640x480 with 1 Axes>"
      ]
     },
     "metadata": {},
     "output_type": "display_data"
    }
   ],
   "source": [
    "Harold_swathes.plot()"
   ]
  },
  {
   "cell_type": "code",
   "execution_count": 30,
   "id": "e1d602f1-255b-49bc-a0df-a3de23e5931a",
   "metadata": {},
   "outputs": [
    {
     "name": "stdout",
     "output_type": "stream",
     "text": [
      "0    1.093229e+10\n",
      "1    7.798898e+09\n",
      "2    4.294403e+09\n",
      "Name: individual_areas, dtype: float64\n"
     ]
    }
   ],
   "source": [
    "from shapely.geometry import MultiPolygon\n",
    "\n",
    "# Function to calculate areas of individual polygons within a MultiPolygon\n",
    "def calculate_area(geometry):\n",
    "    if isinstance(geometry, MultiPolygon):\n",
    "        # If it's a MultiPolygon, sum the areas of individual polygons\n",
    "        return sum(poly.area for poly in geometry.geoms)\n",
    "    else:\n",
    "        # Otherwise, just return the area of the geometry\n",
    "        return geometry.area\n",
    "\n",
    "# Apply the function to calculate the area for each geometry\n",
    "Harold_swaths['individual_areas'] = Harold_swaths.geometry.apply(calculate_area)\n",
    "\n",
    "# print results\n",
    "print(Harold_swaths['individual_areas'])"
   ]
  },
  {
   "cell_type": "code",
   "execution_count": 33,
   "id": "63209f74-204b-4a2b-861c-f5b74c142d8e",
   "metadata": {},
   "outputs": [],
   "source": [
    "Harold_swaths['km2'] = Harold_swaths['individual_areas']/1000000"
   ]
  },
  {
   "cell_type": "code",
   "execution_count": 34,
   "id": "57516778-4e4a-4ec5-bd4e-eb61d4c9ecd5",
   "metadata": {},
   "outputs": [
    {
     "data": {
      "text/html": [
       "<div>\n",
       "<style scoped>\n",
       "    .dataframe tbody tr th:only-of-type {\n",
       "        vertical-align: middle;\n",
       "    }\n",
       "\n",
       "    .dataframe tbody tr th {\n",
       "        vertical-align: top;\n",
       "    }\n",
       "\n",
       "    .dataframe thead th {\n",
       "        text-align: right;\n",
       "    }\n",
       "</style>\n",
       "<table border=\"1\" class=\"dataframe\">\n",
       "  <thead>\n",
       "    <tr style=\"text-align: right;\">\n",
       "      <th></th>\n",
       "      <th>SID</th>\n",
       "      <th>SEASON</th>\n",
       "      <th>NUMBER</th>\n",
       "      <th>BASIN</th>\n",
       "      <th>SUBBASIN</th>\n",
       "      <th>NAME</th>\n",
       "      <th>ISO_TIME</th>\n",
       "      <th>NATURE</th>\n",
       "      <th>LAT</th>\n",
       "      <th>LON</th>\n",
       "      <th>...</th>\n",
       "      <th>min</th>\n",
       "      <th>USA_R34_average</th>\n",
       "      <th>USA_R50_average</th>\n",
       "      <th>USA_R64_average</th>\n",
       "      <th>layer</th>\n",
       "      <th>path</th>\n",
       "      <th>Swath</th>\n",
       "      <th>geometry</th>\n",
       "      <th>individual_areas</th>\n",
       "      <th>km2</th>\n",
       "    </tr>\n",
       "  </thead>\n",
       "  <tbody>\n",
       "    <tr>\n",
       "      <th>0</th>\n",
       "      <td>2020092S09155</td>\n",
       "      <td>2020</td>\n",
       "      <td>20</td>\n",
       "      <td>SP</td>\n",
       "      <td>EA</td>\n",
       "      <td>HAROLD</td>\n",
       "      <td>2020-04-01</td>\n",
       "      <td>MX</td>\n",
       "      <td>-9.2</td>\n",
       "      <td>154.9</td>\n",
       "      <td>...</td>\n",
       "      <td>0</td>\n",
       "      <td>0.0</td>\n",
       "      <td>0</td>\n",
       "      <td>0</td>\n",
       "      <td>Harold_swathe_34knots</td>\n",
       "      <td>C:/Users/nicholasm/OneDrive - SPC/Documents/20...</td>\n",
       "      <td>34</td>\n",
       "      <td>MULTIPOLYGON (((18605260.197 -1761496.612, 186...</td>\n",
       "      <td>1.093229e+10</td>\n",
       "      <td>10932.286467</td>\n",
       "    </tr>\n",
       "    <tr>\n",
       "      <th>1</th>\n",
       "      <td>2020092S09155</td>\n",
       "      <td>2020</td>\n",
       "      <td>20</td>\n",
       "      <td>SP</td>\n",
       "      <td>EA</td>\n",
       "      <td>HAROLD</td>\n",
       "      <td>2020-04-01</td>\n",
       "      <td>MX</td>\n",
       "      <td>-9.2</td>\n",
       "      <td>154.9</td>\n",
       "      <td>...</td>\n",
       "      <td>0</td>\n",
       "      <td>0.0</td>\n",
       "      <td>0</td>\n",
       "      <td>0</td>\n",
       "      <td>Harold_swathe_50knots</td>\n",
       "      <td>C:/Users/nicholasm/OneDrive - SPC/Documents/20...</td>\n",
       "      <td>50</td>\n",
       "      <td>MULTIPOLYGON (((18605260.197 -1761496.612, 186...</td>\n",
       "      <td>7.798898e+09</td>\n",
       "      <td>7798.897733</td>\n",
       "    </tr>\n",
       "    <tr>\n",
       "      <th>2</th>\n",
       "      <td>2020092S09155</td>\n",
       "      <td>2020</td>\n",
       "      <td>20</td>\n",
       "      <td>SP</td>\n",
       "      <td>EA</td>\n",
       "      <td>HAROLD</td>\n",
       "      <td>2020-04-01</td>\n",
       "      <td>MX</td>\n",
       "      <td>-9.2</td>\n",
       "      <td>154.9</td>\n",
       "      <td>...</td>\n",
       "      <td>0</td>\n",
       "      <td>0.0</td>\n",
       "      <td>0</td>\n",
       "      <td>0</td>\n",
       "      <td>Harold_swathe_64knots</td>\n",
       "      <td>C:/Users/nicholasm/OneDrive - SPC/Documents/20...</td>\n",
       "      <td>64</td>\n",
       "      <td>MULTIPOLYGON (((18605260.197 -1761496.612, 186...</td>\n",
       "      <td>4.294403e+09</td>\n",
       "      <td>4294.402619</td>\n",
       "    </tr>\n",
       "  </tbody>\n",
       "</table>\n",
       "<p>3 rows × 188 columns</p>\n",
       "</div>"
      ],
      "text/plain": [
       "             SID  SEASON  NUMBER BASIN SUBBASIN    NAME   ISO_TIME NATURE  \\\n",
       "0  2020092S09155    2020      20    SP       EA  HAROLD 2020-04-01     MX   \n",
       "1  2020092S09155    2020      20    SP       EA  HAROLD 2020-04-01     MX   \n",
       "2  2020092S09155    2020      20    SP       EA  HAROLD 2020-04-01     MX   \n",
       "\n",
       "   LAT    LON  ...  min  USA_R34_average USA_R50_average USA_R64_average  \\\n",
       "0 -9.2  154.9  ...    0              0.0               0               0   \n",
       "1 -9.2  154.9  ...    0              0.0               0               0   \n",
       "2 -9.2  154.9  ...    0              0.0               0               0   \n",
       "\n",
       "                   layer                                               path  \\\n",
       "0  Harold_swathe_34knots  C:/Users/nicholasm/OneDrive - SPC/Documents/20...   \n",
       "1  Harold_swathe_50knots  C:/Users/nicholasm/OneDrive - SPC/Documents/20...   \n",
       "2  Harold_swathe_64knots  C:/Users/nicholasm/OneDrive - SPC/Documents/20...   \n",
       "\n",
       "  Swath                                           geometry individual_areas  \\\n",
       "0    34  MULTIPOLYGON (((18605260.197 -1761496.612, 186...     1.093229e+10   \n",
       "1    50  MULTIPOLYGON (((18605260.197 -1761496.612, 186...     7.798898e+09   \n",
       "2    64  MULTIPOLYGON (((18605260.197 -1761496.612, 186...     4.294403e+09   \n",
       "\n",
       "            km2  \n",
       "0  10932.286467  \n",
       "1   7798.897733  \n",
       "2   4294.402619  \n",
       "\n",
       "[3 rows x 188 columns]"
      ]
     },
     "execution_count": 34,
     "metadata": {},
     "output_type": "execute_result"
    }
   ],
   "source": [
    "Harold_swaths"
   ]
  },
  {
   "cell_type": "code",
   "execution_count": null,
   "id": "4fd8df7a-3f9d-4e80-a41f-3ad2e1c9dea2",
   "metadata": {},
   "outputs": [],
   "source": []
  },
  {
   "cell_type": "code",
   "execution_count": null,
   "id": "6c43823e-9031-46a6-8da0-b37cbc39a839",
   "metadata": {},
   "outputs": [],
   "source": []
  }
 ],
 "metadata": {
  "kernelspec": {
   "display_name": "Python 3 (ipykernel)",
   "language": "python",
   "name": "python3"
  },
  "language_info": {
   "codemirror_mode": {
    "name": "ipython",
    "version": 3
   },
   "file_extension": ".py",
   "mimetype": "text/x-python",
   "name": "python",
   "nbconvert_exporter": "python",
   "pygments_lexer": "ipython3",
   "version": "3.10.14"
  }
 },
 "nbformat": 4,
 "nbformat_minor": 5
}
