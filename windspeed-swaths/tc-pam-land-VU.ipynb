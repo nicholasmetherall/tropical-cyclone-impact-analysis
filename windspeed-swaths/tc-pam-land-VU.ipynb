{
 "cells": [
  {
   "cell_type": "code",
   "execution_count": 1,
   "id": "3b335453-39e1-46d4-9677-56cf3a393ecf",
   "metadata": {},
   "outputs": [
    {
     "name": "stdout",
     "output_type": "stream",
     "text": [
      "Requirement already satisfied: openpyxl in /srv/conda/envs/notebook/lib/python3.10/site-packages (3.1.5)\n",
      "Requirement already satisfied: et-xmlfile in /srv/conda/envs/notebook/lib/python3.10/site-packages (from openpyxl) (1.1.0)\n"
     ]
    }
   ],
   "source": [
    "import libraries as lib\n",
    "import geopandas as gpd\n",
    "import pandas as pd\n",
    "import rasterio as rio\n",
    "import xarray as xr\n",
    "\n",
    "!pip install openpyxl\n",
    "import openpyxl"
   ]
  },
  {
   "cell_type": "code",
   "execution_count": 2,
   "id": "8317e5b6-05ce-44c2-97e4-fbdd190d0834",
   "metadata": {},
   "outputs": [],
   "source": [
    "import os\n",
    "from pathlib import Path\n",
    "import geopandas as gpd\n",
    "import pandas as pd\n",
    "import numpy as np\n",
    "import xarray as xr\n",
    "import xrspatial.multispectral as ms\n",
    "from xrspatial.focal import mean, focal_stats, hotspots\n",
    "import stackstac\n",
    "import matplotlib as mpl\n",
    "import matplotlib.pyplot as plt\n",
    "from matplotlib.colors import ListedColormap\n",
    "from collections import OrderedDict\n",
    "from shapely.geometry import shape\n",
    "import rioxarray\n",
    "from rasterio.crs import CRS\n",
    "from rasterio.plot import show\n",
    "import rasterio.features\n",
    "import itertools\n",
    "import cartopy.crs as ccrs\n",
    "import rioxarray\n",
    "import dask.array as da\n",
    "import joblib\n",
    "import xarray as xr\n",
    "from geopandas import GeoDataFrame\n",
    "from pandas import Series\n",
    "from xarray import Dataset\n",
    "from flox.xarray import xarray_reduce\n",
    "import warnings"
   ]
  },
  {
   "cell_type": "code",
   "execution_count": 3,
   "id": "23f5e225-2f7b-4e1a-abec-af5d45793aaf",
   "metadata": {},
   "outputs": [],
   "source": [
    "Pam_34kn = gpd.read_file(\"Pam_34kn.geojson\").fillna(0).to_crs(\"EPSG:3857\")\n",
    "Pam_50kn = gpd.read_file(\"Pam_50kn.geojson\").fillna(0).to_crs(\"EPSG:3857\")\n",
    "Pam_64kn = gpd.read_file(\"Pam_64kn.geojson\").fillna(0).to_crs(\"EPSG:3857\")"
   ]
  },
  {
   "cell_type": "code",
   "execution_count": 4,
   "id": "25c3fad8-e1ca-487b-b54c-b88b74cf9f8b",
   "metadata": {},
   "outputs": [
    {
     "name": "stdout",
     "output_type": "stream",
     "text": [
      "EPSG:3857\n",
      "EPSG:3857\n",
      "EPSG:3857\n"
     ]
    }
   ],
   "source": [
    "print(Pam_34kn.crs)\n",
    "print(Pam_50kn.crs)\n",
    "print(Pam_64kn.crs)"
   ]
  },
  {
   "cell_type": "code",
   "execution_count": 5,
   "id": "c3ffd71d-83ef-47c2-a003-0f44a295c207",
   "metadata": {},
   "outputs": [],
   "source": [
    "bbox = gpd.read_file(\"bbox_vanuatu_land.geojson\")\n",
    "bbox = bbox.to_crs(\"EPSG:3857\")"
   ]
  },
  {
   "cell_type": "code",
   "execution_count": 15,
   "id": "00f30e8d-a8e2-49e4-b710-0e0601e20995",
   "metadata": {},
   "outputs": [
    {
     "data": {
      "text/html": [
       "<div>\n",
       "<style scoped>\n",
       "    .dataframe tbody tr th:only-of-type {\n",
       "        vertical-align: middle;\n",
       "    }\n",
       "\n",
       "    .dataframe tbody tr th {\n",
       "        vertical-align: top;\n",
       "    }\n",
       "\n",
       "    .dataframe thead th {\n",
       "        text-align: right;\n",
       "    }\n",
       "</style>\n",
       "<table border=\"1\" class=\"dataframe\">\n",
       "  <thead>\n",
       "    <tr style=\"text-align: right;\">\n",
       "      <th></th>\n",
       "      <th>GID_0</th>\n",
       "      <th>COUNTRY</th>\n",
       "      <th>geometry</th>\n",
       "      <th>m2</th>\n",
       "      <th>km2</th>\n",
       "    </tr>\n",
       "  </thead>\n",
       "  <tbody>\n",
       "    <tr>\n",
       "      <th>0</th>\n",
       "      <td>VUT</td>\n",
       "      <td>Vanuatu</td>\n",
       "      <td>MULTIPOLYGON (((18899445.885 -2302531.790, 188...</td>\n",
       "      <td>1.344610e+10</td>\n",
       "      <td>13446.102783</td>\n",
       "    </tr>\n",
       "  </tbody>\n",
       "</table>\n",
       "</div>"
      ],
      "text/plain": [
       "  GID_0  COUNTRY                                           geometry  \\\n",
       "0   VUT  Vanuatu  MULTIPOLYGON (((18899445.885 -2302531.790, 188...   \n",
       "\n",
       "             m2           km2  \n",
       "0  1.344610e+10  13446.102783  "
      ]
     },
     "execution_count": 15,
     "metadata": {},
     "output_type": "execute_result"
    }
   ],
   "source": [
    "vanuatu_land = gpd.read_file(\"vanuatu-land.geojson\").fillna(0).to_crs(\"EPSG:3857\")\n",
    "vanuatu_land['m2'] = vanuatu_land.geometry.area\n",
    "vanuatu_land['km2'] = vanuatu_land['m2']/1000000\n",
    "vanuatu_land"
   ]
  },
  {
   "cell_type": "code",
   "execution_count": 7,
   "id": "67c30c0b-45b6-4cd4-b8d6-9b8551c9a472",
   "metadata": {},
   "outputs": [],
   "source": [
    "import geopandas as gpd\n",
    "from shapely.geometry import mapping\n",
    "\n",
    "# Clip the raster with the extracted geometries\n",
    "land_Pam_34kn = gpd.clip(vanuatu_land, Pam_34kn)\n",
    "land_Pam_50kn = gpd.clip(vanuatu_land, Pam_50kn)\n",
    "land_Pam_64kn = gpd.clip(vanuatu_land, Pam_64kn)"
   ]
  },
  {
   "cell_type": "code",
   "execution_count": 8,
   "id": "9ebc4e0b-9d83-4e43-a294-c81564d7bcea",
   "metadata": {},
   "outputs": [],
   "source": [
    "# Save areas m2\n",
    "land_Pam_34kn['m2'] = land_Pam_34kn.geometry.area\n",
    "land_Pam_50kn['m2'] = land_Pam_50kn.geometry.area\n",
    "land_Pam_64kn['m2'] = land_Pam_64kn.geometry.area\n",
    "\n",
    "# Save areas km2\n",
    "land_Pam_34kn['km2'] = land_Pam_34kn['m2']/1000000\n",
    "land_Pam_50kn['km2'] = land_Pam_50kn['m2']/1000000\n",
    "land_Pam_64kn['km2'] = land_Pam_64kn['m2']/1000000"
   ]
  },
  {
   "cell_type": "code",
   "execution_count": 9,
   "id": "ab699709-2dab-4c24-bdfa-2285bf4dd87d",
   "metadata": {},
   "outputs": [
    {
     "data": {
      "text/html": [
       "<div>\n",
       "<style scoped>\n",
       "    .dataframe tbody tr th:only-of-type {\n",
       "        vertical-align: middle;\n",
       "    }\n",
       "\n",
       "    .dataframe tbody tr th {\n",
       "        vertical-align: top;\n",
       "    }\n",
       "\n",
       "    .dataframe thead th {\n",
       "        text-align: right;\n",
       "    }\n",
       "</style>\n",
       "<table border=\"1\" class=\"dataframe\">\n",
       "  <thead>\n",
       "    <tr style=\"text-align: right;\">\n",
       "      <th></th>\n",
       "      <th>GID_0</th>\n",
       "      <th>COUNTRY</th>\n",
       "      <th>geometry</th>\n",
       "      <th>m2</th>\n",
       "      <th>km2</th>\n",
       "    </tr>\n",
       "  </thead>\n",
       "  <tbody>\n",
       "    <tr>\n",
       "      <th>0</th>\n",
       "      <td>VUT</td>\n",
       "      <td>Vanuatu</td>\n",
       "      <td>MULTIPOLYGON (((18899359.279 -2302571.538, 188...</td>\n",
       "      <td>1.332109e+10</td>\n",
       "      <td>13321.092913</td>\n",
       "    </tr>\n",
       "  </tbody>\n",
       "</table>\n",
       "</div>"
      ],
      "text/plain": [
       "  GID_0  COUNTRY                                           geometry  \\\n",
       "0   VUT  Vanuatu  MULTIPOLYGON (((18899359.279 -2302571.538, 188...   \n",
       "\n",
       "             m2           km2  \n",
       "0  1.332109e+10  13321.092913  "
      ]
     },
     "execution_count": 9,
     "metadata": {},
     "output_type": "execute_result"
    },
    {
     "data": {
      "image/png": "[encoded data removed]",
      "text/plain": [
       "<Figure size 640x480 with 1 Axes>"
      ]
     },
     "metadata": {},
     "output_type": "display_data"
    }
   ],
   "source": [
    "land_Pam_34kn.plot()\n",
    "land_Pam_34kn"
   ]
  },
  {
   "cell_type": "code",
   "execution_count": 10,
   "id": "118cb2fa-2b84-4822-a3f7-97ac933e40f8",
   "metadata": {},
   "outputs": [
    {
     "data": {
      "text/html": [
       "<div>\n",
       "<style scoped>\n",
       "    .dataframe tbody tr th:only-of-type {\n",
       "        vertical-align: middle;\n",
       "    }\n",
       "\n",
       "    .dataframe tbody tr th {\n",
       "        vertical-align: top;\n",
       "    }\n",
       "\n",
       "    .dataframe thead th {\n",
       "        text-align: right;\n",
       "    }\n",
       "</style>\n",
       "<table border=\"1\" class=\"dataframe\">\n",
       "  <thead>\n",
       "    <tr style=\"text-align: right;\">\n",
       "      <th></th>\n",
       "      <th>GID_0</th>\n",
       "      <th>COUNTRY</th>\n",
       "      <th>geometry</th>\n",
       "      <th>m2</th>\n",
       "      <th>km2</th>\n",
       "    </tr>\n",
       "  </thead>\n",
       "  <tbody>\n",
       "    <tr>\n",
       "      <th>0</th>\n",
       "      <td>VUT</td>\n",
       "      <td>Vanuatu</td>\n",
       "      <td>MULTIPOLYGON (((18899359.279 -2302571.538, 188...</td>\n",
       "      <td>5.440616e+09</td>\n",
       "      <td>5440.61573</td>\n",
       "    </tr>\n",
       "  </tbody>\n",
       "</table>\n",
       "</div>"
      ],
      "text/plain": [
       "  GID_0  COUNTRY                                           geometry  \\\n",
       "0   VUT  Vanuatu  MULTIPOLYGON (((18899359.279 -2302571.538, 188...   \n",
       "\n",
       "             m2         km2  \n",
       "0  5.440616e+09  5440.61573  "
      ]
     },
     "execution_count": 10,
     "metadata": {},
     "output_type": "execute_result"
    },
    {
     "data": {
      "image/png": "[encoded data removed]",
      "text/plain": [
       "<Figure size 640x480 with 1 Axes>"
      ]
     },
     "metadata": {},
     "output_type": "display_data"
    }
   ],
   "source": [
    "land_Pam_50kn.plot()\n",
    "land_Pam_50kn"
   ]
  },
  {
   "cell_type": "code",
   "execution_count": 11,
   "id": "8dbd514a-6e65-49b2-ad07-8ef7d0e89014",
   "metadata": {},
   "outputs": [
    {
     "data": {
      "text/html": [
       "<div>\n",
       "<style scoped>\n",
       "    .dataframe tbody tr th:only-of-type {\n",
       "        vertical-align: middle;\n",
       "    }\n",
       "\n",
       "    .dataframe tbody tr th {\n",
       "        vertical-align: top;\n",
       "    }\n",
       "\n",
       "    .dataframe thead th {\n",
       "        text-align: right;\n",
       "    }\n",
       "</style>\n",
       "<table border=\"1\" class=\"dataframe\">\n",
       "  <thead>\n",
       "    <tr style=\"text-align: right;\">\n",
       "      <th></th>\n",
       "      <th>GID_0</th>\n",
       "      <th>COUNTRY</th>\n",
       "      <th>geometry</th>\n",
       "      <th>m2</th>\n",
       "      <th>km2</th>\n",
       "    </tr>\n",
       "  </thead>\n",
       "  <tbody>\n",
       "    <tr>\n",
       "      <th>0</th>\n",
       "      <td>VUT</td>\n",
       "      <td>Vanuatu</td>\n",
       "      <td>MULTIPOLYGON (((18865064.546 -2223532.166, 188...</td>\n",
       "      <td>2.877544e+09</td>\n",
       "      <td>2877.543547</td>\n",
       "    </tr>\n",
       "  </tbody>\n",
       "</table>\n",
       "</div>"
      ],
      "text/plain": [
       "  GID_0  COUNTRY                                           geometry  \\\n",
       "0   VUT  Vanuatu  MULTIPOLYGON (((18865064.546 -2223532.166, 188...   \n",
       "\n",
       "             m2          km2  \n",
       "0  2.877544e+09  2877.543547  "
      ]
     },
     "execution_count": 11,
     "metadata": {},
     "output_type": "execute_result"
    },
    {
     "data": {
      "image/png": "[encoded data removed]",
      "text/plain": [
       "<Figure size 640x480 with 1 Axes>"
      ]
     },
     "metadata": {},
     "output_type": "display_data"
    }
   ],
   "source": [
    "land_Pam_64kn.plot()\n",
    "land_Pam_64kn"
   ]
  },
  {
   "cell_type": "code",
   "execution_count": 12,
   "id": "aa968429-8e3e-46d7-aed3-821ff9a6df06",
   "metadata": {},
   "outputs": [
    {
     "data": {
      "text/html": [
       "<div>\n",
       "<style scoped>\n",
       "    .dataframe tbody tr th:only-of-type {\n",
       "        vertical-align: middle;\n",
       "    }\n",
       "\n",
       "    .dataframe tbody tr th {\n",
       "        vertical-align: top;\n",
       "    }\n",
       "\n",
       "    .dataframe thead th {\n",
       "        text-align: right;\n",
       "    }\n",
       "</style>\n",
       "<table border=\"1\" class=\"dataframe\">\n",
       "  <thead>\n",
       "    <tr style=\"text-align: right;\">\n",
       "      <th></th>\n",
       "      <th>GID_0</th>\n",
       "      <th>COUNTRY</th>\n",
       "      <th>geometry</th>\n",
       "      <th>m2</th>\n",
       "      <th>km2</th>\n",
       "      <th>TC</th>\n",
       "    </tr>\n",
       "  </thead>\n",
       "  <tbody>\n",
       "    <tr>\n",
       "      <th>0</th>\n",
       "      <td>VUT</td>\n",
       "      <td>Vanuatu</td>\n",
       "      <td>MULTIPOLYGON (((18899359.279 -2302571.538, 188...</td>\n",
       "      <td>1.332109e+10</td>\n",
       "      <td>13321.092913</td>\n",
       "      <td>TC Pam (2020)</td>\n",
       "    </tr>\n",
       "    <tr>\n",
       "      <th>0</th>\n",
       "      <td>VUT</td>\n",
       "      <td>Vanuatu</td>\n",
       "      <td>MULTIPOLYGON (((18899359.279 -2302571.538, 188...</td>\n",
       "      <td>5.440616e+09</td>\n",
       "      <td>5440.615730</td>\n",
       "      <td>TC Pam (2020)</td>\n",
       "    </tr>\n",
       "    <tr>\n",
       "      <th>0</th>\n",
       "      <td>VUT</td>\n",
       "      <td>Vanuatu</td>\n",
       "      <td>MULTIPOLYGON (((18865064.546 -2223532.166, 188...</td>\n",
       "      <td>2.877544e+09</td>\n",
       "      <td>2877.543547</td>\n",
       "      <td>TC Pam (2020)</td>\n",
       "    </tr>\n",
       "  </tbody>\n",
       "</table>\n",
       "</div>"
      ],
      "text/plain": [
       "  GID_0  COUNTRY                                           geometry  \\\n",
       "0   VUT  Vanuatu  MULTIPOLYGON (((18899359.279 -2302571.538, 188...   \n",
       "0   VUT  Vanuatu  MULTIPOLYGON (((18899359.279 -2302571.538, 188...   \n",
       "0   VUT  Vanuatu  MULTIPOLYGON (((18865064.546 -2223532.166, 188...   \n",
       "\n",
       "             m2           km2             TC  \n",
       "0  1.332109e+10  13321.092913  TC Pam (2020)  \n",
       "0  5.440616e+09   5440.615730  TC Pam (2020)  \n",
       "0  2.877544e+09   2877.543547  TC Pam (2020)  "
      ]
     },
     "execution_count": 12,
     "metadata": {},
     "output_type": "execute_result"
    }
   ],
   "source": [
    "Pam_df = pd.concat([land_Pam_34kn, land_Pam_50kn, land_Pam_64kn], axis=0)\n",
    "# concatenated_df['Tropical Cyclone'] = ['TC Pam Vanuatu (2015)', 'TC Pam Vanuatu (2020)', 'TC Winston vanuatu (2016)', 'TC Pam vanuatu (2020)', 'TC Yasa vanuatu (2021)']\n",
    "Pam_df['TC'] = \"TC Pam (2020)\"\n",
    "Pam_df"
   ]
  },
  {
   "cell_type": "code",
   "execution_count": null,
   "id": "4fd8df7a-3f9d-4e80-a41f-3ad2e1c9dea2",
   "metadata": {},
   "outputs": [],
   "source": []
  }
 ],
 "metadata": {
  "kernelspec": {
   "display_name": "Python 3 (ipykernel)",
   "language": "python",
   "name": "python3"
  },
  "language_info": {
   "codemirror_mode": {
    "name": "ipython",
    "version": 3
   },
   "file_extension": ".py",
   "mimetype": "text/x-python",
   "name": "python",
   "nbconvert_exporter": "python",
   "pygments_lexer": "ipython3",
   "version": "3.10.14"
  }
 },
 "nbformat": 4,
 "nbformat_minor": 5
}
