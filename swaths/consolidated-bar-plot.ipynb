{
 "cells": [
  {
   "cell_type": "code",
   "execution_count": 1,
   "id": "13f8ee4c-fd0f-4eab-9019-cda75aceaa86",
   "metadata": {},
   "outputs": [],
   "source": [
    "import pandas as pd\n",
    "import geopandas as gpd\n",
    "import numpy as np\n",
    "import matplotlib as mpl\n",
    "import matplotlib.pyplot as plt\n",
    "from functools import reduce\n",
    "from matplotlib.colors import ListedColormap\n",
    "from collections import OrderedDict"
   ]
  },
  {
   "cell_type": "code",
   "execution_count": 2,
   "id": "188c44e1-7b8d-400b-9a5e-1c991b39f206",
   "metadata": {},
   "outputs": [
    {
     "name": "stdout",
     "output_type": "stream",
     "text": [
      "Requirement already satisfied: openpyxl in /srv/conda/envs/notebook/lib/python3.11/site-packages (3.1.5)\n",
      "Requirement already satisfied: et-xmlfile in /srv/conda/envs/notebook/lib/python3.11/site-packages (from openpyxl) (2.0.0)\n",
      "\u001b[33mWARNING: Error parsing dependencies of prefect: Expected matching RIGHT_PARENTHESIS for LEFT_PARENTHESIS, after version specifier\n",
      "    kubernetes (>=9.0.0a1.0) ; extra == 'all_extras'\n",
      "               ~~~~~~~~~~^\u001b[0m\u001b[33m\n",
      "\u001b[0m"
     ]
    }
   ],
   "source": [
    "!pip install openpyxl\n",
    "import openpyxl"
   ]
  },
  {
   "cell_type": "code",
   "execution_count": 3,
   "id": "12c963b4-dca7-4e2d-bcbe-27666f19fe89",
   "metadata": {},
   "outputs": [
    {
     "ename": "FileNotFoundError",
     "evalue": "[Errno 2] No such file or directory: 'Pam_vu_df.csv'",
     "output_type": "error",
     "traceback": [
      "\u001b[31m---------------------------------------------------------------------------\u001b[39m",
      "\u001b[31mFileNotFoundError\u001b[39m                         Traceback (most recent call last)",
      "\u001b[36mCell\u001b[39m\u001b[36m \u001b[39m\u001b[32mIn[3]\u001b[39m\u001b[32m, line 1\u001b[39m\n\u001b[32m----> \u001b[39m\u001b[32m1\u001b[39m tc_pam = \u001b[43mpd\u001b[49m\u001b[43m.\u001b[49m\u001b[43mread_csv\u001b[49m\u001b[43m(\u001b[49m\u001b[33;43m\"\u001b[39;49m\u001b[33;43mPam_vu_df.csv\u001b[39;49m\u001b[33;43m\"\u001b[39;49m\u001b[43m)\u001b[49m\n\u001b[32m      2\u001b[39m tc_harold_vu = pd.read_csv(\u001b[33m\"\u001b[39m\u001b[33mHarold_vu_df.csv\u001b[39m\u001b[33m\"\u001b[39m)\n\u001b[32m      3\u001b[39m tc_harold_fj = pd.read_csv(\u001b[33m\"\u001b[39m\u001b[33mHarold_fj_df.csv\u001b[39m\u001b[33m\"\u001b[39m)\n",
      "\u001b[36mFile \u001b[39m\u001b[32m/srv/conda/envs/notebook/lib/python3.11/site-packages/pandas/io/parsers/readers.py:1026\u001b[39m, in \u001b[36mread_csv\u001b[39m\u001b[34m(filepath_or_buffer, sep, delimiter, header, names, index_col, usecols, dtype, engine, converters, true_values, false_values, skipinitialspace, skiprows, skipfooter, nrows, na_values, keep_default_na, na_filter, verbose, skip_blank_lines, parse_dates, infer_datetime_format, keep_date_col, date_parser, date_format, dayfirst, cache_dates, iterator, chunksize, compression, thousands, decimal, lineterminator, quotechar, quoting, doublequote, escapechar, comment, encoding, encoding_errors, dialect, on_bad_lines, delim_whitespace, low_memory, memory_map, float_precision, storage_options, dtype_backend)\u001b[39m\n\u001b[32m   1013\u001b[39m kwds_defaults = _refine_defaults_read(\n\u001b[32m   1014\u001b[39m     dialect,\n\u001b[32m   1015\u001b[39m     delimiter,\n\u001b[32m   (...)\u001b[39m\u001b[32m   1022\u001b[39m     dtype_backend=dtype_backend,\n\u001b[32m   1023\u001b[39m )\n\u001b[32m   1024\u001b[39m kwds.update(kwds_defaults)\n\u001b[32m-> \u001b[39m\u001b[32m1026\u001b[39m \u001b[38;5;28;01mreturn\u001b[39;00m \u001b[43m_read\u001b[49m\u001b[43m(\u001b[49m\u001b[43mfilepath_or_buffer\u001b[49m\u001b[43m,\u001b[49m\u001b[43m \u001b[49m\u001b[43mkwds\u001b[49m\u001b[43m)\u001b[49m\n",
      "\u001b[36mFile \u001b[39m\u001b[32m/srv/conda/envs/notebook/lib/python3.11/site-packages/pandas/io/parsers/readers.py:620\u001b[39m, in \u001b[36m_read\u001b[39m\u001b[34m(filepath_or_buffer, kwds)\u001b[39m\n\u001b[32m    617\u001b[39m _validate_names(kwds.get(\u001b[33m\"\u001b[39m\u001b[33mnames\u001b[39m\u001b[33m\"\u001b[39m, \u001b[38;5;28;01mNone\u001b[39;00m))\n\u001b[32m    619\u001b[39m \u001b[38;5;66;03m# Create the parser.\u001b[39;00m\n\u001b[32m--> \u001b[39m\u001b[32m620\u001b[39m parser = \u001b[43mTextFileReader\u001b[49m\u001b[43m(\u001b[49m\u001b[43mfilepath_or_buffer\u001b[49m\u001b[43m,\u001b[49m\u001b[43m \u001b[49m\u001b[43m*\u001b[49m\u001b[43m*\u001b[49m\u001b[43mkwds\u001b[49m\u001b[43m)\u001b[49m\n\u001b[32m    622\u001b[39m \u001b[38;5;28;01mif\u001b[39;00m chunksize \u001b[38;5;129;01mor\u001b[39;00m iterator:\n\u001b[32m    623\u001b[39m     \u001b[38;5;28;01mreturn\u001b[39;00m parser\n",
      "\u001b[36mFile \u001b[39m\u001b[32m/srv/conda/envs/notebook/lib/python3.11/site-packages/pandas/io/parsers/readers.py:1620\u001b[39m, in \u001b[36mTextFileReader.__init__\u001b[39m\u001b[34m(self, f, engine, **kwds)\u001b[39m\n\u001b[32m   1617\u001b[39m     \u001b[38;5;28mself\u001b[39m.options[\u001b[33m\"\u001b[39m\u001b[33mhas_index_names\u001b[39m\u001b[33m\"\u001b[39m] = kwds[\u001b[33m\"\u001b[39m\u001b[33mhas_index_names\u001b[39m\u001b[33m\"\u001b[39m]\n\u001b[32m   1619\u001b[39m \u001b[38;5;28mself\u001b[39m.handles: IOHandles | \u001b[38;5;28;01mNone\u001b[39;00m = \u001b[38;5;28;01mNone\u001b[39;00m\n\u001b[32m-> \u001b[39m\u001b[32m1620\u001b[39m \u001b[38;5;28mself\u001b[39m._engine = \u001b[38;5;28;43mself\u001b[39;49m\u001b[43m.\u001b[49m\u001b[43m_make_engine\u001b[49m\u001b[43m(\u001b[49m\u001b[43mf\u001b[49m\u001b[43m,\u001b[49m\u001b[43m \u001b[49m\u001b[38;5;28;43mself\u001b[39;49m\u001b[43m.\u001b[49m\u001b[43mengine\u001b[49m\u001b[43m)\u001b[49m\n",
      "\u001b[36mFile \u001b[39m\u001b[32m/srv/conda/envs/notebook/lib/python3.11/site-packages/pandas/io/parsers/readers.py:1880\u001b[39m, in \u001b[36mTextFileReader._make_engine\u001b[39m\u001b[34m(self, f, engine)\u001b[39m\n\u001b[32m   1878\u001b[39m     \u001b[38;5;28;01mif\u001b[39;00m \u001b[33m\"\u001b[39m\u001b[33mb\u001b[39m\u001b[33m\"\u001b[39m \u001b[38;5;129;01mnot\u001b[39;00m \u001b[38;5;129;01min\u001b[39;00m mode:\n\u001b[32m   1879\u001b[39m         mode += \u001b[33m\"\u001b[39m\u001b[33mb\u001b[39m\u001b[33m\"\u001b[39m\n\u001b[32m-> \u001b[39m\u001b[32m1880\u001b[39m \u001b[38;5;28mself\u001b[39m.handles = \u001b[43mget_handle\u001b[49m\u001b[43m(\u001b[49m\n\u001b[32m   1881\u001b[39m \u001b[43m    \u001b[49m\u001b[43mf\u001b[49m\u001b[43m,\u001b[49m\n\u001b[32m   1882\u001b[39m \u001b[43m    \u001b[49m\u001b[43mmode\u001b[49m\u001b[43m,\u001b[49m\n\u001b[32m   1883\u001b[39m \u001b[43m    \u001b[49m\u001b[43mencoding\u001b[49m\u001b[43m=\u001b[49m\u001b[38;5;28;43mself\u001b[39;49m\u001b[43m.\u001b[49m\u001b[43moptions\u001b[49m\u001b[43m.\u001b[49m\u001b[43mget\u001b[49m\u001b[43m(\u001b[49m\u001b[33;43m\"\u001b[39;49m\u001b[33;43mencoding\u001b[39;49m\u001b[33;43m\"\u001b[39;49m\u001b[43m,\u001b[49m\u001b[43m \u001b[49m\u001b[38;5;28;43;01mNone\u001b[39;49;00m\u001b[43m)\u001b[49m\u001b[43m,\u001b[49m\n\u001b[32m   1884\u001b[39m \u001b[43m    \u001b[49m\u001b[43mcompression\u001b[49m\u001b[43m=\u001b[49m\u001b[38;5;28;43mself\u001b[39;49m\u001b[43m.\u001b[49m\u001b[43moptions\u001b[49m\u001b[43m.\u001b[49m\u001b[43mget\u001b[49m\u001b[43m(\u001b[49m\u001b[33;43m\"\u001b[39;49m\u001b[33;43mcompression\u001b[39;49m\u001b[33;43m\"\u001b[39;49m\u001b[43m,\u001b[49m\u001b[43m \u001b[49m\u001b[38;5;28;43;01mNone\u001b[39;49;00m\u001b[43m)\u001b[49m\u001b[43m,\u001b[49m\n\u001b[32m   1885\u001b[39m \u001b[43m    \u001b[49m\u001b[43mmemory_map\u001b[49m\u001b[43m=\u001b[49m\u001b[38;5;28;43mself\u001b[39;49m\u001b[43m.\u001b[49m\u001b[43moptions\u001b[49m\u001b[43m.\u001b[49m\u001b[43mget\u001b[49m\u001b[43m(\u001b[49m\u001b[33;43m\"\u001b[39;49m\u001b[33;43mmemory_map\u001b[39;49m\u001b[33;43m\"\u001b[39;49m\u001b[43m,\u001b[49m\u001b[43m \u001b[49m\u001b[38;5;28;43;01mFalse\u001b[39;49;00m\u001b[43m)\u001b[49m\u001b[43m,\u001b[49m\n\u001b[32m   1886\u001b[39m \u001b[43m    \u001b[49m\u001b[43mis_text\u001b[49m\u001b[43m=\u001b[49m\u001b[43mis_text\u001b[49m\u001b[43m,\u001b[49m\n\u001b[32m   1887\u001b[39m \u001b[43m    \u001b[49m\u001b[43merrors\u001b[49m\u001b[43m=\u001b[49m\u001b[38;5;28;43mself\u001b[39;49m\u001b[43m.\u001b[49m\u001b[43moptions\u001b[49m\u001b[43m.\u001b[49m\u001b[43mget\u001b[49m\u001b[43m(\u001b[49m\u001b[33;43m\"\u001b[39;49m\u001b[33;43mencoding_errors\u001b[39;49m\u001b[33;43m\"\u001b[39;49m\u001b[43m,\u001b[49m\u001b[43m \u001b[49m\u001b[33;43m\"\u001b[39;49m\u001b[33;43mstrict\u001b[39;49m\u001b[33;43m\"\u001b[39;49m\u001b[43m)\u001b[49m\u001b[43m,\u001b[49m\n\u001b[32m   1888\u001b[39m \u001b[43m    \u001b[49m\u001b[43mstorage_options\u001b[49m\u001b[43m=\u001b[49m\u001b[38;5;28;43mself\u001b[39;49m\u001b[43m.\u001b[49m\u001b[43moptions\u001b[49m\u001b[43m.\u001b[49m\u001b[43mget\u001b[49m\u001b[43m(\u001b[49m\u001b[33;43m\"\u001b[39;49m\u001b[33;43mstorage_options\u001b[39;49m\u001b[33;43m\"\u001b[39;49m\u001b[43m,\u001b[49m\u001b[43m \u001b[49m\u001b[38;5;28;43;01mNone\u001b[39;49;00m\u001b[43m)\u001b[49m\u001b[43m,\u001b[49m\n\u001b[32m   1889\u001b[39m \u001b[43m\u001b[49m\u001b[43m)\u001b[49m\n\u001b[32m   1890\u001b[39m \u001b[38;5;28;01massert\u001b[39;00m \u001b[38;5;28mself\u001b[39m.handles \u001b[38;5;129;01mis\u001b[39;00m \u001b[38;5;129;01mnot\u001b[39;00m \u001b[38;5;28;01mNone\u001b[39;00m\n\u001b[32m   1891\u001b[39m f = \u001b[38;5;28mself\u001b[39m.handles.handle\n",
      "\u001b[36mFile \u001b[39m\u001b[32m/srv/conda/envs/notebook/lib/python3.11/site-packages/pandas/io/common.py:873\u001b[39m, in \u001b[36mget_handle\u001b[39m\u001b[34m(path_or_buf, mode, encoding, compression, memory_map, is_text, errors, storage_options)\u001b[39m\n\u001b[32m    868\u001b[39m \u001b[38;5;28;01melif\u001b[39;00m \u001b[38;5;28misinstance\u001b[39m(handle, \u001b[38;5;28mstr\u001b[39m):\n\u001b[32m    869\u001b[39m     \u001b[38;5;66;03m# Check whether the filename is to be opened in binary mode.\u001b[39;00m\n\u001b[32m    870\u001b[39m     \u001b[38;5;66;03m# Binary mode does not support 'encoding' and 'newline'.\u001b[39;00m\n\u001b[32m    871\u001b[39m     \u001b[38;5;28;01mif\u001b[39;00m ioargs.encoding \u001b[38;5;129;01mand\u001b[39;00m \u001b[33m\"\u001b[39m\u001b[33mb\u001b[39m\u001b[33m\"\u001b[39m \u001b[38;5;129;01mnot\u001b[39;00m \u001b[38;5;129;01min\u001b[39;00m ioargs.mode:\n\u001b[32m    872\u001b[39m         \u001b[38;5;66;03m# Encoding\u001b[39;00m\n\u001b[32m--> \u001b[39m\u001b[32m873\u001b[39m         handle = \u001b[38;5;28;43mopen\u001b[39;49m\u001b[43m(\u001b[49m\n\u001b[32m    874\u001b[39m \u001b[43m            \u001b[49m\u001b[43mhandle\u001b[49m\u001b[43m,\u001b[49m\n\u001b[32m    875\u001b[39m \u001b[43m            \u001b[49m\u001b[43mioargs\u001b[49m\u001b[43m.\u001b[49m\u001b[43mmode\u001b[49m\u001b[43m,\u001b[49m\n\u001b[32m    876\u001b[39m \u001b[43m            \u001b[49m\u001b[43mencoding\u001b[49m\u001b[43m=\u001b[49m\u001b[43mioargs\u001b[49m\u001b[43m.\u001b[49m\u001b[43mencoding\u001b[49m\u001b[43m,\u001b[49m\n\u001b[32m    877\u001b[39m \u001b[43m            \u001b[49m\u001b[43merrors\u001b[49m\u001b[43m=\u001b[49m\u001b[43merrors\u001b[49m\u001b[43m,\u001b[49m\n\u001b[32m    878\u001b[39m \u001b[43m            \u001b[49m\u001b[43mnewline\u001b[49m\u001b[43m=\u001b[49m\u001b[33;43m\"\u001b[39;49m\u001b[33;43m\"\u001b[39;49m\u001b[43m,\u001b[49m\n\u001b[32m    879\u001b[39m \u001b[43m        \u001b[49m\u001b[43m)\u001b[49m\n\u001b[32m    880\u001b[39m     \u001b[38;5;28;01melse\u001b[39;00m:\n\u001b[32m    881\u001b[39m         \u001b[38;5;66;03m# Binary mode\u001b[39;00m\n\u001b[32m    882\u001b[39m         handle = \u001b[38;5;28mopen\u001b[39m(handle, ioargs.mode)\n",
      "\u001b[31mFileNotFoundError\u001b[39m: [Errno 2] No such file or directory: 'Pam_vu_df.csv'"
     ]
    }
   ],
   "source": [
    "tc_pam = pd.read_csv(\"Pam_vu_df.csv\")\n",
    "tc_harold_vu = pd.read_csv(\"Harold_vu_df.csv\")\n",
    "tc_harold_fj = pd.read_csv(\"Harold_fj_df.csv\")\n",
    "tc_winston = pd.read_csv(\"Winston_df.csv\")\n",
    "tc_yasa = pd.read_csv(\"Yasa_df.csv\")"
   ]
  },
  {
   "cell_type": "code",
   "execution_count": 21,
   "id": "82e8766b-e7aa-488d-90d7-cf9d55380ab9",
   "metadata": {},
   "outputs": [
    {
     "data": {
      "text/html": [
       "<div>\n",
       "<style scoped>\n",
       "    .dataframe tbody tr th:only-of-type {\n",
       "        vertical-align: middle;\n",
       "    }\n",
       "\n",
       "    .dataframe tbody tr th {\n",
       "        vertical-align: top;\n",
       "    }\n",
       "\n",
       "    .dataframe thead th {\n",
       "        text-align: right;\n",
       "    }\n",
       "</style>\n",
       "<table border=\"1\" class=\"dataframe\">\n",
       "  <thead>\n",
       "    <tr style=\"text-align: right;\">\n",
       "      <th></th>\n",
       "      <th>Year</th>\n",
       "      <th>64 knots swath km2</th>\n",
       "      <th>50 knots swath km2</th>\n",
       "      <th>34 knots swath km2</th>\n",
       "      <th>other tree cover loss km2</th>\n",
       "    </tr>\n",
       "  </thead>\n",
       "  <tbody>\n",
       "    <tr>\n",
       "      <th>0</th>\n",
       "      <td>2015</td>\n",
       "      <td>26.125647</td>\n",
       "      <td>6.356373</td>\n",
       "      <td>2.81331</td>\n",
       "      <td>0.0</td>\n",
       "    </tr>\n",
       "  </tbody>\n",
       "</table>\n",
       "</div>"
      ],
      "text/plain": [
       "   Year  64 knots swath km2  50 knots swath km2  34 knots swath km2  \\\n",
       "0  2015           26.125647            6.356373             2.81331   \n",
       "\n",
       "   other tree cover loss km2  \n",
       "0                        0.0  "
      ]
     },
     "execution_count": 21,
     "metadata": {},
     "output_type": "execute_result"
    }
   ],
   "source": [
    "tc_pam"
   ]
  },
  {
   "cell_type": "code",
   "execution_count": 22,
   "id": "c0b19306-23f1-4384-89e8-f442078726e9",
   "metadata": {},
   "outputs": [
    {
     "data": {
      "text/html": [
       "<div>\n",
       "<style scoped>\n",
       "    .dataframe tbody tr th:only-of-type {\n",
       "        vertical-align: middle;\n",
       "    }\n",
       "\n",
       "    .dataframe tbody tr th {\n",
       "        vertical-align: top;\n",
       "    }\n",
       "\n",
       "    .dataframe thead th {\n",
       "        text-align: right;\n",
       "    }\n",
       "</style>\n",
       "<table border=\"1\" class=\"dataframe\">\n",
       "  <thead>\n",
       "    <tr style=\"text-align: right;\">\n",
       "      <th></th>\n",
       "      <th>Year</th>\n",
       "      <th>64 knot swath</th>\n",
       "      <th>50 knot swath</th>\n",
       "      <th>34 knot swath</th>\n",
       "      <th>other tree cover loss</th>\n",
       "    </tr>\n",
       "  </thead>\n",
       "  <tbody>\n",
       "    <tr>\n",
       "      <th>0</th>\n",
       "      <td>2015</td>\n",
       "      <td>26.125647</td>\n",
       "      <td>6.356373</td>\n",
       "      <td>2.81331</td>\n",
       "      <td>0.0</td>\n",
       "    </tr>\n",
       "  </tbody>\n",
       "</table>\n",
       "</div>"
      ],
      "text/plain": [
       "   Year  64 knot swath  50 knot swath  34 knot swath  other tree cover loss\n",
       "0  2015      26.125647       6.356373        2.81331                    0.0"
      ]
     },
     "execution_count": 22,
     "metadata": {},
     "output_type": "execute_result"
    }
   ],
   "source": [
    "tc_pam.rename(columns={'64 knots swath km2': '64 knot swath', '50 knots swath km2': '50 knot swath', '34 knots swath km2': '34 knot swath', 'other tree cover loss km2': 'other tree cover loss'}, inplace=True)\n",
    "tc_pam"
   ]
  },
  {
   "cell_type": "code",
   "execution_count": 23,
   "id": "66a5dce5-46e9-4fdd-8559-1f72a5cdb751",
   "metadata": {},
   "outputs": [
    {
     "data": {
      "text/html": [
       "<div>\n",
       "<style scoped>\n",
       "    .dataframe tbody tr th:only-of-type {\n",
       "        vertical-align: middle;\n",
       "    }\n",
       "\n",
       "    .dataframe tbody tr th {\n",
       "        vertical-align: top;\n",
       "    }\n",
       "\n",
       "    .dataframe thead th {\n",
       "        text-align: right;\n",
       "    }\n",
       "</style>\n",
       "<table border=\"1\" class=\"dataframe\">\n",
       "  <thead>\n",
       "    <tr style=\"text-align: right;\">\n",
       "      <th></th>\n",
       "      <th>Year</th>\n",
       "      <th>64 knots swath km2</th>\n",
       "      <th>50 knots swath km2</th>\n",
       "      <th>34 knots swath km2</th>\n",
       "      <th>other tree cover loss km2</th>\n",
       "    </tr>\n",
       "  </thead>\n",
       "  <tbody>\n",
       "    <tr>\n",
       "      <th>0</th>\n",
       "      <td>2020</td>\n",
       "      <td>38.829792</td>\n",
       "      <td>0.156586</td>\n",
       "      <td>0.243863</td>\n",
       "      <td>0.0</td>\n",
       "    </tr>\n",
       "  </tbody>\n",
       "</table>\n",
       "</div>"
      ],
      "text/plain": [
       "   Year  64 knots swath km2  50 knots swath km2  34 knots swath km2  \\\n",
       "0  2020           38.829792            0.156586            0.243863   \n",
       "\n",
       "   other tree cover loss km2  \n",
       "0                        0.0  "
      ]
     },
     "execution_count": 23,
     "metadata": {},
     "output_type": "execute_result"
    }
   ],
   "source": [
    "tc_harold_vu"
   ]
  },
  {
   "cell_type": "code",
   "execution_count": 24,
   "id": "007ee8ca-374f-4717-a067-7e7fe11ce835",
   "metadata": {},
   "outputs": [
    {
     "data": {
      "text/html": [
       "<div>\n",
       "<style scoped>\n",
       "    .dataframe tbody tr th:only-of-type {\n",
       "        vertical-align: middle;\n",
       "    }\n",
       "\n",
       "    .dataframe tbody tr th {\n",
       "        vertical-align: top;\n",
       "    }\n",
       "\n",
       "    .dataframe thead th {\n",
       "        text-align: right;\n",
       "    }\n",
       "</style>\n",
       "<table border=\"1\" class=\"dataframe\">\n",
       "  <thead>\n",
       "    <tr style=\"text-align: right;\">\n",
       "      <th></th>\n",
       "      <th>Year</th>\n",
       "      <th>64 knot swath</th>\n",
       "      <th>50 knot swath</th>\n",
       "      <th>34 knot swath</th>\n",
       "      <th>other tree cover loss</th>\n",
       "    </tr>\n",
       "  </thead>\n",
       "  <tbody>\n",
       "    <tr>\n",
       "      <th>0</th>\n",
       "      <td>2020</td>\n",
       "      <td>38.829792</td>\n",
       "      <td>0.156586</td>\n",
       "      <td>0.243863</td>\n",
       "      <td>0.0</td>\n",
       "    </tr>\n",
       "  </tbody>\n",
       "</table>\n",
       "</div>"
      ],
      "text/plain": [
       "   Year  64 knot swath  50 knot swath  34 knot swath  other tree cover loss\n",
       "0  2020      38.829792       0.156586       0.243863                    0.0"
      ]
     },
     "execution_count": 24,
     "metadata": {},
     "output_type": "execute_result"
    }
   ],
   "source": [
    "tc_harold_vu.rename(columns={'64 knots swath km2': '64 knot swath', '50 knots swath km2': '50 knot swath', '34 knots swath km2': '34 knot swath', 'other tree cover loss km2': 'other tree cover loss'}, inplace=True)\n",
    "tc_harold_vu"
   ]
  },
  {
   "cell_type": "code",
   "execution_count": 25,
   "id": "73e4e87e-89e1-4b55-adc4-d2c16cba0e8d",
   "metadata": {},
   "outputs": [
    {
     "data": {
      "text/html": [
       "<div>\n",
       "<style scoped>\n",
       "    .dataframe tbody tr th:only-of-type {\n",
       "        vertical-align: middle;\n",
       "    }\n",
       "\n",
       "    .dataframe tbody tr th {\n",
       "        vertical-align: top;\n",
       "    }\n",
       "\n",
       "    .dataframe thead th {\n",
       "        text-align: right;\n",
       "    }\n",
       "</style>\n",
       "<table border=\"1\" class=\"dataframe\">\n",
       "  <thead>\n",
       "    <tr style=\"text-align: right;\">\n",
       "      <th></th>\n",
       "      <th>Year</th>\n",
       "      <th>34 knots swath km2</th>\n",
       "      <th>50 knots swath km2</th>\n",
       "      <th>64 knots swath km2</th>\n",
       "      <th>other tree cover loss km2</th>\n",
       "    </tr>\n",
       "  </thead>\n",
       "  <tbody>\n",
       "    <tr>\n",
       "      <th>0</th>\n",
       "      <td>2020</td>\n",
       "      <td>10.83943</td>\n",
       "      <td>7.636959</td>\n",
       "      <td>2.641477</td>\n",
       "      <td>9.83057</td>\n",
       "    </tr>\n",
       "  </tbody>\n",
       "</table>\n",
       "</div>"
      ],
      "text/plain": [
       "   Year  34 knots swath km2  50 knots swath km2  64 knots swath km2  \\\n",
       "0  2020            10.83943            7.636959            2.641477   \n",
       "\n",
       "   other tree cover loss km2  \n",
       "0                    9.83057  "
      ]
     },
     "execution_count": 25,
     "metadata": {},
     "output_type": "execute_result"
    }
   ],
   "source": [
    "tc_harold_fj"
   ]
  },
  {
   "cell_type": "code",
   "execution_count": 26,
   "id": "6d1fd3e4-f5df-49dc-9505-8460fc7b5457",
   "metadata": {},
   "outputs": [
    {
     "data": {
      "text/html": [
       "<div>\n",
       "<style scoped>\n",
       "    .dataframe tbody tr th:only-of-type {\n",
       "        vertical-align: middle;\n",
       "    }\n",
       "\n",
       "    .dataframe tbody tr th {\n",
       "        vertical-align: top;\n",
       "    }\n",
       "\n",
       "    .dataframe thead th {\n",
       "        text-align: right;\n",
       "    }\n",
       "</style>\n",
       "<table border=\"1\" class=\"dataframe\">\n",
       "  <thead>\n",
       "    <tr style=\"text-align: right;\">\n",
       "      <th></th>\n",
       "      <th>Year</th>\n",
       "      <th>64 knot swath</th>\n",
       "      <th>50 knot swath</th>\n",
       "      <th>34 knot swath</th>\n",
       "      <th>other tree cover loss</th>\n",
       "    </tr>\n",
       "  </thead>\n",
       "  <tbody>\n",
       "    <tr>\n",
       "      <th>0</th>\n",
       "      <td>2020</td>\n",
       "      <td>2.641477</td>\n",
       "      <td>7.636959</td>\n",
       "      <td>10.83943</td>\n",
       "      <td>9.83057</td>\n",
       "    </tr>\n",
       "  </tbody>\n",
       "</table>\n",
       "</div>"
      ],
      "text/plain": [
       "   Year  64 knot swath  50 knot swath  34 knot swath  other tree cover loss\n",
       "0  2020       2.641477       7.636959       10.83943                9.83057"
      ]
     },
     "execution_count": 26,
     "metadata": {},
     "output_type": "execute_result"
    }
   ],
   "source": [
    "tc_harold_fj.rename(columns={'64 knots swath km2': '64 knot swath', '50 knots swath km2': '50 knot swath', '34 knots swath km2': '34 knot swath', 'other tree cover loss km2': 'other tree cover loss'}, inplace=True)\n",
    "\n",
    "tc_harold_fj['Year'] = 2020\n",
    "\n",
    "# Specify the new order of columns\n",
    "new_order = ['Year', '64 knot swath', '50 knot swath', '34 knot swath', 'other tree cover loss']\n",
    "# Reorder the DataFrame columns\n",
    "tc_harold_fj = tc_harold_fj[new_order]\n",
    "tc_harold_fj"
   ]
  },
  {
   "cell_type": "code",
   "execution_count": 27,
   "id": "f548e041-f2ae-44b4-8af0-b6f7d8b9e976",
   "metadata": {},
   "outputs": [
    {
     "data": {
      "text/html": [
       "<div>\n",
       "<style scoped>\n",
       "    .dataframe tbody tr th:only-of-type {\n",
       "        vertical-align: middle;\n",
       "    }\n",
       "\n",
       "    .dataframe tbody tr th {\n",
       "        vertical-align: top;\n",
       "    }\n",
       "\n",
       "    .dataframe thead th {\n",
       "        text-align: right;\n",
       "    }\n",
       "</style>\n",
       "<table border=\"1\" class=\"dataframe\">\n",
       "  <thead>\n",
       "    <tr style=\"text-align: right;\">\n",
       "      <th></th>\n",
       "      <th>Year</th>\n",
       "      <th>34 knots swath km2</th>\n",
       "      <th>50 knots swath km2</th>\n",
       "      <th>64 knots swath km2</th>\n",
       "      <th>64kn swath km2</th>\n",
       "      <th>50kn swath km2</th>\n",
       "      <th>34kn swath km2</th>\n",
       "      <th>other tree cover loss km2</th>\n",
       "    </tr>\n",
       "  </thead>\n",
       "  <tbody>\n",
       "    <tr>\n",
       "      <th>0</th>\n",
       "      <td>2016</td>\n",
       "      <td>83.722602</td>\n",
       "      <td>83.54802</td>\n",
       "      <td>75.585289</td>\n",
       "      <td>75.585289</td>\n",
       "      <td>7.962731</td>\n",
       "      <td>0.174582</td>\n",
       "      <td>0.007398</td>\n",
       "    </tr>\n",
       "  </tbody>\n",
       "</table>\n",
       "</div>"
      ],
      "text/plain": [
       "   Year  34 knots swath km2  50 knots swath km2  64 knots swath km2  \\\n",
       "0  2016           83.722602            83.54802           75.585289   \n",
       "\n",
       "   64kn swath km2  50kn swath km2  34kn swath km2  other tree cover loss km2  \n",
       "0       75.585289        7.962731        0.174582                   0.007398  "
      ]
     },
     "execution_count": 27,
     "metadata": {},
     "output_type": "execute_result"
    }
   ],
   "source": [
    "tc_winston"
   ]
  },
  {
   "cell_type": "code",
   "execution_count": 28,
   "id": "15964aaf-6c93-4842-917e-cd4f7472fff8",
   "metadata": {},
   "outputs": [
    {
     "data": {
      "text/html": [
       "<div>\n",
       "<style scoped>\n",
       "    .dataframe tbody tr th:only-of-type {\n",
       "        vertical-align: middle;\n",
       "    }\n",
       "\n",
       "    .dataframe tbody tr th {\n",
       "        vertical-align: top;\n",
       "    }\n",
       "\n",
       "    .dataframe thead th {\n",
       "        text-align: right;\n",
       "    }\n",
       "</style>\n",
       "<table border=\"1\" class=\"dataframe\">\n",
       "  <thead>\n",
       "    <tr style=\"text-align: right;\">\n",
       "      <th></th>\n",
       "      <th>Year</th>\n",
       "      <th>64 knot swath</th>\n",
       "      <th>50 knot swath</th>\n",
       "      <th>34 knot swath</th>\n",
       "      <th>other tree cover loss</th>\n",
       "    </tr>\n",
       "  </thead>\n",
       "  <tbody>\n",
       "    <tr>\n",
       "      <th>0</th>\n",
       "      <td>2016</td>\n",
       "      <td>75.585289</td>\n",
       "      <td>7.962731</td>\n",
       "      <td>0.174582</td>\n",
       "      <td>0.007398</td>\n",
       "    </tr>\n",
       "  </tbody>\n",
       "</table>\n",
       "</div>"
      ],
      "text/plain": [
       "   Year  64 knot swath  50 knot swath  34 knot swath  other tree cover loss\n",
       "0  2016      75.585289       7.962731       0.174582               0.007398"
      ]
     },
     "execution_count": 28,
     "metadata": {},
     "output_type": "execute_result"
    }
   ],
   "source": [
    "tc_winston.rename(columns={'64kn swath km2': '64 knot swath', '50kn swath km2': '50 knot swath', '34kn swath km2': '34 knot swath', 'other tree cover loss km2': 'other tree cover loss'}, inplace=True)\n",
    "tc_winston = tc_winston.drop(['34 knots swath km2', '50 knots swath km2', '64 knots swath km2'], axis=1)\n",
    "tc_winston"
   ]
  },
  {
   "cell_type": "code",
   "execution_count": 29,
   "id": "6e342efd-9566-4e5c-bdc8-de13d64849f8",
   "metadata": {},
   "outputs": [
    {
     "data": {
      "text/html": [
       "<div>\n",
       "<style scoped>\n",
       "    .dataframe tbody tr th:only-of-type {\n",
       "        vertical-align: middle;\n",
       "    }\n",
       "\n",
       "    .dataframe tbody tr th {\n",
       "        vertical-align: top;\n",
       "    }\n",
       "\n",
       "    .dataframe thead th {\n",
       "        text-align: right;\n",
       "    }\n",
       "</style>\n",
       "<table border=\"1\" class=\"dataframe\">\n",
       "  <thead>\n",
       "    <tr style=\"text-align: right;\">\n",
       "      <th></th>\n",
       "      <th>Year</th>\n",
       "      <th>64 knot swath</th>\n",
       "      <th>50 knot swath</th>\n",
       "      <th>34 knot swath</th>\n",
       "      <th>other tree cover loss km2</th>\n",
       "    </tr>\n",
       "  </thead>\n",
       "  <tbody>\n",
       "    <tr>\n",
       "      <th>0</th>\n",
       "      <td>2021</td>\n",
       "      <td>60.055067</td>\n",
       "      <td>0.0</td>\n",
       "      <td>11.646892</td>\n",
       "      <td>0.288041</td>\n",
       "    </tr>\n",
       "  </tbody>\n",
       "</table>\n",
       "</div>"
      ],
      "text/plain": [
       "   Year  64 knot swath  50 knot swath  34 knot swath  \\\n",
       "0  2021      60.055067            0.0      11.646892   \n",
       "\n",
       "   other tree cover loss km2  \n",
       "0                   0.288041  "
      ]
     },
     "execution_count": 29,
     "metadata": {},
     "output_type": "execute_result"
    }
   ],
   "source": [
    "tc_yasa"
   ]
  },
  {
   "cell_type": "code",
   "execution_count": 30,
   "id": "7003e71d-e3c7-41cb-9a20-e9645dde26f4",
   "metadata": {},
   "outputs": [
    {
     "data": {
      "text/html": [
       "<div>\n",
       "<style scoped>\n",
       "    .dataframe tbody tr th:only-of-type {\n",
       "        vertical-align: middle;\n",
       "    }\n",
       "\n",
       "    .dataframe tbody tr th {\n",
       "        vertical-align: top;\n",
       "    }\n",
       "\n",
       "    .dataframe thead th {\n",
       "        text-align: right;\n",
       "    }\n",
       "</style>\n",
       "<table border=\"1\" class=\"dataframe\">\n",
       "  <thead>\n",
       "    <tr style=\"text-align: right;\">\n",
       "      <th></th>\n",
       "      <th>Year</th>\n",
       "      <th>64 knot swath</th>\n",
       "      <th>50 knot swath</th>\n",
       "      <th>34 knot swath</th>\n",
       "      <th>other tree cover loss</th>\n",
       "    </tr>\n",
       "  </thead>\n",
       "  <tbody>\n",
       "    <tr>\n",
       "      <th>0</th>\n",
       "      <td>2021</td>\n",
       "      <td>60.055067</td>\n",
       "      <td>0.0</td>\n",
       "      <td>11.646892</td>\n",
       "      <td>0.288041</td>\n",
       "    </tr>\n",
       "  </tbody>\n",
       "</table>\n",
       "</div>"
      ],
      "text/plain": [
       "   Year  64 knot swath  50 knot swath  34 knot swath  other tree cover loss\n",
       "0  2021      60.055067            0.0      11.646892               0.288041"
      ]
     },
     "execution_count": 30,
     "metadata": {},
     "output_type": "execute_result"
    }
   ],
   "source": [
    "tc_yasa.rename(columns={'other tree cover loss km2': 'other tree cover loss'}, inplace=True)\n",
    "tc_yasa"
   ]
  },
  {
   "cell_type": "code",
   "execution_count": 31,
   "id": "5cb32b6a-9fb8-405c-b0db-74ff0725c398",
   "metadata": {},
   "outputs": [
    {
     "data": {
      "text/html": [
       "<div>\n",
       "<style scoped>\n",
       "    .dataframe tbody tr th:only-of-type {\n",
       "        vertical-align: middle;\n",
       "    }\n",
       "\n",
       "    .dataframe tbody tr th {\n",
       "        vertical-align: top;\n",
       "    }\n",
       "\n",
       "    .dataframe thead th {\n",
       "        text-align: right;\n",
       "    }\n",
       "</style>\n",
       "<table border=\"1\" class=\"dataframe\">\n",
       "  <thead>\n",
       "    <tr style=\"text-align: right;\">\n",
       "      <th></th>\n",
       "      <th>Year</th>\n",
       "      <th>64 knot swath</th>\n",
       "      <th>50 knot swath</th>\n",
       "      <th>34 knot swath</th>\n",
       "      <th>other tree cover loss</th>\n",
       "      <th>Tropical Cyclone</th>\n",
       "    </tr>\n",
       "  </thead>\n",
       "  <tbody>\n",
       "    <tr>\n",
       "      <th>0</th>\n",
       "      <td>2015</td>\n",
       "      <td>26.125647</td>\n",
       "      <td>6.356373</td>\n",
       "      <td>2.813310</td>\n",
       "      <td>0.000000</td>\n",
       "      <td>TC Pam Vanuatu (2015)</td>\n",
       "    </tr>\n",
       "    <tr>\n",
       "      <th>0</th>\n",
       "      <td>2020</td>\n",
       "      <td>38.829792</td>\n",
       "      <td>0.156586</td>\n",
       "      <td>0.243863</td>\n",
       "      <td>0.000000</td>\n",
       "      <td>TC Harold Vanuatu (2020)</td>\n",
       "    </tr>\n",
       "    <tr>\n",
       "      <th>0</th>\n",
       "      <td>2016</td>\n",
       "      <td>75.585289</td>\n",
       "      <td>7.962731</td>\n",
       "      <td>0.174582</td>\n",
       "      <td>0.007398</td>\n",
       "      <td>TC Winston Fiji (2016)</td>\n",
       "    </tr>\n",
       "    <tr>\n",
       "      <th>0</th>\n",
       "      <td>2020</td>\n",
       "      <td>2.641477</td>\n",
       "      <td>7.636959</td>\n",
       "      <td>10.839430</td>\n",
       "      <td>9.830570</td>\n",
       "      <td>TC Harold Fiji (2020)</td>\n",
       "    </tr>\n",
       "    <tr>\n",
       "      <th>0</th>\n",
       "      <td>2021</td>\n",
       "      <td>60.055067</td>\n",
       "      <td>0.000000</td>\n",
       "      <td>11.646892</td>\n",
       "      <td>0.288041</td>\n",
       "      <td>TC Yasa Fiji (2021)</td>\n",
       "    </tr>\n",
       "  </tbody>\n",
       "</table>\n",
       "</div>"
      ],
      "text/plain": [
       "   Year  64 knot swath  50 knot swath  34 knot swath  other tree cover loss  \\\n",
       "0  2015      26.125647       6.356373       2.813310               0.000000   \n",
       "0  2020      38.829792       0.156586       0.243863               0.000000   \n",
       "0  2016      75.585289       7.962731       0.174582               0.007398   \n",
       "0  2020       2.641477       7.636959      10.839430               9.830570   \n",
       "0  2021      60.055067       0.000000      11.646892               0.288041   \n",
       "\n",
       "           Tropical Cyclone  \n",
       "0     TC Pam Vanuatu (2015)  \n",
       "0  TC Harold Vanuatu (2020)  \n",
       "0    TC Winston Fiji (2016)  \n",
       "0     TC Harold Fiji (2020)  \n",
       "0       TC Yasa Fiji (2021)  "
      ]
     },
     "execution_count": 31,
     "metadata": {},
     "output_type": "execute_result"
    }
   ],
   "source": [
    "concatenated_df = pd.concat([tc_pam, tc_harold_vu, tc_winston,  tc_harold_fj, tc_yasa], axis=0)\n",
    "concatenated_df['Tropical Cyclone'] = ['TC Pam Vanuatu (2015)', 'TC Harold Vanuatu (2020)', 'TC Winston Fiji (2016)', 'TC Harold Fiji (2020)', 'TC Yasa Fiji (2021)']\n",
    "concatenated_df"
   ]
  },
  {
   "cell_type": "code",
   "execution_count": 32,
   "id": "1f27d405-e008-434f-bca0-608eef507ad5",
   "metadata": {},
   "outputs": [
    {
     "data": {
      "image/png": "[encoded data removed]",
      "text/plain": [
       "<Figure size 800x400 with 1 Axes>"
      ]
     },
     "metadata": {},
     "output_type": "display_data"
    }
   ],
   "source": [
    "# Set index\n",
    "concatenated_df.set_index('Tropical Cyclone', inplace=True)\n",
    "\n",
    "# List of colors for each bar\n",
    "colors = ['maroon', 'orange', 'yellow', 'grey']\n",
    "\n",
    "# Plot the bar chart with specific colors for each bar\n",
    "ax = concatenated_df.plot(kind='barh', color=colors, y=['64 knot swath', '50 knot swath','34 knot swath', 'other tree cover loss'], stacked=True, width=0.8, figsize=(8, 4), legend=True)\n",
    "\n",
    "# Set title and labels\n",
    "ax.set_title('Tree cover loss for the windspeed swaths of recent major Tropical Cyclones over Vanuatu and Fiji', fontsize=16)\n",
    "ax.set_xlabel('Tree cover loss (square km)', fontsize=14)\n",
    "ax.set_ylabel('Year', fontsize=14)\n",
    "\n",
    "# Display the plot\n",
    "plt.show()"
   ]
  },
  {
   "cell_type": "code",
   "execution_count": 33,
   "id": "811890bb-19ef-4a5d-8835-ae280e27818b",
   "metadata": {},
   "outputs": [],
   "source": [
    "concatenated_df.to_excel(\"combined_figures.xlsx\")"
   ]
  },
  {
   "cell_type": "code",
   "execution_count": 34,
   "id": "adabe2a5-3bdc-419a-a0e8-1379f78317ea",
   "metadata": {},
   "outputs": [
    {
     "data": {
      "text/html": [
       "<div>\n",
       "<style scoped>\n",
       "    .dataframe tbody tr th:only-of-type {\n",
       "        vertical-align: middle;\n",
       "    }\n",
       "\n",
       "    .dataframe tbody tr th {\n",
       "        vertical-align: top;\n",
       "    }\n",
       "\n",
       "    .dataframe thead th {\n",
       "        text-align: right;\n",
       "    }\n",
       "</style>\n",
       "<table border=\"1\" class=\"dataframe\">\n",
       "  <thead>\n",
       "    <tr style=\"text-align: right;\">\n",
       "      <th></th>\n",
       "      <th>64 knot swath</th>\n",
       "      <th>50 knot swath</th>\n",
       "      <th>34 knot swath</th>\n",
       "      <th>other tree cover loss</th>\n",
       "    </tr>\n",
       "    <tr>\n",
       "      <th>Tropical Cyclone</th>\n",
       "      <th></th>\n",
       "      <th></th>\n",
       "      <th></th>\n",
       "      <th></th>\n",
       "    </tr>\n",
       "  </thead>\n",
       "  <tbody>\n",
       "    <tr>\n",
       "      <th>TC Pam Vanuatu (2015)</th>\n",
       "      <td>26.125647</td>\n",
       "      <td>6.356373</td>\n",
       "      <td>2.813310</td>\n",
       "      <td>0.000000</td>\n",
       "    </tr>\n",
       "    <tr>\n",
       "      <th>TC Harold Vanuatu (2020)</th>\n",
       "      <td>38.829792</td>\n",
       "      <td>0.156586</td>\n",
       "      <td>0.243863</td>\n",
       "      <td>0.000000</td>\n",
       "    </tr>\n",
       "    <tr>\n",
       "      <th>TC Winston Fiji (2016)</th>\n",
       "      <td>75.585289</td>\n",
       "      <td>7.962731</td>\n",
       "      <td>0.174582</td>\n",
       "      <td>0.007398</td>\n",
       "    </tr>\n",
       "    <tr>\n",
       "      <th>TC Harold Fiji (2020)</th>\n",
       "      <td>2.641477</td>\n",
       "      <td>7.636959</td>\n",
       "      <td>10.839430</td>\n",
       "      <td>9.830570</td>\n",
       "    </tr>\n",
       "    <tr>\n",
       "      <th>TC Yasa Fiji (2021)</th>\n",
       "      <td>60.055067</td>\n",
       "      <td>0.000000</td>\n",
       "      <td>11.646892</td>\n",
       "      <td>0.288041</td>\n",
       "    </tr>\n",
       "  </tbody>\n",
       "</table>\n",
       "</div>"
      ],
      "text/plain": [
       "                          64 knot swath  50 knot swath  34 knot swath  \\\n",
       "Tropical Cyclone                                                        \n",
       "TC Pam Vanuatu (2015)         26.125647       6.356373       2.813310   \n",
       "TC Harold Vanuatu (2020)      38.829792       0.156586       0.243863   \n",
       "TC Winston Fiji (2016)        75.585289       7.962731       0.174582   \n",
       "TC Harold Fiji (2020)          2.641477       7.636959      10.839430   \n",
       "TC Yasa Fiji (2021)           60.055067       0.000000      11.646892   \n",
       "\n",
       "                          other tree cover loss  \n",
       "Tropical Cyclone                                 \n",
       "TC Pam Vanuatu (2015)                  0.000000  \n",
       "TC Harold Vanuatu (2020)               0.000000  \n",
       "TC Winston Fiji (2016)                 0.007398  \n",
       "TC Harold Fiji (2020)                  9.830570  \n",
       "TC Yasa Fiji (2021)                    0.288041  "
      ]
     },
     "execution_count": 34,
     "metadata": {},
     "output_type": "execute_result"
    }
   ],
   "source": [
    "concatenated_df.drop(['Year'], axis=1)"
   ]
  },
  {
   "cell_type": "code",
   "execution_count": null,
   "id": "6e9cd2f3-0e9f-4b6d-b934-4faa98a33b94",
   "metadata": {
    "jupyter": {
     "source_hidden": true
    }
   },
   "outputs": [],
   "source": []
  }
 ],
 "metadata": {
  "kernelspec": {
   "display_name": "Python 3 (ipykernel)",
   "language": "python",
   "name": "python3"
  },
  "language_info": {
   "codemirror_mode": {
    "name": "ipython",
    "version": 3
   },
   "file_extension": ".py",
   "mimetype": "text/x-python",
   "name": "python",
   "nbconvert_exporter": "python",
   "pygments_lexer": "ipython3",
   "version": "3.11.13"
  }
 },
 "nbformat": 4,
 "nbformat_minor": 5
}
